{
 "cells": [
  {
   "cell_type": "markdown",
   "id": "70632a75-a654-4aa8-a889-a336a6ed6006",
   "metadata": {},
   "source": [
    "# Collider Bias Correction Information"
   ]
  },
  {
   "cell_type": "markdown",
   "id": "06983d03-a4b9-44a2-b4b5-d9f6ebc6fffc",
   "metadata": {
    "tags": []
   },
   "source": [
    "## Below are the collider bias forest plot comparisons between SlopeHunter and Dudbridge\n",
    "\n",
    "MACE AFR | MACE EUR | MACE HIS\n",
    "- | - | -\n",
    "![alt](scratch/results/subsequent_mace_afr_joined_comparison.png) | ![alt](scratch/results/subsequent_mace_eur_metaanalysis_joined_comparison.png) | ![alt](scratch/results/subsequent_mace_his_joined_comparison.png)\n",
    "Clumped SNPs fed into SlopeHunter: 999 | Clumped SNPs fed into SlopeHunter: 466 | Clumped SNPs fed into SlopeHunter: 762\n",
    "SlopeHunter Entropy: 00.7961, Hunted: 40, Pleiotropic: 474 | SlopeHunter Entropy: 0.91, Hunted: 76, Pleiotropic: 147 | SlopeHunter Entropy: 0.70, Hunted: 36, Pleiotropic: 254\n",
    "\n",
    "AIS AFR | AIS EUR | AIS HIS\n",
    "- | - | -\n",
    "![alt](scratch/results/subsequent_ais_afr_joined_comparison.png) | ![alt](scratch/results/subsequent_ais_eur_metaanalysis_joined_comparison.png) | ![alt](scratch/results/subsequent_ais_his_joined_comparison.png)\n",
    "Clumped SNPs fed into SlopeHunter: 963 | Clumped SNPs fed into SlopeHunter: 491 | Clumped SNPs fed into SlopeHunter: 759\n",
    "SlopeHunter Entropy: 0.61, Hunted: 33, Pleiotropic: 481 | SlopeHunter Entropy: 0.89, Hunted: 63, Pleiotropic: 158 | SlopeHunter Entropy: 0.61, Hunted: 38, Pleiotropic: 252"
   ]
  },
  {
   "cell_type": "markdown",
   "id": "0dfd1eca-a3ab-449a-80da-dfbe9fe94b1b",
   "metadata": {},
   "source": [
    "# LD Score Information\n",
    "\n",
    "Will be added later"
   ]
  }
 ],
 "metadata": {
  "kernelspec": {
   "display_name": "R",
   "language": "R",
   "name": "ir"
  },
  "language_info": {
   "codemirror_mode": "r",
   "file_extension": ".r",
   "mimetype": "text/x-r-source",
   "name": "R",
   "pygments_lexer": "r",
   "version": "4.2.3"
  }
 },
 "nbformat": 4,
 "nbformat_minor": 5
}
