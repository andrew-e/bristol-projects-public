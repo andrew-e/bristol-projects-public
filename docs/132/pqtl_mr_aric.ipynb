{
 "cells": [
  {
   "cell_type": "markdown",
   "id": "edc55e51-918d-4280-a898-2b1a75b014d4",
   "metadata": {},
   "source": [
    "# Results from Running MR on pQTL data\n",
    "\n",
    "Below are results from \n",
    "* pQTL -> published AIS\n",
    "* pQTL -> Subsequent MACE (original, slopehunter adjusted)\n",
    "* pQTL -> Subsequent AIS (original, slopehunter adjusted)\n",
    "\n"
   ]
  },
  {
   "cell_type": "code",
   "execution_count": 1,
   "id": "47d07302-319e-43c4-b902-0101d9a55ffb",
   "metadata": {
    "tags": []
   },
   "outputs": [
    {
     "data": {
      "text/markdown": [
       "## MR for CIS ONLY pQTLs in AFR"
      ]
     },
     "metadata": {},
     "output_type": "display_data"
    },
    {
     "data": {
      "text/markdown": [
       "### MR Subsequent MACE by adjusted p palue"
      ]
     },
     "metadata": {},
     "output_type": "display_data"
    },
    {
     "data": {
      "text/html": [
       "<table class=\"dataframe\">\n",
       "<caption>A data.table: 6 × 10</caption>\n",
       "<thead>\n",
       "\t<tr><th scope=col>id.exposure</th><th scope=col>id.outcome</th><th scope=col>outcome</th><th scope=col>exposure</th><th scope=col>method</th><th scope=col>nsnp</th><th scope=col>b</th><th scope=col>se</th><th scope=col>pval</th><th scope=col>pval_adjusted</th></tr>\n",
       "\t<tr><th scope=col>&lt;chr&gt;</th><th scope=col>&lt;chr&gt;</th><th scope=col>&lt;chr&gt;</th><th scope=col>&lt;chr&gt;</th><th scope=col>&lt;chr&gt;</th><th scope=col>&lt;int&gt;</th><th scope=col>&lt;dbl&gt;</th><th scope=col>&lt;dbl&gt;</th><th scope=col>&lt;dbl&gt;</th><th scope=col>&lt;dbl&gt;</th></tr>\n",
       "</thead>\n",
       "<tbody>\n",
       "\t<tr><td>0t0iBD</td><td>15dGIn</td><td>aric_subsequent_mace</td><td>SERPINA5</td><td>Wald ratio               </td><td>1</td><td>-0.11100901</td><td>0.10844554</td><td>0.3060062</td><td>0.8322271</td></tr>\n",
       "\t<tr><td>0ujRjS</td><td>15dGIn</td><td>aric_subsequent_mace</td><td>FAM177A1</td><td>Wald ratio               </td><td>1</td><td> 0.04476413</td><td>0.03119697</td><td>0.1513192</td><td>0.8322271</td></tr>\n",
       "\t<tr><td>1T94QZ</td><td>15dGIn</td><td>aric_subsequent_mace</td><td>LEFTY2  </td><td>Wald ratio               </td><td>1</td><td> 0.11597316</td><td>0.08480861</td><td>0.1714783</td><td>0.8322271</td></tr>\n",
       "\t<tr><td>1XICrM</td><td>15dGIn</td><td>aric_subsequent_mace</td><td>GSTM1   </td><td>Wald ratio               </td><td>1</td><td> 0.13924181</td><td>0.10676478</td><td>0.1921680</td><td>0.8322271</td></tr>\n",
       "\t<tr><td>2UYnnp</td><td>15dGIn</td><td>aric_subsequent_mace</td><td>PSG3    </td><td>Wald ratio               </td><td>1</td><td>-0.07100647</td><td>0.06874337</td><td>0.3016409</td><td>0.8322271</td></tr>\n",
       "\t<tr><td>2zVXye</td><td>15dGIn</td><td>aric_subsequent_mace</td><td>THG1L   </td><td>Inverse variance weighted</td><td>2</td><td>-0.03262634</td><td>0.03022825</td><td>0.2804394</td><td>0.8322271</td></tr>\n",
       "</tbody>\n",
       "</table>\n"
      ],
      "text/latex": [
       "A data.table: 6 × 10\n",
       "\\begin{tabular}{llllllllll}\n",
       " id.exposure & id.outcome & outcome & exposure & method & nsnp & b & se & pval & pval\\_adjusted\\\\\n",
       " <chr> & <chr> & <chr> & <chr> & <chr> & <int> & <dbl> & <dbl> & <dbl> & <dbl>\\\\\n",
       "\\hline\n",
       "\t 0t0iBD & 15dGIn & aric\\_subsequent\\_mace & SERPINA5 & Wald ratio                & 1 & -0.11100901 & 0.10844554 & 0.3060062 & 0.8322271\\\\\n",
       "\t 0ujRjS & 15dGIn & aric\\_subsequent\\_mace & FAM177A1 & Wald ratio                & 1 &  0.04476413 & 0.03119697 & 0.1513192 & 0.8322271\\\\\n",
       "\t 1T94QZ & 15dGIn & aric\\_subsequent\\_mace & LEFTY2   & Wald ratio                & 1 &  0.11597316 & 0.08480861 & 0.1714783 & 0.8322271\\\\\n",
       "\t 1XICrM & 15dGIn & aric\\_subsequent\\_mace & GSTM1    & Wald ratio                & 1 &  0.13924181 & 0.10676478 & 0.1921680 & 0.8322271\\\\\n",
       "\t 2UYnnp & 15dGIn & aric\\_subsequent\\_mace & PSG3     & Wald ratio                & 1 & -0.07100647 & 0.06874337 & 0.3016409 & 0.8322271\\\\\n",
       "\t 2zVXye & 15dGIn & aric\\_subsequent\\_mace & THG1L    & Inverse variance weighted & 2 & -0.03262634 & 0.03022825 & 0.2804394 & 0.8322271\\\\\n",
       "\\end{tabular}\n"
      ],
      "text/markdown": [
       "\n",
       "A data.table: 6 × 10\n",
       "\n",
       "| id.exposure &lt;chr&gt; | id.outcome &lt;chr&gt; | outcome &lt;chr&gt; | exposure &lt;chr&gt; | method &lt;chr&gt; | nsnp &lt;int&gt; | b &lt;dbl&gt; | se &lt;dbl&gt; | pval &lt;dbl&gt; | pval_adjusted &lt;dbl&gt; |\n",
       "|---|---|---|---|---|---|---|---|---|---|\n",
       "| 0t0iBD | 15dGIn | aric_subsequent_mace | SERPINA5 | Wald ratio                | 1 | -0.11100901 | 0.10844554 | 0.3060062 | 0.8322271 |\n",
       "| 0ujRjS | 15dGIn | aric_subsequent_mace | FAM177A1 | Wald ratio                | 1 |  0.04476413 | 0.03119697 | 0.1513192 | 0.8322271 |\n",
       "| 1T94QZ | 15dGIn | aric_subsequent_mace | LEFTY2   | Wald ratio                | 1 |  0.11597316 | 0.08480861 | 0.1714783 | 0.8322271 |\n",
       "| 1XICrM | 15dGIn | aric_subsequent_mace | GSTM1    | Wald ratio                | 1 |  0.13924181 | 0.10676478 | 0.1921680 | 0.8322271 |\n",
       "| 2UYnnp | 15dGIn | aric_subsequent_mace | PSG3     | Wald ratio                | 1 | -0.07100647 | 0.06874337 | 0.3016409 | 0.8322271 |\n",
       "| 2zVXye | 15dGIn | aric_subsequent_mace | THG1L    | Inverse variance weighted | 2 | -0.03262634 | 0.03022825 | 0.2804394 | 0.8322271 |\n",
       "\n"
      ],
      "text/plain": [
       "  id.exposure id.outcome outcome              exposure\n",
       "1 0t0iBD      15dGIn     aric_subsequent_mace SERPINA5\n",
       "2 0ujRjS      15dGIn     aric_subsequent_mace FAM177A1\n",
       "3 1T94QZ      15dGIn     aric_subsequent_mace LEFTY2  \n",
       "4 1XICrM      15dGIn     aric_subsequent_mace GSTM1   \n",
       "5 2UYnnp      15dGIn     aric_subsequent_mace PSG3    \n",
       "6 2zVXye      15dGIn     aric_subsequent_mace THG1L   \n",
       "  method                    nsnp b           se         pval      pval_adjusted\n",
       "1 Wald ratio                1    -0.11100901 0.10844554 0.3060062 0.8322271    \n",
       "2 Wald ratio                1     0.04476413 0.03119697 0.1513192 0.8322271    \n",
       "3 Wald ratio                1     0.11597316 0.08480861 0.1714783 0.8322271    \n",
       "4 Wald ratio                1     0.13924181 0.10676478 0.1921680 0.8322271    \n",
       "5 Wald ratio                1    -0.07100647 0.06874337 0.3016409 0.8322271    \n",
       "6 Inverse variance weighted 2    -0.03262634 0.03022825 0.2804394 0.8322271    "
      ]
     },
     "metadata": {},
     "output_type": "display_data"
    },
    {
     "data": {
      "text/markdown": [
       "### MR Subsequent AIS Corrected Ordered by adjusted p palue"
      ]
     },
     "metadata": {},
     "output_type": "display_data"
    },
    {
     "data": {
      "text/html": [
       "<table class=\"dataframe\">\n",
       "<caption>A data.table: 6 × 10</caption>\n",
       "<thead>\n",
       "\t<tr><th scope=col>id.exposure</th><th scope=col>id.outcome</th><th scope=col>outcome</th><th scope=col>exposure</th><th scope=col>method</th><th scope=col>nsnp</th><th scope=col>b</th><th scope=col>se</th><th scope=col>pval</th><th scope=col>pval_adjusted</th></tr>\n",
       "\t<tr><th scope=col>&lt;chr&gt;</th><th scope=col>&lt;chr&gt;</th><th scope=col>&lt;chr&gt;</th><th scope=col>&lt;chr&gt;</th><th scope=col>&lt;chr&gt;</th><th scope=col>&lt;int&gt;</th><th scope=col>&lt;dbl&gt;</th><th scope=col>&lt;dbl&gt;</th><th scope=col>&lt;dbl&gt;</th><th scope=col>&lt;dbl&gt;</th></tr>\n",
       "</thead>\n",
       "<tbody>\n",
       "\t<tr><td>9NT4kd</td><td>zb8l1H</td><td>aric_subsequent_ais_dudbridge</td><td>IL6R </td><td>Wald ratio</td><td>1</td><td> 0.4015853</td><td>0.14013710</td><td>0.004161413</td><td>0.3925599</td></tr>\n",
       "\t<tr><td>gSDjDs</td><td>zb8l1H</td><td>aric_subsequent_ais_dudbridge</td><td>BAG1 </td><td>Wald ratio</td><td>1</td><td> 0.2196227</td><td>0.07309956</td><td>0.002660770</td><td>0.3925599</td></tr>\n",
       "\t<tr><td>mcL58H</td><td>zb8l1H</td><td>aric_subsequent_ais_dudbridge</td><td>RAB1A</td><td>Wald ratio</td><td>1</td><td>-0.3735150</td><td>0.12966619</td><td>0.003969334</td><td>0.3925599</td></tr>\n",
       "\t<tr><td>9NT4kd</td><td>qgq8PS</td><td>aric_subsequent_ais          </td><td>IL6R </td><td>Wald ratio</td><td>1</td><td> 0.3933163</td><td>0.13943474</td><td>0.004790534</td><td>0.4519070</td></tr>\n",
       "\t<tr><td>gSDjDs</td><td>qgq8PS</td><td>aric_subsequent_ais          </td><td>BAG1 </td><td>Wald ratio</td><td>1</td><td> 0.2248141</td><td>0.07272038</td><td>0.001991565</td><td>0.4519070</td></tr>\n",
       "\t<tr><td>mcL58H</td><td>qgq8PS</td><td>aric_subsequent_ais          </td><td>RAB1A</td><td>Wald ratio</td><td>1</td><td>-0.3768847</td><td>0.12907893</td><td>0.003502555</td><td>0.4519070</td></tr>\n",
       "</tbody>\n",
       "</table>\n"
      ],
      "text/latex": [
       "A data.table: 6 × 10\n",
       "\\begin{tabular}{llllllllll}\n",
       " id.exposure & id.outcome & outcome & exposure & method & nsnp & b & se & pval & pval\\_adjusted\\\\\n",
       " <chr> & <chr> & <chr> & <chr> & <chr> & <int> & <dbl> & <dbl> & <dbl> & <dbl>\\\\\n",
       "\\hline\n",
       "\t 9NT4kd & zb8l1H & aric\\_subsequent\\_ais\\_dudbridge & IL6R  & Wald ratio & 1 &  0.4015853 & 0.14013710 & 0.004161413 & 0.3925599\\\\\n",
       "\t gSDjDs & zb8l1H & aric\\_subsequent\\_ais\\_dudbridge & BAG1  & Wald ratio & 1 &  0.2196227 & 0.07309956 & 0.002660770 & 0.3925599\\\\\n",
       "\t mcL58H & zb8l1H & aric\\_subsequent\\_ais\\_dudbridge & RAB1A & Wald ratio & 1 & -0.3735150 & 0.12966619 & 0.003969334 & 0.3925599\\\\\n",
       "\t 9NT4kd & qgq8PS & aric\\_subsequent\\_ais           & IL6R  & Wald ratio & 1 &  0.3933163 & 0.13943474 & 0.004790534 & 0.4519070\\\\\n",
       "\t gSDjDs & qgq8PS & aric\\_subsequent\\_ais           & BAG1  & Wald ratio & 1 &  0.2248141 & 0.07272038 & 0.001991565 & 0.4519070\\\\\n",
       "\t mcL58H & qgq8PS & aric\\_subsequent\\_ais           & RAB1A & Wald ratio & 1 & -0.3768847 & 0.12907893 & 0.003502555 & 0.4519070\\\\\n",
       "\\end{tabular}\n"
      ],
      "text/markdown": [
       "\n",
       "A data.table: 6 × 10\n",
       "\n",
       "| id.exposure &lt;chr&gt; | id.outcome &lt;chr&gt; | outcome &lt;chr&gt; | exposure &lt;chr&gt; | method &lt;chr&gt; | nsnp &lt;int&gt; | b &lt;dbl&gt; | se &lt;dbl&gt; | pval &lt;dbl&gt; | pval_adjusted &lt;dbl&gt; |\n",
       "|---|---|---|---|---|---|---|---|---|---|\n",
       "| 9NT4kd | zb8l1H | aric_subsequent_ais_dudbridge | IL6R  | Wald ratio | 1 |  0.4015853 | 0.14013710 | 0.004161413 | 0.3925599 |\n",
       "| gSDjDs | zb8l1H | aric_subsequent_ais_dudbridge | BAG1  | Wald ratio | 1 |  0.2196227 | 0.07309956 | 0.002660770 | 0.3925599 |\n",
       "| mcL58H | zb8l1H | aric_subsequent_ais_dudbridge | RAB1A | Wald ratio | 1 | -0.3735150 | 0.12966619 | 0.003969334 | 0.3925599 |\n",
       "| 9NT4kd | qgq8PS | aric_subsequent_ais           | IL6R  | Wald ratio | 1 |  0.3933163 | 0.13943474 | 0.004790534 | 0.4519070 |\n",
       "| gSDjDs | qgq8PS | aric_subsequent_ais           | BAG1  | Wald ratio | 1 |  0.2248141 | 0.07272038 | 0.001991565 | 0.4519070 |\n",
       "| mcL58H | qgq8PS | aric_subsequent_ais           | RAB1A | Wald ratio | 1 | -0.3768847 | 0.12907893 | 0.003502555 | 0.4519070 |\n",
       "\n"
      ],
      "text/plain": [
       "  id.exposure id.outcome outcome                       exposure method     nsnp\n",
       "1 9NT4kd      zb8l1H     aric_subsequent_ais_dudbridge IL6R     Wald ratio 1   \n",
       "2 gSDjDs      zb8l1H     aric_subsequent_ais_dudbridge BAG1     Wald ratio 1   \n",
       "3 mcL58H      zb8l1H     aric_subsequent_ais_dudbridge RAB1A    Wald ratio 1   \n",
       "4 9NT4kd      qgq8PS     aric_subsequent_ais           IL6R     Wald ratio 1   \n",
       "5 gSDjDs      qgq8PS     aric_subsequent_ais           BAG1     Wald ratio 1   \n",
       "6 mcL58H      qgq8PS     aric_subsequent_ais           RAB1A    Wald ratio 1   \n",
       "  b          se         pval        pval_adjusted\n",
       "1  0.4015853 0.14013710 0.004161413 0.3925599    \n",
       "2  0.2196227 0.07309956 0.002660770 0.3925599    \n",
       "3 -0.3735150 0.12966619 0.003969334 0.3925599    \n",
       "4  0.3933163 0.13943474 0.004790534 0.4519070    \n",
       "5  0.2248141 0.07272038 0.001991565 0.4519070    \n",
       "6 -0.3768847 0.12907893 0.003502555 0.4519070    "
      ]
     },
     "metadata": {},
     "output_type": "display_data"
    },
    {
     "data": {
      "text/markdown": [
       "### MR Incident AIS"
      ]
     },
     "metadata": {},
     "output_type": "display_data"
    },
    {
     "data": {
      "text/html": [
       "<table class=\"dataframe\">\n",
       "<caption>A data.table: 6 × 10</caption>\n",
       "<thead>\n",
       "\t<tr><th scope=col>id.exposure</th><th scope=col>id.outcome</th><th scope=col>outcome</th><th scope=col>exposure</th><th scope=col>method</th><th scope=col>nsnp</th><th scope=col>b</th><th scope=col>se</th><th scope=col>pval</th><th scope=col>pval_adjusted</th></tr>\n",
       "\t<tr><th scope=col>&lt;chr&gt;</th><th scope=col>&lt;chr&gt;</th><th scope=col>&lt;chr&gt;</th><th scope=col>&lt;chr&gt;</th><th scope=col>&lt;chr&gt;</th><th scope=col>&lt;int&gt;</th><th scope=col>&lt;dbl&gt;</th><th scope=col>&lt;dbl&gt;</th><th scope=col>&lt;dbl&gt;</th><th scope=col>&lt;dbl&gt;</th></tr>\n",
       "</thead>\n",
       "<tbody>\n",
       "\t<tr><td>whMpIs</td><td>vQwiMS</td><td>aric_published_ais_eur</td><td>MMP12   </td><td>Inverse variance weighted</td><td>2</td><td>-0.06682287</td><td>0.01426005</td><td>2.785699e-06</td><td>0.003615837</td></tr>\n",
       "\t<tr><td>WrR2Ox</td><td>vQwiMS</td><td>aric_published_ais_eur</td><td>TMEM106B</td><td>Wald ratio               </td><td>1</td><td>-0.08205328</td><td>0.02061054</td><td>6.858782e-05</td><td>0.044513497</td></tr>\n",
       "\t<tr><td>WYdhGU</td><td>vQwiMS</td><td>aric_published_ais_eur</td><td>CST6    </td><td>Wald ratio               </td><td>1</td><td> 0.06842552</td><td>0.01783603</td><td>1.248695e-04</td><td>0.054026861</td></tr>\n",
       "\t<tr><td>5SS6n7</td><td>aVNJjg</td><td>aric_first_ais_afr    </td><td>TMEM106B</td><td>Wald ratio               </td><td>1</td><td> 0.13942820</td><td>0.03935664</td><td>3.960747e-04</td><td>0.056044570</td></tr>\n",
       "\t<tr><td>uDVscO</td><td>aVNJjg</td><td>aric_first_ais_afr    </td><td>AIP     </td><td>Wald ratio               </td><td>1</td><td> 0.11848360</td><td>0.03315743</td><td>3.524225e-04</td><td>0.056044570</td></tr>\n",
       "\t<tr><td>O9IWbf</td><td>vQwiMS</td><td>aric_published_ais_eur</td><td>MDK     </td><td>Wald ratio               </td><td>1</td><td>-0.18825957</td><td>0.05091718</td><td>2.178461e-04</td><td>0.056552840</td></tr>\n",
       "</tbody>\n",
       "</table>\n"
      ],
      "text/latex": [
       "A data.table: 6 × 10\n",
       "\\begin{tabular}{llllllllll}\n",
       " id.exposure & id.outcome & outcome & exposure & method & nsnp & b & se & pval & pval\\_adjusted\\\\\n",
       " <chr> & <chr> & <chr> & <chr> & <chr> & <int> & <dbl> & <dbl> & <dbl> & <dbl>\\\\\n",
       "\\hline\n",
       "\t whMpIs & vQwiMS & aric\\_published\\_ais\\_eur & MMP12    & Inverse variance weighted & 2 & -0.06682287 & 0.01426005 & 2.785699e-06 & 0.003615837\\\\\n",
       "\t WrR2Ox & vQwiMS & aric\\_published\\_ais\\_eur & TMEM106B & Wald ratio                & 1 & -0.08205328 & 0.02061054 & 6.858782e-05 & 0.044513497\\\\\n",
       "\t WYdhGU & vQwiMS & aric\\_published\\_ais\\_eur & CST6     & Wald ratio                & 1 &  0.06842552 & 0.01783603 & 1.248695e-04 & 0.054026861\\\\\n",
       "\t 5SS6n7 & aVNJjg & aric\\_first\\_ais\\_afr     & TMEM106B & Wald ratio                & 1 &  0.13942820 & 0.03935664 & 3.960747e-04 & 0.056044570\\\\\n",
       "\t uDVscO & aVNJjg & aric\\_first\\_ais\\_afr     & AIP      & Wald ratio                & 1 &  0.11848360 & 0.03315743 & 3.524225e-04 & 0.056044570\\\\\n",
       "\t O9IWbf & vQwiMS & aric\\_published\\_ais\\_eur & MDK      & Wald ratio                & 1 & -0.18825957 & 0.05091718 & 2.178461e-04 & 0.056552840\\\\\n",
       "\\end{tabular}\n"
      ],
      "text/markdown": [
       "\n",
       "A data.table: 6 × 10\n",
       "\n",
       "| id.exposure &lt;chr&gt; | id.outcome &lt;chr&gt; | outcome &lt;chr&gt; | exposure &lt;chr&gt; | method &lt;chr&gt; | nsnp &lt;int&gt; | b &lt;dbl&gt; | se &lt;dbl&gt; | pval &lt;dbl&gt; | pval_adjusted &lt;dbl&gt; |\n",
       "|---|---|---|---|---|---|---|---|---|---|\n",
       "| whMpIs | vQwiMS | aric_published_ais_eur | MMP12    | Inverse variance weighted | 2 | -0.06682287 | 0.01426005 | 2.785699e-06 | 0.003615837 |\n",
       "| WrR2Ox | vQwiMS | aric_published_ais_eur | TMEM106B | Wald ratio                | 1 | -0.08205328 | 0.02061054 | 6.858782e-05 | 0.044513497 |\n",
       "| WYdhGU | vQwiMS | aric_published_ais_eur | CST6     | Wald ratio                | 1 |  0.06842552 | 0.01783603 | 1.248695e-04 | 0.054026861 |\n",
       "| 5SS6n7 | aVNJjg | aric_first_ais_afr     | TMEM106B | Wald ratio                | 1 |  0.13942820 | 0.03935664 | 3.960747e-04 | 0.056044570 |\n",
       "| uDVscO | aVNJjg | aric_first_ais_afr     | AIP      | Wald ratio                | 1 |  0.11848360 | 0.03315743 | 3.524225e-04 | 0.056044570 |\n",
       "| O9IWbf | vQwiMS | aric_published_ais_eur | MDK      | Wald ratio                | 1 | -0.18825957 | 0.05091718 | 2.178461e-04 | 0.056552840 |\n",
       "\n"
      ],
      "text/plain": [
       "  id.exposure id.outcome outcome                exposure\n",
       "1 whMpIs      vQwiMS     aric_published_ais_eur MMP12   \n",
       "2 WrR2Ox      vQwiMS     aric_published_ais_eur TMEM106B\n",
       "3 WYdhGU      vQwiMS     aric_published_ais_eur CST6    \n",
       "4 5SS6n7      aVNJjg     aric_first_ais_afr     TMEM106B\n",
       "5 uDVscO      aVNJjg     aric_first_ais_afr     AIP     \n",
       "6 O9IWbf      vQwiMS     aric_published_ais_eur MDK     \n",
       "  method                    nsnp b           se         pval        \n",
       "1 Inverse variance weighted 2    -0.06682287 0.01426005 2.785699e-06\n",
       "2 Wald ratio                1    -0.08205328 0.02061054 6.858782e-05\n",
       "3 Wald ratio                1     0.06842552 0.01783603 1.248695e-04\n",
       "4 Wald ratio                1     0.13942820 0.03935664 3.960747e-04\n",
       "5 Wald ratio                1     0.11848360 0.03315743 3.524225e-04\n",
       "6 Wald ratio                1    -0.18825957 0.05091718 2.178461e-04\n",
       "  pval_adjusted\n",
       "1 0.003615837  \n",
       "2 0.044513497  \n",
       "3 0.054026861  \n",
       "4 0.056044570  \n",
       "5 0.056044570  \n",
       "6 0.056552840  "
      ]
     },
     "metadata": {},
     "output_type": "display_data"
    }
   ],
   "source": [
    "source(\"gwas_data_helpers.R\")\n",
    "\n",
    "IRdisplay::display_markdown(\"## MR for CIS ONLY pQTLs in AFR\")\n",
    "\n",
    "mr_mace_afr <- data.table::fread(\"scratch/results/mr/aric/mr_subsequent_mace_afr.tsv\")\n",
    "mr_mace_afr_slopehunter <- data.table::fread(\"scratch/results/mr/aric/mr_subsequent_mace_afr_slopehunter.tsv\")\n",
    "mr_mace_afr_dudbridge <- data.table::fread(\"scratch/results/mr/aric/mr_subsequent_mace_afr_dudbridge.tsv\")\n",
    "\n",
    "mr_ais_afr <- data.table::fread(\"scratch/results/mr/aric/mr_subsequent_ais_afr.tsv\")\n",
    "mr_ais_afr_slopehunter <- data.table::fread(\"scratch/results/mr/aric/mr_subsequent_ais_afr_slopehunter.tsv\")\n",
    "mr_ais_afr_dudbridge <- data.table::fread(\"scratch/results/mr/aric/mr_subsequent_ais_afr_dudbridge.tsv\")\n",
    "\n",
    "mr_incidence_ais <- data.table::fread(\"scratch/results/mr/aric/first_ais_afr.tsv\")\n",
    "mr_publised_incidence_ais <- data.table::fread(\"scratch/results/mr/aric/published_ais_eur.tsv\")\n",
    "\n",
    "subsequent_mace <- rbind(mr_mace_afr, mr_mace_afr_slopehunter, mr_mace_afr_dudbridge)\n",
    "subsequent_ais <- rbind(mr_ais_afr, mr_ais_afr_slopehunter, mr_ais_afr_dudbridge)\n",
    "incidence_ais <- rbind(mr_incidence_ais, mr_publised_incidence_ais)\n",
    "\n",
    "IRdisplay::display_markdown(\"### MR Subsequent MACE by adjusted p palue\")\n",
    "subsequent_mace <- subsequent_mace[with(subsequent_mace, order(pval_adjusted)), ]\n",
    "head(subsequent_mace)\n",
    "\n",
    "IRdisplay::display_markdown(\"### MR Subsequent AIS Corrected Ordered by adjusted p palue\")\n",
    "subsequent_ais <- subsequent_ais[with(subsequent_ais, order(pval_adjusted)), ]\n",
    "head(subsequent_ais)\n",
    "\n",
    "IRdisplay::display_markdown(\"### MR Incident AIS\")\n",
    "incidence_ais <- incidence_ais[with(incidence_ais, order(pval_adjusted)), ]\n",
    "head(incidence_ais)"
   ]
  },
  {
   "cell_type": "markdown",
   "id": "dd061cb1-46b6-424e-9448-8d27981d0a9c",
   "metadata": {},
   "source": [
    "## MR for CIS ONLY pQTLs in EUR"
   ]
  },
  {
   "cell_type": "code",
   "execution_count": 2,
   "id": "53b9ac9d-acba-48f0-a13d-052f5b7995a4",
   "metadata": {
    "tags": []
   },
   "outputs": [
    {
     "data": {
      "text/markdown": [
       "### MR Subsequent MACE by adjusted p palue"
      ]
     },
     "metadata": {},
     "output_type": "display_data"
    },
    {
     "data": {
      "text/html": [
       "<table class=\"dataframe\">\n",
       "<caption>A data.table: 6 × 10</caption>\n",
       "<thead>\n",
       "\t<tr><th scope=col>id.exposure</th><th scope=col>id.outcome</th><th scope=col>outcome</th><th scope=col>exposure</th><th scope=col>method</th><th scope=col>nsnp</th><th scope=col>b</th><th scope=col>se</th><th scope=col>pval</th><th scope=col>pval_adjusted</th></tr>\n",
       "\t<tr><th scope=col>&lt;chr&gt;</th><th scope=col>&lt;chr&gt;</th><th scope=col>&lt;chr&gt;</th><th scope=col>&lt;chr&gt;</th><th scope=col>&lt;chr&gt;</th><th scope=col>&lt;int&gt;</th><th scope=col>&lt;dbl&gt;</th><th scope=col>&lt;dbl&gt;</th><th scope=col>&lt;dbl&gt;</th><th scope=col>&lt;dbl&gt;</th></tr>\n",
       "</thead>\n",
       "<tbody>\n",
       "\t<tr><td>EEqV0G</td><td>XBUpOA</td><td>aric_subsequent_mace_dudbridge</td><td>PTGDS </td><td>Wald ratio               </td><td>1</td><td>-0.11914615</td><td>0.04458586</td><td>0.007533651</td><td>0.625293</td></tr>\n",
       "\t<tr><td>GXF3Lk</td><td>XBUpOA</td><td>aric_subsequent_mace_dudbridge</td><td>PRKCB </td><td>Inverse variance weighted</td><td>2</td><td> 0.11846856</td><td>0.04012342</td><td>0.003151066</td><td>0.625293</td></tr>\n",
       "\t<tr><td>IQIaiP</td><td>XBUpOA</td><td>aric_subsequent_mace_dudbridge</td><td>SORD  </td><td>Wald ratio               </td><td>1</td><td>-0.19328709</td><td>0.06825921</td><td>0.004630659</td><td>0.625293</td></tr>\n",
       "\t<tr><td>vRt9IX</td><td>XBUpOA</td><td>aric_subsequent_mace_dudbridge</td><td>CTRB2 </td><td>Wald ratio               </td><td>1</td><td>-0.05159030</td><td>0.01912558</td><td>0.006987271</td><td>0.625293</td></tr>\n",
       "\t<tr><td>ytOSBx</td><td>XBUpOA</td><td>aric_subsequent_mace_dudbridge</td><td>HS6ST1</td><td>Wald ratio               </td><td>1</td><td> 0.13224850</td><td>0.04818197</td><td>0.006055304</td><td>0.625293</td></tr>\n",
       "\t<tr><td>ZcCSEA</td><td>XBUpOA</td><td>aric_subsequent_mace_dudbridge</td><td>ART3  </td><td>Wald ratio               </td><td>1</td><td>-0.09190914</td><td>0.03433270</td><td>0.007428138</td><td>0.625293</td></tr>\n",
       "</tbody>\n",
       "</table>\n"
      ],
      "text/latex": [
       "A data.table: 6 × 10\n",
       "\\begin{tabular}{llllllllll}\n",
       " id.exposure & id.outcome & outcome & exposure & method & nsnp & b & se & pval & pval\\_adjusted\\\\\n",
       " <chr> & <chr> & <chr> & <chr> & <chr> & <int> & <dbl> & <dbl> & <dbl> & <dbl>\\\\\n",
       "\\hline\n",
       "\t EEqV0G & XBUpOA & aric\\_subsequent\\_mace\\_dudbridge & PTGDS  & Wald ratio                & 1 & -0.11914615 & 0.04458586 & 0.007533651 & 0.625293\\\\\n",
       "\t GXF3Lk & XBUpOA & aric\\_subsequent\\_mace\\_dudbridge & PRKCB  & Inverse variance weighted & 2 &  0.11846856 & 0.04012342 & 0.003151066 & 0.625293\\\\\n",
       "\t IQIaiP & XBUpOA & aric\\_subsequent\\_mace\\_dudbridge & SORD   & Wald ratio                & 1 & -0.19328709 & 0.06825921 & 0.004630659 & 0.625293\\\\\n",
       "\t vRt9IX & XBUpOA & aric\\_subsequent\\_mace\\_dudbridge & CTRB2  & Wald ratio                & 1 & -0.05159030 & 0.01912558 & 0.006987271 & 0.625293\\\\\n",
       "\t ytOSBx & XBUpOA & aric\\_subsequent\\_mace\\_dudbridge & HS6ST1 & Wald ratio                & 1 &  0.13224850 & 0.04818197 & 0.006055304 & 0.625293\\\\\n",
       "\t ZcCSEA & XBUpOA & aric\\_subsequent\\_mace\\_dudbridge & ART3   & Wald ratio                & 1 & -0.09190914 & 0.03433270 & 0.007428138 & 0.625293\\\\\n",
       "\\end{tabular}\n"
      ],
      "text/markdown": [
       "\n",
       "A data.table: 6 × 10\n",
       "\n",
       "| id.exposure &lt;chr&gt; | id.outcome &lt;chr&gt; | outcome &lt;chr&gt; | exposure &lt;chr&gt; | method &lt;chr&gt; | nsnp &lt;int&gt; | b &lt;dbl&gt; | se &lt;dbl&gt; | pval &lt;dbl&gt; | pval_adjusted &lt;dbl&gt; |\n",
       "|---|---|---|---|---|---|---|---|---|---|\n",
       "| EEqV0G | XBUpOA | aric_subsequent_mace_dudbridge | PTGDS  | Wald ratio                | 1 | -0.11914615 | 0.04458586 | 0.007533651 | 0.625293 |\n",
       "| GXF3Lk | XBUpOA | aric_subsequent_mace_dudbridge | PRKCB  | Inverse variance weighted | 2 |  0.11846856 | 0.04012342 | 0.003151066 | 0.625293 |\n",
       "| IQIaiP | XBUpOA | aric_subsequent_mace_dudbridge | SORD   | Wald ratio                | 1 | -0.19328709 | 0.06825921 | 0.004630659 | 0.625293 |\n",
       "| vRt9IX | XBUpOA | aric_subsequent_mace_dudbridge | CTRB2  | Wald ratio                | 1 | -0.05159030 | 0.01912558 | 0.006987271 | 0.625293 |\n",
       "| ytOSBx | XBUpOA | aric_subsequent_mace_dudbridge | HS6ST1 | Wald ratio                | 1 |  0.13224850 | 0.04818197 | 0.006055304 | 0.625293 |\n",
       "| ZcCSEA | XBUpOA | aric_subsequent_mace_dudbridge | ART3   | Wald ratio                | 1 | -0.09190914 | 0.03433270 | 0.007428138 | 0.625293 |\n",
       "\n"
      ],
      "text/plain": [
       "  id.exposure id.outcome outcome                        exposure\n",
       "1 EEqV0G      XBUpOA     aric_subsequent_mace_dudbridge PTGDS   \n",
       "2 GXF3Lk      XBUpOA     aric_subsequent_mace_dudbridge PRKCB   \n",
       "3 IQIaiP      XBUpOA     aric_subsequent_mace_dudbridge SORD    \n",
       "4 vRt9IX      XBUpOA     aric_subsequent_mace_dudbridge CTRB2   \n",
       "5 ytOSBx      XBUpOA     aric_subsequent_mace_dudbridge HS6ST1  \n",
       "6 ZcCSEA      XBUpOA     aric_subsequent_mace_dudbridge ART3    \n",
       "  method                    nsnp b           se         pval       \n",
       "1 Wald ratio                1    -0.11914615 0.04458586 0.007533651\n",
       "2 Inverse variance weighted 2     0.11846856 0.04012342 0.003151066\n",
       "3 Wald ratio                1    -0.19328709 0.06825921 0.004630659\n",
       "4 Wald ratio                1    -0.05159030 0.01912558 0.006987271\n",
       "5 Wald ratio                1     0.13224850 0.04818197 0.006055304\n",
       "6 Wald ratio                1    -0.09190914 0.03433270 0.007428138\n",
       "  pval_adjusted\n",
       "1 0.625293     \n",
       "2 0.625293     \n",
       "3 0.625293     \n",
       "4 0.625293     \n",
       "5 0.625293     \n",
       "6 0.625293     "
      ]
     },
     "metadata": {},
     "output_type": "display_data"
    },
    {
     "data": {
      "text/markdown": [
       "### MR Subsequent AIS Corrected Ordered by adjusted p palue"
      ]
     },
     "metadata": {},
     "output_type": "display_data"
    },
    {
     "data": {
      "text/html": [
       "<table class=\"dataframe\">\n",
       "<caption>A data.table: 6 × 10</caption>\n",
       "<thead>\n",
       "\t<tr><th scope=col>id.exposure</th><th scope=col>id.outcome</th><th scope=col>outcome</th><th scope=col>exposure</th><th scope=col>method</th><th scope=col>nsnp</th><th scope=col>b</th><th scope=col>se</th><th scope=col>pval</th><th scope=col>pval_adjusted</th></tr>\n",
       "\t<tr><th scope=col>&lt;chr&gt;</th><th scope=col>&lt;chr&gt;</th><th scope=col>&lt;chr&gt;</th><th scope=col>&lt;chr&gt;</th><th scope=col>&lt;chr&gt;</th><th scope=col>&lt;int&gt;</th><th scope=col>&lt;dbl&gt;</th><th scope=col>&lt;dbl&gt;</th><th scope=col>&lt;dbl&gt;</th><th scope=col>&lt;dbl&gt;</th></tr>\n",
       "</thead>\n",
       "<tbody>\n",
       "\t<tr><td>B57Ufk</td><td>ycYJ0t</td><td>aric_subsequent_ais_dudbridge</td><td>LRP11</td><td>Wald ratio</td><td>1</td><td> 0.40436388</td><td>0.13234976</td><td>0.002248602</td><td>0.5018748</td></tr>\n",
       "\t<tr><td>DsTUeC</td><td>ycYJ0t</td><td>aric_subsequent_ais_dudbridge</td><td>TRIL </td><td>Wald ratio</td><td>1</td><td> 0.18683105</td><td>0.05913468</td><td>0.001580856</td><td>0.5018748</td></tr>\n",
       "\t<tr><td>H0l2NU</td><td>ycYJ0t</td><td>aric_subsequent_ais_dudbridge</td><td>FN1  </td><td>Wald ratio</td><td>1</td><td> 0.14483966</td><td>0.05025553</td><td>0.003950793</td><td>0.5018748</td></tr>\n",
       "\t<tr><td>IQIaiP</td><td>ycYJ0t</td><td>aric_subsequent_ais_dudbridge</td><td>SORD </td><td>Wald ratio</td><td>1</td><td>-0.18633732</td><td>0.06914364</td><td>0.007040327</td><td>0.5018748</td></tr>\n",
       "\t<tr><td>kyJ7zE</td><td>ycYJ0t</td><td>aric_subsequent_ais_dudbridge</td><td>TPST1</td><td>Wald ratio</td><td>1</td><td> 0.09080936</td><td>0.03360473</td><td>0.006886590</td><td>0.5018748</td></tr>\n",
       "\t<tr><td>U9fSZN</td><td>ycYJ0t</td><td>aric_subsequent_ais_dudbridge</td><td>GPX7 </td><td>Wald ratio</td><td>1</td><td>-0.06080393</td><td>0.02228955</td><td>0.006373657</td><td>0.5018748</td></tr>\n",
       "</tbody>\n",
       "</table>\n"
      ],
      "text/latex": [
       "A data.table: 6 × 10\n",
       "\\begin{tabular}{llllllllll}\n",
       " id.exposure & id.outcome & outcome & exposure & method & nsnp & b & se & pval & pval\\_adjusted\\\\\n",
       " <chr> & <chr> & <chr> & <chr> & <chr> & <int> & <dbl> & <dbl> & <dbl> & <dbl>\\\\\n",
       "\\hline\n",
       "\t B57Ufk & ycYJ0t & aric\\_subsequent\\_ais\\_dudbridge & LRP11 & Wald ratio & 1 &  0.40436388 & 0.13234976 & 0.002248602 & 0.5018748\\\\\n",
       "\t DsTUeC & ycYJ0t & aric\\_subsequent\\_ais\\_dudbridge & TRIL  & Wald ratio & 1 &  0.18683105 & 0.05913468 & 0.001580856 & 0.5018748\\\\\n",
       "\t H0l2NU & ycYJ0t & aric\\_subsequent\\_ais\\_dudbridge & FN1   & Wald ratio & 1 &  0.14483966 & 0.05025553 & 0.003950793 & 0.5018748\\\\\n",
       "\t IQIaiP & ycYJ0t & aric\\_subsequent\\_ais\\_dudbridge & SORD  & Wald ratio & 1 & -0.18633732 & 0.06914364 & 0.007040327 & 0.5018748\\\\\n",
       "\t kyJ7zE & ycYJ0t & aric\\_subsequent\\_ais\\_dudbridge & TPST1 & Wald ratio & 1 &  0.09080936 & 0.03360473 & 0.006886590 & 0.5018748\\\\\n",
       "\t U9fSZN & ycYJ0t & aric\\_subsequent\\_ais\\_dudbridge & GPX7  & Wald ratio & 1 & -0.06080393 & 0.02228955 & 0.006373657 & 0.5018748\\\\\n",
       "\\end{tabular}\n"
      ],
      "text/markdown": [
       "\n",
       "A data.table: 6 × 10\n",
       "\n",
       "| id.exposure &lt;chr&gt; | id.outcome &lt;chr&gt; | outcome &lt;chr&gt; | exposure &lt;chr&gt; | method &lt;chr&gt; | nsnp &lt;int&gt; | b &lt;dbl&gt; | se &lt;dbl&gt; | pval &lt;dbl&gt; | pval_adjusted &lt;dbl&gt; |\n",
       "|---|---|---|---|---|---|---|---|---|---|\n",
       "| B57Ufk | ycYJ0t | aric_subsequent_ais_dudbridge | LRP11 | Wald ratio | 1 |  0.40436388 | 0.13234976 | 0.002248602 | 0.5018748 |\n",
       "| DsTUeC | ycYJ0t | aric_subsequent_ais_dudbridge | TRIL  | Wald ratio | 1 |  0.18683105 | 0.05913468 | 0.001580856 | 0.5018748 |\n",
       "| H0l2NU | ycYJ0t | aric_subsequent_ais_dudbridge | FN1   | Wald ratio | 1 |  0.14483966 | 0.05025553 | 0.003950793 | 0.5018748 |\n",
       "| IQIaiP | ycYJ0t | aric_subsequent_ais_dudbridge | SORD  | Wald ratio | 1 | -0.18633732 | 0.06914364 | 0.007040327 | 0.5018748 |\n",
       "| kyJ7zE | ycYJ0t | aric_subsequent_ais_dudbridge | TPST1 | Wald ratio | 1 |  0.09080936 | 0.03360473 | 0.006886590 | 0.5018748 |\n",
       "| U9fSZN | ycYJ0t | aric_subsequent_ais_dudbridge | GPX7  | Wald ratio | 1 | -0.06080393 | 0.02228955 | 0.006373657 | 0.5018748 |\n",
       "\n"
      ],
      "text/plain": [
       "  id.exposure id.outcome outcome                       exposure method     nsnp\n",
       "1 B57Ufk      ycYJ0t     aric_subsequent_ais_dudbridge LRP11    Wald ratio 1   \n",
       "2 DsTUeC      ycYJ0t     aric_subsequent_ais_dudbridge TRIL     Wald ratio 1   \n",
       "3 H0l2NU      ycYJ0t     aric_subsequent_ais_dudbridge FN1      Wald ratio 1   \n",
       "4 IQIaiP      ycYJ0t     aric_subsequent_ais_dudbridge SORD     Wald ratio 1   \n",
       "5 kyJ7zE      ycYJ0t     aric_subsequent_ais_dudbridge TPST1    Wald ratio 1   \n",
       "6 U9fSZN      ycYJ0t     aric_subsequent_ais_dudbridge GPX7     Wald ratio 1   \n",
       "  b           se         pval        pval_adjusted\n",
       "1  0.40436388 0.13234976 0.002248602 0.5018748    \n",
       "2  0.18683105 0.05913468 0.001580856 0.5018748    \n",
       "3  0.14483966 0.05025553 0.003950793 0.5018748    \n",
       "4 -0.18633732 0.06914364 0.007040327 0.5018748    \n",
       "5  0.09080936 0.03360473 0.006886590 0.5018748    \n",
       "6 -0.06080393 0.02228955 0.006373657 0.5018748    "
      ]
     },
     "metadata": {},
     "output_type": "display_data"
    },
    {
     "data": {
      "text/markdown": [
       "### MR Incident AIS"
      ]
     },
     "metadata": {},
     "output_type": "display_data"
    },
    {
     "data": {
      "text/html": [
       "<table class=\"dataframe\">\n",
       "<caption>A data.table: 6 × 10</caption>\n",
       "<thead>\n",
       "\t<tr><th scope=col>id.exposure</th><th scope=col>id.outcome</th><th scope=col>outcome</th><th scope=col>exposure</th><th scope=col>method</th><th scope=col>nsnp</th><th scope=col>b</th><th scope=col>se</th><th scope=col>pval</th><th scope=col>pval_adjusted</th></tr>\n",
       "\t<tr><th scope=col>&lt;chr&gt;</th><th scope=col>&lt;chr&gt;</th><th scope=col>&lt;chr&gt;</th><th scope=col>&lt;chr&gt;</th><th scope=col>&lt;chr&gt;</th><th scope=col>&lt;int&gt;</th><th scope=col>&lt;dbl&gt;</th><th scope=col>&lt;dbl&gt;</th><th scope=col>&lt;dbl&gt;</th><th scope=col>&lt;dbl&gt;</th></tr>\n",
       "</thead>\n",
       "<tbody>\n",
       "\t<tr><td>bzcJKQ</td><td>H21to3</td><td>aric_first_ais_eur</td><td>MRVI1 </td><td>Wald ratio</td><td>1</td><td> 0.12886418</td><td>0.027447605</td><td>2.667173e-06</td><td>0.001336254</td></tr>\n",
       "\t<tr><td>icFaLa</td><td>H21to3</td><td>aric_first_ais_eur</td><td>MMP1  </td><td>Wald ratio</td><td>1</td><td> 0.07209176</td><td>0.018750323</td><td>1.206372e-04</td><td>0.030219626</td></tr>\n",
       "\t<tr><td>WKHrKr</td><td>H21to3</td><td>aric_first_ais_eur</td><td>SMTN  </td><td>Wald ratio</td><td>1</td><td>-0.18514416</td><td>0.050637719</td><td>2.559318e-04</td><td>0.042740605</td></tr>\n",
       "\t<tr><td>Jnyyvp</td><td>H21to3</td><td>aric_first_ais_eur</td><td>MMP13 </td><td>Wald ratio</td><td>1</td><td>-0.16348117</td><td>0.045955536</td><td>3.745763e-04</td><td>0.046915685</td></tr>\n",
       "\t<tr><td>JROYJp</td><td>H21to3</td><td>aric_first_ais_eur</td><td>SWAP70</td><td>Wald ratio</td><td>1</td><td>-0.03153810</td><td>0.009397718</td><td>7.909796e-04</td><td>0.075314286</td></tr>\n",
       "\t<tr><td>XucHte</td><td>H21to3</td><td>aric_first_ais_eur</td><td>GSTM3 </td><td>Wald ratio</td><td>1</td><td> 0.04425074</td><td>0.013330766</td><td>9.019675e-04</td><td>0.075314286</td></tr>\n",
       "</tbody>\n",
       "</table>\n"
      ],
      "text/latex": [
       "A data.table: 6 × 10\n",
       "\\begin{tabular}{llllllllll}\n",
       " id.exposure & id.outcome & outcome & exposure & method & nsnp & b & se & pval & pval\\_adjusted\\\\\n",
       " <chr> & <chr> & <chr> & <chr> & <chr> & <int> & <dbl> & <dbl> & <dbl> & <dbl>\\\\\n",
       "\\hline\n",
       "\t bzcJKQ & H21to3 & aric\\_first\\_ais\\_eur & MRVI1  & Wald ratio & 1 &  0.12886418 & 0.027447605 & 2.667173e-06 & 0.001336254\\\\\n",
       "\t icFaLa & H21to3 & aric\\_first\\_ais\\_eur & MMP1   & Wald ratio & 1 &  0.07209176 & 0.018750323 & 1.206372e-04 & 0.030219626\\\\\n",
       "\t WKHrKr & H21to3 & aric\\_first\\_ais\\_eur & SMTN   & Wald ratio & 1 & -0.18514416 & 0.050637719 & 2.559318e-04 & 0.042740605\\\\\n",
       "\t Jnyyvp & H21to3 & aric\\_first\\_ais\\_eur & MMP13  & Wald ratio & 1 & -0.16348117 & 0.045955536 & 3.745763e-04 & 0.046915685\\\\\n",
       "\t JROYJp & H21to3 & aric\\_first\\_ais\\_eur & SWAP70 & Wald ratio & 1 & -0.03153810 & 0.009397718 & 7.909796e-04 & 0.075314286\\\\\n",
       "\t XucHte & H21to3 & aric\\_first\\_ais\\_eur & GSTM3  & Wald ratio & 1 &  0.04425074 & 0.013330766 & 9.019675e-04 & 0.075314286\\\\\n",
       "\\end{tabular}\n"
      ],
      "text/markdown": [
       "\n",
       "A data.table: 6 × 10\n",
       "\n",
       "| id.exposure &lt;chr&gt; | id.outcome &lt;chr&gt; | outcome &lt;chr&gt; | exposure &lt;chr&gt; | method &lt;chr&gt; | nsnp &lt;int&gt; | b &lt;dbl&gt; | se &lt;dbl&gt; | pval &lt;dbl&gt; | pval_adjusted &lt;dbl&gt; |\n",
       "|---|---|---|---|---|---|---|---|---|---|\n",
       "| bzcJKQ | H21to3 | aric_first_ais_eur | MRVI1  | Wald ratio | 1 |  0.12886418 | 0.027447605 | 2.667173e-06 | 0.001336254 |\n",
       "| icFaLa | H21to3 | aric_first_ais_eur | MMP1   | Wald ratio | 1 |  0.07209176 | 0.018750323 | 1.206372e-04 | 0.030219626 |\n",
       "| WKHrKr | H21to3 | aric_first_ais_eur | SMTN   | Wald ratio | 1 | -0.18514416 | 0.050637719 | 2.559318e-04 | 0.042740605 |\n",
       "| Jnyyvp | H21to3 | aric_first_ais_eur | MMP13  | Wald ratio | 1 | -0.16348117 | 0.045955536 | 3.745763e-04 | 0.046915685 |\n",
       "| JROYJp | H21to3 | aric_first_ais_eur | SWAP70 | Wald ratio | 1 | -0.03153810 | 0.009397718 | 7.909796e-04 | 0.075314286 |\n",
       "| XucHte | H21to3 | aric_first_ais_eur | GSTM3  | Wald ratio | 1 |  0.04425074 | 0.013330766 | 9.019675e-04 | 0.075314286 |\n",
       "\n"
      ],
      "text/plain": [
       "  id.exposure id.outcome outcome            exposure method     nsnp\n",
       "1 bzcJKQ      H21to3     aric_first_ais_eur MRVI1    Wald ratio 1   \n",
       "2 icFaLa      H21to3     aric_first_ais_eur MMP1     Wald ratio 1   \n",
       "3 WKHrKr      H21to3     aric_first_ais_eur SMTN     Wald ratio 1   \n",
       "4 Jnyyvp      H21to3     aric_first_ais_eur MMP13    Wald ratio 1   \n",
       "5 JROYJp      H21to3     aric_first_ais_eur SWAP70   Wald ratio 1   \n",
       "6 XucHte      H21to3     aric_first_ais_eur GSTM3    Wald ratio 1   \n",
       "  b           se          pval         pval_adjusted\n",
       "1  0.12886418 0.027447605 2.667173e-06 0.001336254  \n",
       "2  0.07209176 0.018750323 1.206372e-04 0.030219626  \n",
       "3 -0.18514416 0.050637719 2.559318e-04 0.042740605  \n",
       "4 -0.16348117 0.045955536 3.745763e-04 0.046915685  \n",
       "5 -0.03153810 0.009397718 7.909796e-04 0.075314286  \n",
       "6  0.04425074 0.013330766 9.019675e-04 0.075314286  "
      ]
     },
     "metadata": {},
     "output_type": "display_data"
    }
   ],
   "source": [
    "source(\"gwas_data_helpers.R\")\n",
    "\n",
    "mr_mace_eur <- data.table::fread(\"scratch/results/mr/aric/mr_subsequent_mace_eur.tsv\")\n",
    "mr_mace_eur_slopehunter <- data.table::fread(\"scratch/results/mr/aric/mr_subsequent_mace_eur_slopehunter.tsv\")\n",
    "mr_mace_eur_dudbridge <- data.table::fread(\"scratch/results/mr/aric/mr_subsequent_mace_eur_dudbridge.tsv\")\n",
    "\n",
    "mr_ais_eur <- data.table::fread(\"scratch/results/mr/aric/mr_subsequent_ais_eur.tsv\")\n",
    "mr_ais_eur_slopehunter <- data.table::fread(\"scratch/results/mr/aric/mr_subsequent_ais_eur_slopehunter.tsv\")\n",
    "mr_ais_eur_dudbridge <- data.table::fread(\"scratch/results/mr/aric/mr_subsequent_ais_eur_dudbridge.tsv\")\n",
    "\n",
    "mr_incidence_ais <- data.table::fread(\"scratch/results/mr/aric/first_ais_eur.tsv\")\n",
    "\n",
    "subsequent_mace <- rbind(mr_mace_eur, mr_mace_eur_slopehunter, mr_mace_eur_dudbridge)\n",
    "subsequent_ais <- rbind(mr_ais_eur, mr_ais_eur_slopehunter, mr_ais_eur_dudbridge)\n",
    "\n",
    "IRdisplay::display_markdown(\"### MR Subsequent MACE by adjusted p palue\")\n",
    "subsequent_mace <- subsequent_mace[with(subsequent_mace, order(pval_adjusted)), ]\n",
    "head(subsequent_mace)\n",
    "\n",
    "IRdisplay::display_markdown(\"### MR Subsequent AIS Corrected Ordered by adjusted p palue\")\n",
    "subsequent_ais <- subsequent_ais[with(subsequent_ais, order(pval_adjusted)), ]\n",
    "head(subsequent_ais)\n",
    "\n",
    "IRdisplay::display_markdown(\"### MR Incident AIS\")\n",
    "incidence_ais <- mr_incidence_ais[with(mr_incidence_ais, order(pval_adjusted)), ]\n",
    "head(incidence_ais)"
   ]
  }
 ],
 "metadata": {
  "kernelspec": {
   "display_name": "R",
   "language": "R",
   "name": "ir"
  },
  "language_info": {
   "codemirror_mode": "r",
   "file_extension": ".r",
   "mimetype": "text/x-r-source",
   "name": "R",
   "pygments_lexer": "r",
   "version": "4.2.3"
  }
 },
 "nbformat": 4,
 "nbformat_minor": 5
}
