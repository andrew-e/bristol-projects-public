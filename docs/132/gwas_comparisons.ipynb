{
 "cells": [
  {
   "cell_type": "markdown",
   "id": "1b419cc0-1fb7-49ad-b972-9be8ece42ccb",
   "metadata": {
    "tags": []
   },
   "source": [
    "# 132: Stroke Progression + PQTL\n",
    "\n",
    "Reminder, you can run something like:\n",
    "\n",
    "`jupyter nbconvert --to html yourNotebook.ipynb`\n",
    "\n",
    "\n",
    "# Manhattan Plots:\n",
    "\n",
    "## First AIS (Existing Published GWAS vs. our meta-analysed GWAS)\n",
    "\n",
    "![image](scratch/results/existing_stroke_gwas.png)\n",
    "![image](scratch/results/meta_analysis/first_ais_metal_metaanalysis_manhattan.png)\n",
    "\n",
    "Comparing by eye, they align quite well, with the existing stroke GWAS having much better results due to high power. HOWEVER, taking the top hitting 30 SNP results don't match  well with our results.  Therefore, I downloaded the full summary stats, and am looking at the wider range of hits.\n",
    "\n",
    "## Subsequent GWASes (meta-analysed only)\n",
    "\n",
    "![image](scratch/results/meta_analysis/subsequent_ais_metal_metaanalysis_manhattan.png)\n",
    "![image](scratch/results/meta_analysis/subsequent_mace_metal_metaanalysis_manhattan.png)\n",
    "\n",
    "## Subsequent AIS GWASes (adjusted for collider bias, then meta-analysed)\n",
    "![image](scratch/results/subsequent_ais_metaanalysis_slopehunter1.txt.png)\n",
    "![image](scratch/results/subsequent_ais_metaanalysis_dudbridge1.txt.png)\n",
    "## Subsequent MACE GWASes (adjusted for collider bias, then meta-analysed)\n",
    "![image](scratch/results/subsequent_mace_metaanalysis_slopehunter1.txt.png)\n",
    "![image](scratch/results/subsequent_mace_metaanalysis_dudbridge1.txt.png)"
   ]
  },
  {
   "cell_type": "code",
   "execution_count": null,
   "id": "71fdff31-443c-445e-8050-2914afb485a4",
   "metadata": {
    "tags": []
   },
   "outputs": [],
   "source": [
    "source(\"gwas_data_helpers.R\")\n",
    "library(dplyr)\n",
    "gwas_columns <- c(\"MARKER\", \"BETA\", \"SE\", \"P\")\n",
    "\n",
    "first_ais_metaanalysis <- data.table::fread(\"scratch/results/meta_analysis/first_ais_metal_metaanalysis.tbl\", select = gwas_columns)\n",
    "subsequent_ais_metaanalysis_not_adjusted <- data.table::fread(\"scratch/results/meta_analysis/subsequent_ais_metal_metaanalysis.tbl\", select = gwas_columns)\n",
    "subsequent_mace_metaanalysis_not_adjusted <- data.table::fread(\"scratch/results/meta_analysis/subsequent_mace_metal_metaanalysis.tbl\", select = gwas_columns)\n",
    "\n",
    "subsequent_ais_metaanalysis_adjusted <- data.table::fread(\"scratch/results/subsequent_ais_metaanalysis_slopehunter1.txt\", select = gwas_columns)\n",
    "subsequent_mace_metaanalysis_adjusted <- data.table::fread(\"scratch/results/subsequent_mace_metaanalysis_slopehunter1.txt\", select = gwas_columns)\n",
    "subsequent_ais_metaanalysis_dudbridge <- data.table::fread(\"scratch/results/subsequent_ais_metaanalysis_dudbridge1.txt\", select = gwas_columns)\n",
    "subsequent_mace_metaanalysis_dudbridge <- data.table::fread(\"scratch/results/subsequent_mace_metaanalysis_dudbridge1.txt\", select = gwas_columns)\n",
    "\n",
    "existing_stroke_gwas <- data.table::fread(\"scratch/data/existing_stroke_gwas.tsv.gz\")\n",
    "existing_stroke_gwas <- existing_stroke_gwas %>% dplyr::rename(\"CHR\" = \"chromosome\", \"BP\" = \"base_pair_location\", \"P\" = \"p_value\",\n",
    "                                                               \"BETA\" = \"beta\", \"OR\" = \"odds_ratio\", \"LB\" = \"ci_lower\", \"UB\" = \"ci_upper\")\n",
    "\n",
    "existing_stroke_gwas$MARKER <- paste(existing_stroke_gwas$CHR, existing_stroke_gwas$BP, sep=\":\")\n",
    "existing_stroke_gwas <- convert_odds_ratio_to_beta_estimate(existing_stroke_gwas)\n",
    "existing_stroke_gwas_top_hits <- existing_stroke_gwas[existing_stroke_gwas$P < 1e-8,]\n",
    "\n",
    "merge_gwases <- function(gwas) {\n",
    "    merged_stroke_data_comparison <- merge(gwas, subsequent_ais_metaanalysis_not_adjusted, by = \"MARKER\")\n",
    "    merged_stroke_data_comparison <- merged_stroke_data_comparison %>% dplyr::rename(\"EXISTING_BETA\" = \"BETA.x\", \"EXISTING_P\" = \"P.x\", \"EXISTING_SE\" = \"SE.x\",\n",
    "                                                                                     \"SUB_AIS_BETA\" = \"BETA.y\", \"SUB_AIS_P\" = \"P.y\", \"SUB_AIS_SE\" = \"SE.y\")\n",
    "\n",
    "    merged_stroke_data_comparison <- merge(merged_stroke_data_comparison, subsequent_ais_metaanalysis_adjusted, by = \"MARKER\")\n",
    "    merged_stroke_data_comparison <- merged_stroke_data_comparison %>% dplyr::rename(\"SUB_AIS_SH_BETA\" = \"BETA\", \"SUB_AIS_SH_P\" = \"P\", \"SUB_AIS_SH_SE\" = \"SE\")\n",
    "    \n",
    "    merged_stroke_data_comparison <- merge(merged_stroke_data_comparison, subsequent_ais_metaanalysis_dudbridge, by = \"MARKER\")\n",
    "    merged_stroke_data_comparison <- merged_stroke_data_comparison %>% dplyr::rename(\"SUB_AIS_DB_BETA\" = \"BETA\", \"SUB_AIS_DB_P\" = \"P\", \"SUB_AIS_DB_SE\" = \"SE\")    \n",
    "\n",
    "    merged_stroke_data_comparison <- merge(merged_stroke_data_comparison, subsequent_mace_metaanalysis_not_adjusted, by = \"MARKER\")\n",
    "    merged_stroke_data_comparison <- merged_stroke_data_comparison %>% dplyr::rename(\"SUB_MACE_BETA\" = \"BETA\", \"SUB_MACE_P\" = \"P\", \"SUB_MACE_SE\" = \"SE\")\n",
    "\n",
    "    merged_stroke_data_comparison <- merge(merged_stroke_data_comparison, subsequent_mace_metaanalysis_adjusted, by = \"MARKER\")\n",
    "    merged_stroke_data_comparison <- merged_stroke_data_comparison %>% dplyr::rename(\"SUB_MACE_SH_BETA\" = \"BETA\", \"SUB_MACE_SH_P\" = \"P\", \"SUB_MACE_SH_SE\" = \"SE\")\n",
    "    \n",
    "    merged_stroke_data_comparison <- merge(merged_stroke_data_comparison, subsequent_mace_metaanalysis_dudbridge, by = \"MARKER\")\n",
    "    merged_stroke_data_comparison <- merged_stroke_data_comparison %>% dplyr::rename(\"SUB_MACE_DB_BETA\" = \"BETA\", \"SUB_MACE_DB_P\" = \"P\", \"SUB_MACE_DB_SE\" = \"SE\")\n",
    "\n",
    "    return(merged_stroke_data_comparison)\n",
    "}"
   ]
  },
  {
   "cell_type": "markdown",
   "id": "e5f2fe5b-1458-45b7-9afd-7c8312cf472e",
   "metadata": {
    "tags": []
   },
   "source": [
    "## Comparing p-values across all the different GWASes\n",
    "\n",
    "There are two interesting things to notice from this table:\n",
    "* In general, the subsequent MACE hits seem to align more closely with the incidence than the subsequent AIS does.\n",
    "* SlopeHunter correction decimates the p-values of the MACE hits that show promise.\n",
    "\n"
   ]
  },
  {
   "cell_type": "code",
   "execution_count": 10,
   "id": "93ec7df6-ee79-4cef-a37b-574c62414e35",
   "metadata": {
    "tags": []
   },
   "outputs": [
    {
     "name": "stdout",
     "output_type": "stream",
     "text": [
      "[1] \"Subsequent AIS against the Incidence Top Hits (non corrected)\"\n"
     ]
    },
    {
     "data": {
      "text/html": [
       "<table class=\"dataframe\">\n",
       "<caption>A data.table: 6 × 6</caption>\n",
       "<thead>\n",
       "\t<tr><th scope=col>MARKER</th><th scope=col>EXISTING_P</th><th scope=col>FIRST_P</th><th scope=col>SUB_AIS_P</th><th scope=col>SUB_AIS_SH_P</th><th scope=col>SUB_AIS_DB_P</th></tr>\n",
       "\t<tr><th scope=col>&lt;chr&gt;</th><th scope=col>&lt;dbl&gt;</th><th scope=col>&lt;dbl&gt;</th><th scope=col>&lt;dbl&gt;</th><th scope=col>&lt;dbl&gt;</th><th scope=col>&lt;dbl&gt;</th></tr>\n",
       "</thead>\n",
       "<tbody>\n",
       "\t<tr><td>7:92243719 </td><td>3.114e-09</td><td>3.784e-01</td><td>0.0005098</td><td>0.0004415</td><td>0.0001885</td></tr>\n",
       "\t<tr><td>9:22124450 </td><td>1.167e-11</td><td>1.181e-05</td><td>0.0004771</td><td>0.0053670</td><td>0.0004495</td></tr>\n",
       "\t<tr><td>4:155524009</td><td>1.972e-10</td><td>8.933e-02</td><td>0.0002233</td><td>0.0039340</td><td>0.0012800</td></tr>\n",
       "\t<tr><td>2:203650410</td><td>8.798e-10</td><td>1.216e-01</td><td>0.0036200</td><td>0.0044720</td><td>0.0016570</td></tr>\n",
       "\t<tr><td>6:49425521 </td><td>1.656e-09</td><td>2.385e-02</td><td>0.0011480</td><td>0.0098700</td><td>0.0022590</td></tr>\n",
       "\t<tr><td>1:3221083  </td><td>5.952e-10</td><td>3.360e-02</td><td>0.0033070</td><td>0.0062260</td><td>0.0026920</td></tr>\n",
       "</tbody>\n",
       "</table>\n"
      ],
      "text/latex": [
       "A data.table: 6 × 6\n",
       "\\begin{tabular}{llllll}\n",
       " MARKER & EXISTING\\_P & FIRST\\_P & SUB\\_AIS\\_P & SUB\\_AIS\\_SH\\_P & SUB\\_AIS\\_DB\\_P\\\\\n",
       " <chr> & <dbl> & <dbl> & <dbl> & <dbl> & <dbl>\\\\\n",
       "\\hline\n",
       "\t 7:92243719  & 3.114e-09 & 3.784e-01 & 0.0005098 & 0.0004415 & 0.0001885\\\\\n",
       "\t 9:22124450  & 1.167e-11 & 1.181e-05 & 0.0004771 & 0.0053670 & 0.0004495\\\\\n",
       "\t 4:155524009 & 1.972e-10 & 8.933e-02 & 0.0002233 & 0.0039340 & 0.0012800\\\\\n",
       "\t 2:203650410 & 8.798e-10 & 1.216e-01 & 0.0036200 & 0.0044720 & 0.0016570\\\\\n",
       "\t 6:49425521  & 1.656e-09 & 2.385e-02 & 0.0011480 & 0.0098700 & 0.0022590\\\\\n",
       "\t 1:3221083   & 5.952e-10 & 3.360e-02 & 0.0033070 & 0.0062260 & 0.0026920\\\\\n",
       "\\end{tabular}\n"
      ],
      "text/markdown": [
       "\n",
       "A data.table: 6 × 6\n",
       "\n",
       "| MARKER &lt;chr&gt; | EXISTING_P &lt;dbl&gt; | FIRST_P &lt;dbl&gt; | SUB_AIS_P &lt;dbl&gt; | SUB_AIS_SH_P &lt;dbl&gt; | SUB_AIS_DB_P &lt;dbl&gt; |\n",
       "|---|---|---|---|---|---|\n",
       "| 7:92243719  | 3.114e-09 | 3.784e-01 | 0.0005098 | 0.0004415 | 0.0001885 |\n",
       "| 9:22124450  | 1.167e-11 | 1.181e-05 | 0.0004771 | 0.0053670 | 0.0004495 |\n",
       "| 4:155524009 | 1.972e-10 | 8.933e-02 | 0.0002233 | 0.0039340 | 0.0012800 |\n",
       "| 2:203650410 | 8.798e-10 | 1.216e-01 | 0.0036200 | 0.0044720 | 0.0016570 |\n",
       "| 6:49425521  | 1.656e-09 | 2.385e-02 | 0.0011480 | 0.0098700 | 0.0022590 |\n",
       "| 1:3221083   | 5.952e-10 | 3.360e-02 | 0.0033070 | 0.0062260 | 0.0026920 |\n",
       "\n"
      ],
      "text/plain": [
       "  MARKER      EXISTING_P FIRST_P   SUB_AIS_P SUB_AIS_SH_P SUB_AIS_DB_P\n",
       "1 7:92243719  3.114e-09  3.784e-01 0.0005098 0.0004415    0.0001885   \n",
       "2 9:22124450  1.167e-11  1.181e-05 0.0004771 0.0053670    0.0004495   \n",
       "3 4:155524009 1.972e-10  8.933e-02 0.0002233 0.0039340    0.0012800   \n",
       "4 2:203650410 8.798e-10  1.216e-01 0.0036200 0.0044720    0.0016570   \n",
       "5 6:49425521  1.656e-09  2.385e-02 0.0011480 0.0098700    0.0022590   \n",
       "6 1:3221083   5.952e-10  3.360e-02 0.0033070 0.0062260    0.0026920   "
      ]
     },
     "metadata": {},
     "output_type": "display_data"
    },
    {
     "name": "stdout",
     "output_type": "stream",
     "text": [
      "[1] \"Subsequent AIS against the Incidence Top Hits (corrected)\"\n"
     ]
    },
    {
     "data": {
      "text/html": [
       "<table class=\"dataframe\">\n",
       "<caption>A data.table: 6 × 6</caption>\n",
       "<thead>\n",
       "\t<tr><th scope=col>MARKER</th><th scope=col>EXISTING_P</th><th scope=col>FIRST_P</th><th scope=col>SUB_AIS_P</th><th scope=col>SUB_AIS_SH_P</th><th scope=col>SUB_AIS_DB_P</th></tr>\n",
       "\t<tr><th scope=col>&lt;chr&gt;</th><th scope=col>&lt;dbl&gt;</th><th scope=col>&lt;dbl&gt;</th><th scope=col>&lt;dbl&gt;</th><th scope=col>&lt;dbl&gt;</th><th scope=col>&lt;dbl&gt;</th></tr>\n",
       "</thead>\n",
       "<tbody>\n",
       "\t<tr><td>7:92243719 </td><td>3.114e-09</td><td>3.784e-01</td><td>0.0005098</td><td>0.0004415</td><td>0.0001885</td></tr>\n",
       "\t<tr><td>9:22124450 </td><td>1.167e-11</td><td>1.181e-05</td><td>0.0004771</td><td>0.0053670</td><td>0.0004495</td></tr>\n",
       "\t<tr><td>4:155524009</td><td>1.972e-10</td><td>8.933e-02</td><td>0.0002233</td><td>0.0039340</td><td>0.0012800</td></tr>\n",
       "\t<tr><td>2:203650410</td><td>8.798e-10</td><td>1.216e-01</td><td>0.0036200</td><td>0.0044720</td><td>0.0016570</td></tr>\n",
       "\t<tr><td>6:49425521 </td><td>1.656e-09</td><td>2.385e-02</td><td>0.0011480</td><td>0.0098700</td><td>0.0022590</td></tr>\n",
       "\t<tr><td>1:3221083  </td><td>5.952e-10</td><td>3.360e-02</td><td>0.0033070</td><td>0.0062260</td><td>0.0026920</td></tr>\n",
       "</tbody>\n",
       "</table>\n"
      ],
      "text/latex": [
       "A data.table: 6 × 6\n",
       "\\begin{tabular}{llllll}\n",
       " MARKER & EXISTING\\_P & FIRST\\_P & SUB\\_AIS\\_P & SUB\\_AIS\\_SH\\_P & SUB\\_AIS\\_DB\\_P\\\\\n",
       " <chr> & <dbl> & <dbl> & <dbl> & <dbl> & <dbl>\\\\\n",
       "\\hline\n",
       "\t 7:92243719  & 3.114e-09 & 3.784e-01 & 0.0005098 & 0.0004415 & 0.0001885\\\\\n",
       "\t 9:22124450  & 1.167e-11 & 1.181e-05 & 0.0004771 & 0.0053670 & 0.0004495\\\\\n",
       "\t 4:155524009 & 1.972e-10 & 8.933e-02 & 0.0002233 & 0.0039340 & 0.0012800\\\\\n",
       "\t 2:203650410 & 8.798e-10 & 1.216e-01 & 0.0036200 & 0.0044720 & 0.0016570\\\\\n",
       "\t 6:49425521  & 1.656e-09 & 2.385e-02 & 0.0011480 & 0.0098700 & 0.0022590\\\\\n",
       "\t 1:3221083   & 5.952e-10 & 3.360e-02 & 0.0033070 & 0.0062260 & 0.0026920\\\\\n",
       "\\end{tabular}\n"
      ],
      "text/markdown": [
       "\n",
       "A data.table: 6 × 6\n",
       "\n",
       "| MARKER &lt;chr&gt; | EXISTING_P &lt;dbl&gt; | FIRST_P &lt;dbl&gt; | SUB_AIS_P &lt;dbl&gt; | SUB_AIS_SH_P &lt;dbl&gt; | SUB_AIS_DB_P &lt;dbl&gt; |\n",
       "|---|---|---|---|---|---|\n",
       "| 7:92243719  | 3.114e-09 | 3.784e-01 | 0.0005098 | 0.0004415 | 0.0001885 |\n",
       "| 9:22124450  | 1.167e-11 | 1.181e-05 | 0.0004771 | 0.0053670 | 0.0004495 |\n",
       "| 4:155524009 | 1.972e-10 | 8.933e-02 | 0.0002233 | 0.0039340 | 0.0012800 |\n",
       "| 2:203650410 | 8.798e-10 | 1.216e-01 | 0.0036200 | 0.0044720 | 0.0016570 |\n",
       "| 6:49425521  | 1.656e-09 | 2.385e-02 | 0.0011480 | 0.0098700 | 0.0022590 |\n",
       "| 1:3221083   | 5.952e-10 | 3.360e-02 | 0.0033070 | 0.0062260 | 0.0026920 |\n",
       "\n"
      ],
      "text/plain": [
       "  MARKER      EXISTING_P FIRST_P   SUB_AIS_P SUB_AIS_SH_P SUB_AIS_DB_P\n",
       "1 7:92243719  3.114e-09  3.784e-01 0.0005098 0.0004415    0.0001885   \n",
       "2 9:22124450  1.167e-11  1.181e-05 0.0004771 0.0053670    0.0004495   \n",
       "3 4:155524009 1.972e-10  8.933e-02 0.0002233 0.0039340    0.0012800   \n",
       "4 2:203650410 8.798e-10  1.216e-01 0.0036200 0.0044720    0.0016570   \n",
       "5 6:49425521  1.656e-09  2.385e-02 0.0011480 0.0098700    0.0022590   \n",
       "6 1:3221083   5.952e-10  3.360e-02 0.0033070 0.0062260    0.0026920   "
      ]
     },
     "metadata": {},
     "output_type": "display_data"
    },
    {
     "name": "stdout",
     "output_type": "stream",
     "text": [
      "[1] \"Subsequent MACE against the Incidence Top Hits (non corrected)\"\n"
     ]
    },
    {
     "data": {
      "text/html": [
       "<table class=\"dataframe\">\n",
       "<caption>A data.table: 6 × 6</caption>\n",
       "<thead>\n",
       "\t<tr><th scope=col>MARKER</th><th scope=col>EXISTING_P</th><th scope=col>FIRST_P</th><th scope=col>SUB_AIS_P</th><th scope=col>SUB_AIS_SH_P</th><th scope=col>SUB_AIS_DB_P</th></tr>\n",
       "\t<tr><th scope=col>&lt;chr&gt;</th><th scope=col>&lt;dbl&gt;</th><th scope=col>&lt;dbl&gt;</th><th scope=col>&lt;dbl&gt;</th><th scope=col>&lt;dbl&gt;</th><th scope=col>&lt;dbl&gt;</th></tr>\n",
       "</thead>\n",
       "<tbody>\n",
       "\t<tr><td>9:22114495  </td><td>1.400e-09</td><td>0.000117</td><td>0.0018450</td><td>0.007047</td><td>0.0008152</td></tr>\n",
       "\t<tr><td>6:49385182  </td><td>1.904e-09</td><td>0.022680</td><td>0.0018950</td><td>0.011560</td><td>0.0026440</td></tr>\n",
       "\t<tr><td>12:112849899</td><td>3.996e-09</td><td>0.033770</td><td>0.0732800</td><td>0.504900</td><td>0.3157000</td></tr>\n",
       "\t<tr><td>4:155524009 </td><td>1.972e-10</td><td>0.089330</td><td>0.0002233</td><td>0.003934</td><td>0.0012800</td></tr>\n",
       "\t<tr><td>16:87561696 </td><td>2.290e-09</td><td>0.039690</td><td>0.2954000</td><td>0.010800</td><td>0.0293700</td></tr>\n",
       "\t<tr><td>12:112463296</td><td>7.492e-10</td><td>0.018960</td><td>0.1484000</td><td>0.771300</td><td>0.5111000</td></tr>\n",
       "</tbody>\n",
       "</table>\n"
      ],
      "text/latex": [
       "A data.table: 6 × 6\n",
       "\\begin{tabular}{llllll}\n",
       " MARKER & EXISTING\\_P & FIRST\\_P & SUB\\_AIS\\_P & SUB\\_AIS\\_SH\\_P & SUB\\_AIS\\_DB\\_P\\\\\n",
       " <chr> & <dbl> & <dbl> & <dbl> & <dbl> & <dbl>\\\\\n",
       "\\hline\n",
       "\t 9:22114495   & 1.400e-09 & 0.000117 & 0.0018450 & 0.007047 & 0.0008152\\\\\n",
       "\t 6:49385182   & 1.904e-09 & 0.022680 & 0.0018950 & 0.011560 & 0.0026440\\\\\n",
       "\t 12:112849899 & 3.996e-09 & 0.033770 & 0.0732800 & 0.504900 & 0.3157000\\\\\n",
       "\t 4:155524009  & 1.972e-10 & 0.089330 & 0.0002233 & 0.003934 & 0.0012800\\\\\n",
       "\t 16:87561696  & 2.290e-09 & 0.039690 & 0.2954000 & 0.010800 & 0.0293700\\\\\n",
       "\t 12:112463296 & 7.492e-10 & 0.018960 & 0.1484000 & 0.771300 & 0.5111000\\\\\n",
       "\\end{tabular}\n"
      ],
      "text/markdown": [
       "\n",
       "A data.table: 6 × 6\n",
       "\n",
       "| MARKER &lt;chr&gt; | EXISTING_P &lt;dbl&gt; | FIRST_P &lt;dbl&gt; | SUB_AIS_P &lt;dbl&gt; | SUB_AIS_SH_P &lt;dbl&gt; | SUB_AIS_DB_P &lt;dbl&gt; |\n",
       "|---|---|---|---|---|---|\n",
       "| 9:22114495   | 1.400e-09 | 0.000117 | 0.0018450 | 0.007047 | 0.0008152 |\n",
       "| 6:49385182   | 1.904e-09 | 0.022680 | 0.0018950 | 0.011560 | 0.0026440 |\n",
       "| 12:112849899 | 3.996e-09 | 0.033770 | 0.0732800 | 0.504900 | 0.3157000 |\n",
       "| 4:155524009  | 1.972e-10 | 0.089330 | 0.0002233 | 0.003934 | 0.0012800 |\n",
       "| 16:87561696  | 2.290e-09 | 0.039690 | 0.2954000 | 0.010800 | 0.0293700 |\n",
       "| 12:112463296 | 7.492e-10 | 0.018960 | 0.1484000 | 0.771300 | 0.5111000 |\n",
       "\n"
      ],
      "text/plain": [
       "  MARKER       EXISTING_P FIRST_P  SUB_AIS_P SUB_AIS_SH_P SUB_AIS_DB_P\n",
       "1 9:22114495   1.400e-09  0.000117 0.0018450 0.007047     0.0008152   \n",
       "2 6:49385182   1.904e-09  0.022680 0.0018950 0.011560     0.0026440   \n",
       "3 12:112849899 3.996e-09  0.033770 0.0732800 0.504900     0.3157000   \n",
       "4 4:155524009  1.972e-10  0.089330 0.0002233 0.003934     0.0012800   \n",
       "5 16:87561696  2.290e-09  0.039690 0.2954000 0.010800     0.0293700   \n",
       "6 12:112463296 7.492e-10  0.018960 0.1484000 0.771300     0.5111000   "
      ]
     },
     "metadata": {},
     "output_type": "display_data"
    },
    {
     "name": "stdout",
     "output_type": "stream",
     "text": [
      "[1] \"Subsequent MACE against the Incidence Top Hits (corrected)\"\n"
     ]
    },
    {
     "data": {
      "text/html": [
       "<table class=\"dataframe\">\n",
       "<caption>A data.table: 6 × 6</caption>\n",
       "<thead>\n",
       "\t<tr><th scope=col>MARKER</th><th scope=col>EXISTING_P</th><th scope=col>FIRST_P</th><th scope=col>SUB_MACE_P</th><th scope=col>SUB_MACE_SH_P</th><th scope=col>SUB_MACE_DB_P</th></tr>\n",
       "\t<tr><th scope=col>&lt;chr&gt;</th><th scope=col>&lt;dbl&gt;</th><th scope=col>&lt;dbl&gt;</th><th scope=col>&lt;dbl&gt;</th><th scope=col>&lt;dbl&gt;</th><th scope=col>&lt;dbl&gt;</th></tr>\n",
       "</thead>\n",
       "<tbody>\n",
       "\t<tr><td>9:22115026  </td><td>6.147e-12</td><td>0.0001093</td><td>0.0004201</td><td>0.0002852</td><td>1.377e-05</td></tr>\n",
       "\t<tr><td>4:155502869 </td><td>4.625e-17</td><td>0.0496200</td><td>0.0226100</td><td>0.0111200</td><td>4.359e-03</td></tr>\n",
       "\t<tr><td>7:92253972  </td><td>8.081e-09</td><td>0.9222000</td><td>0.0246100</td><td>0.0133500</td><td>1.332e-02</td></tr>\n",
       "\t<tr><td>6:49345141  </td><td>2.566e-09</td><td>0.0135400</td><td>0.0209500</td><td>0.0242400</td><td>1.617e-02</td></tr>\n",
       "\t<tr><td>13:110834217</td><td>4.339e-09</td><td>0.0115500</td><td>0.0241400</td><td>0.0264200</td><td>1.994e-02</td></tr>\n",
       "\t<tr><td>16:87562316 </td><td>2.317e-09</td><td>0.0530700</td><td>0.3454000</td><td>0.0207300</td><td>2.474e-02</td></tr>\n",
       "</tbody>\n",
       "</table>\n"
      ],
      "text/latex": [
       "A data.table: 6 × 6\n",
       "\\begin{tabular}{llllll}\n",
       " MARKER & EXISTING\\_P & FIRST\\_P & SUB\\_MACE\\_P & SUB\\_MACE\\_SH\\_P & SUB\\_MACE\\_DB\\_P\\\\\n",
       " <chr> & <dbl> & <dbl> & <dbl> & <dbl> & <dbl>\\\\\n",
       "\\hline\n",
       "\t 9:22115026   & 6.147e-12 & 0.0001093 & 0.0004201 & 0.0002852 & 1.377e-05\\\\\n",
       "\t 4:155502869  & 4.625e-17 & 0.0496200 & 0.0226100 & 0.0111200 & 4.359e-03\\\\\n",
       "\t 7:92253972   & 8.081e-09 & 0.9222000 & 0.0246100 & 0.0133500 & 1.332e-02\\\\\n",
       "\t 6:49345141   & 2.566e-09 & 0.0135400 & 0.0209500 & 0.0242400 & 1.617e-02\\\\\n",
       "\t 13:110834217 & 4.339e-09 & 0.0115500 & 0.0241400 & 0.0264200 & 1.994e-02\\\\\n",
       "\t 16:87562316  & 2.317e-09 & 0.0530700 & 0.3454000 & 0.0207300 & 2.474e-02\\\\\n",
       "\\end{tabular}\n"
      ],
      "text/markdown": [
       "\n",
       "A data.table: 6 × 6\n",
       "\n",
       "| MARKER &lt;chr&gt; | EXISTING_P &lt;dbl&gt; | FIRST_P &lt;dbl&gt; | SUB_MACE_P &lt;dbl&gt; | SUB_MACE_SH_P &lt;dbl&gt; | SUB_MACE_DB_P &lt;dbl&gt; |\n",
       "|---|---|---|---|---|---|\n",
       "| 9:22115026   | 6.147e-12 | 0.0001093 | 0.0004201 | 0.0002852 | 1.377e-05 |\n",
       "| 4:155502869  | 4.625e-17 | 0.0496200 | 0.0226100 | 0.0111200 | 4.359e-03 |\n",
       "| 7:92253972   | 8.081e-09 | 0.9222000 | 0.0246100 | 0.0133500 | 1.332e-02 |\n",
       "| 6:49345141   | 2.566e-09 | 0.0135400 | 0.0209500 | 0.0242400 | 1.617e-02 |\n",
       "| 13:110834217 | 4.339e-09 | 0.0115500 | 0.0241400 | 0.0264200 | 1.994e-02 |\n",
       "| 16:87562316  | 2.317e-09 | 0.0530700 | 0.3454000 | 0.0207300 | 2.474e-02 |\n",
       "\n"
      ],
      "text/plain": [
       "  MARKER       EXISTING_P FIRST_P   SUB_MACE_P SUB_MACE_SH_P SUB_MACE_DB_P\n",
       "1 9:22115026   6.147e-12  0.0001093 0.0004201  0.0002852     1.377e-05    \n",
       "2 4:155502869  4.625e-17  0.0496200 0.0226100  0.0111200     4.359e-03    \n",
       "3 7:92253972   8.081e-09  0.9222000 0.0246100  0.0133500     1.332e-02    \n",
       "4 6:49345141   2.566e-09  0.0135400 0.0209500  0.0242400     1.617e-02    \n",
       "5 13:110834217 4.339e-09  0.0115500 0.0241400  0.0264200     1.994e-02    \n",
       "6 16:87562316  2.317e-09  0.0530700 0.3454000  0.0207300     2.474e-02    "
      ]
     },
     "metadata": {},
     "output_type": "display_data"
    }
   ],
   "source": [
    "merged_existing_gwas <- merge_gwases(existing_stroke_gwas_top_hits)\n",
    "merged_existing_gwas <- merge(merged_existing_gwas, first_ais_metaanalysis, by = \"MARKER\")\n",
    "merged_existing_gwas <- merged_existing_gwas %>% dplyr::rename(\"FIRST_BETA\" = \"BETA\", \"FIRST_P\" = \"P\", \"FIRST_SE\" = \"SE\")\n",
    "\n",
    "merged_existing_gwas <- transform(merged_existing_gwas, SUB_AIS_MIN_P_VALUE = pmin(SUB_AIS_SH_P, SUB_AIS_DB_P))\n",
    "merged_existing_gwas <- transform(merged_existing_gwas, SUB_MACE_MIN_P_VALUE = pmin(SUB_MACE_SH_P, SUB_MACE_DB_P))\n",
    "\n",
    "print(\"Subsequent AIS against the Incidence Top Hits (non corrected)\")\n",
    "pruned_ais_snps <- basic_snp_pruning(merged_existing_gwas, p_value_column=\"SUB_AIS_P\")\n",
    "head(pruned_ais_snps[with(pruned_ais_snps, order(SUB_AIS_MIN_P_VALUE)), c(\"MARKER\", \"EXISTING_P\", \"FIRST_P\", \"SUB_AIS_P\", \"SUB_AIS_SH_P\", \"SUB_AIS_DB_P\")])\n",
    "\n",
    "print(\"Subsequent AIS against the Incidence Top Hits (corrected)\")\n",
    "pruned_ais_snps <- basic_snp_pruning(merged_existing_gwas, p_value_column=\"SUB_AIS_MIN_P_VALUE\")\n",
    "head(pruned_ais_snps[with(pruned_ais_snps, order(SUB_AIS_MIN_P_VALUE)), c(\"MARKER\", \"EXISTING_P\", \"FIRST_P\", \"SUB_AIS_P\", \"SUB_AIS_SH_P\", \"SUB_AIS_DB_P\")])\n",
    "\n",
    "print(\"Subsequent MACE against the Incidence Top Hits (non corrected)\")\n",
    "pruned_ais_snps <- basic_snp_pruning(merged_existing_gwas, p_value_column=\"SUB_MACE_P\")\n",
    "head(pruned_ais_snps[with(pruned_ais_snps, order(SUB_MACE_MIN_P_VALUE)), c(\"MARKER\", \"EXISTING_P\", \"FIRST_P\", \"SUB_AIS_P\", \"SUB_AIS_SH_P\", \"SUB_AIS_DB_P\")])\n",
    "\n",
    "print(\"Subsequent MACE against the Incidence Top Hits (corrected)\")\n",
    "pruned_mace_snps <- basic_snp_pruning(merged_existing_gwas, p_value_column=\"SUB_MACE_MIN_P_VALUE\")\n",
    "head(pruned_mace_snps[with(pruned_mace_snps, order(SUB_MACE_MIN_P_VALUE)), c(\"MARKER\", \"EXISTING_P\", \"FIRST_P\", \"SUB_MACE_P\", \"SUB_MACE_SH_P\", \"SUB_MACE_DB_P\")])"
   ]
  },
  {
   "cell_type": "markdown",
   "id": "2d9ab2d0-4f44-41d3-8be6-f3f52db747df",
   "metadata": {},
   "source": [
    "Look at the above in comparison with the starting point of the meta analysed incidence GWAS that we have available from our data...\n",
    "\n",
    "Interesting thing to note here:\n",
    "* The Dudbridge Correction seemed to increase most of these hits..."
   ]
  },
  {
   "cell_type": "code",
   "execution_count": 8,
   "id": "d58ef38c-5744-452c-96d0-bd9bae1bdd43",
   "metadata": {
    "tags": []
   },
   "outputs": [
    {
     "name": "stdout",
     "output_type": "stream",
     "text": [
      "[1] \"Subsequent AIS Top Hits (when filtered by existing incidence GWAS 1e-8)\"\n"
     ]
    },
    {
     "data": {
      "text/html": [
       "<table class=\"dataframe\">\n",
       "<caption>A data.table: 6 × 5</caption>\n",
       "<thead>\n",
       "\t<tr><th scope=col>MARKER</th><th scope=col>EXISTING_P</th><th scope=col>SUB_AIS_P</th><th scope=col>SUB_AIS_SH_P</th><th scope=col>SUB_AIS_DB_P</th></tr>\n",
       "\t<tr><th scope=col>&lt;chr&gt;</th><th scope=col>&lt;dbl&gt;</th><th scope=col>&lt;dbl&gt;</th><th scope=col>&lt;dbl&gt;</th><th scope=col>&lt;dbl&gt;</th></tr>\n",
       "</thead>\n",
       "<tbody>\n",
       "\t<tr><td>9:22099746 </td><td>2.156e-09</td><td>0.001817</td><td>0.20280</td><td>0.002616</td></tr>\n",
       "\t<tr><td>2:203865822</td><td>5.581e-09</td><td>0.010870</td><td>0.07700</td><td>0.025080</td></tr>\n",
       "\t<tr><td>7:92244630 </td><td>7.712e-09</td><td>0.010930</td><td>0.16100</td><td>0.035380</td></tr>\n",
       "\t<tr><td>7:92257602 </td><td>2.963e-09</td><td>0.010990</td><td>0.08762</td><td>0.021230</td></tr>\n",
       "\t<tr><td>2:203888355</td><td>6.357e-09</td><td>0.011190</td><td>0.14450</td><td>0.026710</td></tr>\n",
       "\t<tr><td>7:92263789 </td><td>2.594e-09</td><td>0.020800</td><td>0.06938</td><td>0.026960</td></tr>\n",
       "</tbody>\n",
       "</table>\n"
      ],
      "text/latex": [
       "A data.table: 6 × 5\n",
       "\\begin{tabular}{lllll}\n",
       " MARKER & EXISTING\\_P & SUB\\_AIS\\_P & SUB\\_AIS\\_SH\\_P & SUB\\_AIS\\_DB\\_P\\\\\n",
       " <chr> & <dbl> & <dbl> & <dbl> & <dbl>\\\\\n",
       "\\hline\n",
       "\t 9:22099746  & 2.156e-09 & 0.001817 & 0.20280 & 0.002616\\\\\n",
       "\t 2:203865822 & 5.581e-09 & 0.010870 & 0.07700 & 0.025080\\\\\n",
       "\t 7:92244630  & 7.712e-09 & 0.010930 & 0.16100 & 0.035380\\\\\n",
       "\t 7:92257602  & 2.963e-09 & 0.010990 & 0.08762 & 0.021230\\\\\n",
       "\t 2:203888355 & 6.357e-09 & 0.011190 & 0.14450 & 0.026710\\\\\n",
       "\t 7:92263789  & 2.594e-09 & 0.020800 & 0.06938 & 0.026960\\\\\n",
       "\\end{tabular}\n"
      ],
      "text/markdown": [
       "\n",
       "A data.table: 6 × 5\n",
       "\n",
       "| MARKER &lt;chr&gt; | EXISTING_P &lt;dbl&gt; | SUB_AIS_P &lt;dbl&gt; | SUB_AIS_SH_P &lt;dbl&gt; | SUB_AIS_DB_P &lt;dbl&gt; |\n",
       "|---|---|---|---|---|\n",
       "| 9:22099746  | 2.156e-09 | 0.001817 | 0.20280 | 0.002616 |\n",
       "| 2:203865822 | 5.581e-09 | 0.010870 | 0.07700 | 0.025080 |\n",
       "| 7:92244630  | 7.712e-09 | 0.010930 | 0.16100 | 0.035380 |\n",
       "| 7:92257602  | 2.963e-09 | 0.010990 | 0.08762 | 0.021230 |\n",
       "| 2:203888355 | 6.357e-09 | 0.011190 | 0.14450 | 0.026710 |\n",
       "| 7:92263789  | 2.594e-09 | 0.020800 | 0.06938 | 0.026960 |\n",
       "\n"
      ],
      "text/plain": [
       "  MARKER      EXISTING_P SUB_AIS_P SUB_AIS_SH_P SUB_AIS_DB_P\n",
       "1 9:22099746  2.156e-09  0.001817  0.20280      0.002616    \n",
       "2 2:203865822 5.581e-09  0.010870  0.07700      0.025080    \n",
       "3 7:92244630  7.712e-09  0.010930  0.16100      0.035380    \n",
       "4 7:92257602  2.963e-09  0.010990  0.08762      0.021230    \n",
       "5 2:203888355 6.357e-09  0.011190  0.14450      0.026710    \n",
       "6 7:92263789  2.594e-09  0.020800  0.06938      0.026960    "
      ]
     },
     "metadata": {},
     "output_type": "display_data"
    },
    {
     "name": "stdout",
     "output_type": "stream",
     "text": [
      "[1] \"Subsequent MACE Top Hits (when filtered by existing incidence GWAS 1e-8)\"\n"
     ]
    },
    {
     "data": {
      "text/html": [
       "<table class=\"dataframe\">\n",
       "<caption>A data.table: 6 × 5</caption>\n",
       "<thead>\n",
       "\t<tr><th scope=col>MARKER</th><th scope=col>EXISTING_P</th><th scope=col>SUB_MACE_P</th><th scope=col>SUB_MACE_SH_P</th><th scope=col>SUB_MACE_DB_P</th></tr>\n",
       "\t<tr><th scope=col>&lt;chr&gt;</th><th scope=col>&lt;dbl&gt;</th><th scope=col>&lt;dbl&gt;</th><th scope=col>&lt;dbl&gt;</th><th scope=col>&lt;dbl&gt;</th></tr>\n",
       "</thead>\n",
       "<tbody>\n",
       "\t<tr><td>9:22099746 </td><td>2.156e-09</td><td>1.748e-06</td><td>7.168e-01</td><td>0.0001131</td></tr>\n",
       "\t<tr><td>1:183098697</td><td>6.978e-09</td><td>2.255e-01</td><td>6.335e-05</td><td>0.0967600</td></tr>\n",
       "\t<tr><td>1:183005231</td><td>4.449e-09</td><td>4.520e-01</td><td>1.301e-04</td><td>0.0962000</td></tr>\n",
       "\t<tr><td>1:183105855</td><td>2.742e-09</td><td>5.511e-01</td><td>5.065e-04</td><td>0.1396000</td></tr>\n",
       "\t<tr><td>9:22085719 </td><td>6.095e-09</td><td>5.295e-04</td><td>5.081e-01</td><td>0.0057460</td></tr>\n",
       "\t<tr><td>1:183115328</td><td>8.152e-10</td><td>5.623e-01</td><td>5.938e-04</td><td>0.1743000</td></tr>\n",
       "</tbody>\n",
       "</table>\n"
      ],
      "text/latex": [
       "A data.table: 6 × 5\n",
       "\\begin{tabular}{lllll}\n",
       " MARKER & EXISTING\\_P & SUB\\_MACE\\_P & SUB\\_MACE\\_SH\\_P & SUB\\_MACE\\_DB\\_P\\\\\n",
       " <chr> & <dbl> & <dbl> & <dbl> & <dbl>\\\\\n",
       "\\hline\n",
       "\t 9:22099746  & 2.156e-09 & 1.748e-06 & 7.168e-01 & 0.0001131\\\\\n",
       "\t 1:183098697 & 6.978e-09 & 2.255e-01 & 6.335e-05 & 0.0967600\\\\\n",
       "\t 1:183005231 & 4.449e-09 & 4.520e-01 & 1.301e-04 & 0.0962000\\\\\n",
       "\t 1:183105855 & 2.742e-09 & 5.511e-01 & 5.065e-04 & 0.1396000\\\\\n",
       "\t 9:22085719  & 6.095e-09 & 5.295e-04 & 5.081e-01 & 0.0057460\\\\\n",
       "\t 1:183115328 & 8.152e-10 & 5.623e-01 & 5.938e-04 & 0.1743000\\\\\n",
       "\\end{tabular}\n"
      ],
      "text/markdown": [
       "\n",
       "A data.table: 6 × 5\n",
       "\n",
       "| MARKER &lt;chr&gt; | EXISTING_P &lt;dbl&gt; | SUB_MACE_P &lt;dbl&gt; | SUB_MACE_SH_P &lt;dbl&gt; | SUB_MACE_DB_P &lt;dbl&gt; |\n",
       "|---|---|---|---|---|\n",
       "| 9:22099746  | 2.156e-09 | 1.748e-06 | 7.168e-01 | 0.0001131 |\n",
       "| 1:183098697 | 6.978e-09 | 2.255e-01 | 6.335e-05 | 0.0967600 |\n",
       "| 1:183005231 | 4.449e-09 | 4.520e-01 | 1.301e-04 | 0.0962000 |\n",
       "| 1:183105855 | 2.742e-09 | 5.511e-01 | 5.065e-04 | 0.1396000 |\n",
       "| 9:22085719  | 6.095e-09 | 5.295e-04 | 5.081e-01 | 0.0057460 |\n",
       "| 1:183115328 | 8.152e-10 | 5.623e-01 | 5.938e-04 | 0.1743000 |\n",
       "\n"
      ],
      "text/plain": [
       "  MARKER      EXISTING_P SUB_MACE_P SUB_MACE_SH_P SUB_MACE_DB_P\n",
       "1 9:22099746  2.156e-09  1.748e-06  7.168e-01     0.0001131    \n",
       "2 1:183098697 6.978e-09  2.255e-01  6.335e-05     0.0967600    \n",
       "3 1:183005231 4.449e-09  4.520e-01  1.301e-04     0.0962000    \n",
       "4 1:183105855 2.742e-09  5.511e-01  5.065e-04     0.1396000    \n",
       "5 9:22085719  6.095e-09  5.295e-04  5.081e-01     0.0057460    \n",
       "6 1:183115328 8.152e-10  5.623e-01  5.938e-04     0.1743000    "
      ]
     },
     "metadata": {},
     "output_type": "display_data"
    }
   ],
   "source": [
    "significant_first_ais_comparison <- first_ais_metaanalysis[first_ais_metaanalysis$P < 1e-8,]\n",
    "significant_first_ais_comparison <- merge_gwases(significant_first_ais_comparison)\n",
    "\n",
    "significant_first_ais_comparison <- transform(significant_first_ais_comparison, SUB_AIS_MIN_P_VALUE = pmin(SUB_AIS_P, SUB_AIS_SH_P, SUB_AIS_DB_P))\n",
    "significant_first_ais_comparison <- transform(significant_first_ais_comparison, SUB_MACE_MIN_P_VALUE = pmin(SUB_MACE_P, SUB_MACE_SH_P, SUB_MACE_DB_P))\n",
    "\n",
    "print(\"Subsequent AIS Top Hits (when filtered by existing incidence GWAS 1e-8)\")\n",
    "pruned_ais_snps <- basic_snp_pruning(significant_first_ais_comparison, p_value_column=\"SUB_AIS_MIN_P_VALUE\")\n",
    "head(pruned_ais_snps[with(pruned_ais_snps, order(SUB_AIS_MIN_P_VALUE)), c(\"MARKER\", \"EXISTING_P\", \"SUB_AIS_P\", \"SUB_AIS_SH_P\", \"SUB_AIS_DB_P\")])\n",
    "\n",
    "print(\"Subsequent MACE Top Hits (when filtered by existing incidence GWAS 1e-8)\")\n",
    "pruned_mace_snps <- basic_snp_pruning(significant_first_ais_comparison, p_value_column=\"SUB_AIS_MIN_P_VALUE\")\n",
    "head(pruned_mace_snps[with(pruned_mace_snps, order(SUB_MACE_MIN_P_VALUE)), c(\"MARKER\", \"EXISTING_P\", \"SUB_MACE_P\", \"SUB_MACE_SH_P\", \"SUB_MACE_DB_P\")])"
   ]
  },
  {
   "cell_type": "markdown",
   "id": "01a7e074-3eb1-4e68-9c04-d7be83402d36",
   "metadata": {
    "tags": []
   },
   "source": [
    "## Working Backwards from the Subsequent GWAS Results\n",
    "\n"
   ]
  },
  {
   "cell_type": "code",
   "execution_count": 35,
   "id": "e6d8e44c-363a-4443-b31b-a74e5049f6fd",
   "metadata": {
    "tags": []
   },
   "outputs": [
    {
     "data": {
      "text/html": [
       "<table class=\"dataframe\">\n",
       "<caption>A data.table: 18 × 5</caption>\n",
       "<thead>\n",
       "\t<tr><th scope=col>MARKER</th><th scope=col>ORIG_EXISTING_P</th><th scope=col>SUB_AIS_P</th><th scope=col>SUB_AIS_SH_P</th><th scope=col>SUB_AIS_DB_P</th></tr>\n",
       "\t<tr><th scope=col>&lt;chr&gt;</th><th scope=col>&lt;dbl&gt;</th><th scope=col>&lt;dbl&gt;</th><th scope=col>&lt;dbl&gt;</th><th scope=col>&lt;dbl&gt;</th></tr>\n",
       "</thead>\n",
       "<tbody>\n",
       "\t<tr><td>10:14083037 </td><td>0.91500</td><td>7.092e-06</td><td>2.319e-04</td><td>4.860e-04</td></tr>\n",
       "\t<tr><td>10:81136015 </td><td>0.03442</td><td>5.888e-06</td><td>2.592e-05</td><td>1.792e-05</td></tr>\n",
       "\t<tr><td>12:108666175</td><td>0.35600</td><td>4.522e-06</td><td>2.042e-05</td><td>1.537e-05</td></tr>\n",
       "\t<tr><td>13:52428066 </td><td>0.01186</td><td>8.997e-06</td><td>1.517e-05</td><td>8.119e-06</td></tr>\n",
       "\t<tr><td>13:62059558 </td><td>0.92770</td><td>5.973e-06</td><td>3.571e-05</td><td>5.558e-05</td></tr>\n",
       "\t<tr><td>14:62708880 </td><td>0.13560</td><td>8.852e-06</td><td>5.191e-05</td><td>1.359e-04</td></tr>\n",
       "\t<tr><td>14:73294871 </td><td>0.30270</td><td>2.290e-06</td><td>1.666e-05</td><td>6.377e-06</td></tr>\n",
       "\t<tr><td>16:4417797  </td><td>0.27940</td><td>9.764e-07</td><td>4.465e-03</td><td>2.457e-03</td></tr>\n",
       "\t<tr><td>1:158889221 </td><td>0.06908</td><td>9.732e-06</td><td>5.954e-04</td><td>2.916e-04</td></tr>\n",
       "\t<tr><td>1:59828482  </td><td>0.87800</td><td>5.960e-06</td><td>2.752e-01</td><td>4.503e-02</td></tr>\n",
       "\t<tr><td>2:40793292  </td><td>0.56160</td><td>3.920e-06</td><td>4.134e-04</td><td>1.036e-04</td></tr>\n",
       "\t<tr><td>3:151077260 </td><td>0.26110</td><td>8.259e-06</td><td>2.759e-03</td><td>3.482e-04</td></tr>\n",
       "\t<tr><td>3:45446241  </td><td>0.43600</td><td>3.404e-07</td><td>9.911e-07</td><td>6.643e-07</td></tr>\n",
       "\t<tr><td>3:78660685  </td><td>0.56180</td><td>4.792e-06</td><td>4.922e-05</td><td>6.290e-05</td></tr>\n",
       "\t<tr><td>5:125697656 </td><td>0.79260</td><td>4.505e-06</td><td>9.200e-06</td><td>5.936e-06</td></tr>\n",
       "\t<tr><td>5:163208974 </td><td>0.74630</td><td>4.928e-06</td><td>5.228e-05</td><td>2.779e-05</td></tr>\n",
       "\t<tr><td>5:19673122  </td><td>0.84520</td><td>9.499e-06</td><td>1.958e-02</td><td>2.184e-02</td></tr>\n",
       "\t<tr><td>8:4763664   </td><td>0.80710</td><td>8.088e-06</td><td>9.917e-04</td><td>9.103e-04</td></tr>\n",
       "</tbody>\n",
       "</table>\n"
      ],
      "text/latex": [
       "A data.table: 18 × 5\n",
       "\\begin{tabular}{lllll}\n",
       " MARKER & ORIG\\_EXISTING\\_P & SUB\\_AIS\\_P & SUB\\_AIS\\_SH\\_P & SUB\\_AIS\\_DB\\_P\\\\\n",
       " <chr> & <dbl> & <dbl> & <dbl> & <dbl>\\\\\n",
       "\\hline\n",
       "\t 10:14083037  & 0.91500 & 7.092e-06 & 2.319e-04 & 4.860e-04\\\\\n",
       "\t 10:81136015  & 0.03442 & 5.888e-06 & 2.592e-05 & 1.792e-05\\\\\n",
       "\t 12:108666175 & 0.35600 & 4.522e-06 & 2.042e-05 & 1.537e-05\\\\\n",
       "\t 13:52428066  & 0.01186 & 8.997e-06 & 1.517e-05 & 8.119e-06\\\\\n",
       "\t 13:62059558  & 0.92770 & 5.973e-06 & 3.571e-05 & 5.558e-05\\\\\n",
       "\t 14:62708880  & 0.13560 & 8.852e-06 & 5.191e-05 & 1.359e-04\\\\\n",
       "\t 14:73294871  & 0.30270 & 2.290e-06 & 1.666e-05 & 6.377e-06\\\\\n",
       "\t 16:4417797   & 0.27940 & 9.764e-07 & 4.465e-03 & 2.457e-03\\\\\n",
       "\t 1:158889221  & 0.06908 & 9.732e-06 & 5.954e-04 & 2.916e-04\\\\\n",
       "\t 1:59828482   & 0.87800 & 5.960e-06 & 2.752e-01 & 4.503e-02\\\\\n",
       "\t 2:40793292   & 0.56160 & 3.920e-06 & 4.134e-04 & 1.036e-04\\\\\n",
       "\t 3:151077260  & 0.26110 & 8.259e-06 & 2.759e-03 & 3.482e-04\\\\\n",
       "\t 3:45446241   & 0.43600 & 3.404e-07 & 9.911e-07 & 6.643e-07\\\\\n",
       "\t 3:78660685   & 0.56180 & 4.792e-06 & 4.922e-05 & 6.290e-05\\\\\n",
       "\t 5:125697656  & 0.79260 & 4.505e-06 & 9.200e-06 & 5.936e-06\\\\\n",
       "\t 5:163208974  & 0.74630 & 4.928e-06 & 5.228e-05 & 2.779e-05\\\\\n",
       "\t 5:19673122   & 0.84520 & 9.499e-06 & 1.958e-02 & 2.184e-02\\\\\n",
       "\t 8:4763664    & 0.80710 & 8.088e-06 & 9.917e-04 & 9.103e-04\\\\\n",
       "\\end{tabular}\n"
      ],
      "text/markdown": [
       "\n",
       "A data.table: 18 × 5\n",
       "\n",
       "| MARKER &lt;chr&gt; | ORIG_EXISTING_P &lt;dbl&gt; | SUB_AIS_P &lt;dbl&gt; | SUB_AIS_SH_P &lt;dbl&gt; | SUB_AIS_DB_P &lt;dbl&gt; |\n",
       "|---|---|---|---|---|\n",
       "| 10:14083037  | 0.91500 | 7.092e-06 | 2.319e-04 | 4.860e-04 |\n",
       "| 10:81136015  | 0.03442 | 5.888e-06 | 2.592e-05 | 1.792e-05 |\n",
       "| 12:108666175 | 0.35600 | 4.522e-06 | 2.042e-05 | 1.537e-05 |\n",
       "| 13:52428066  | 0.01186 | 8.997e-06 | 1.517e-05 | 8.119e-06 |\n",
       "| 13:62059558  | 0.92770 | 5.973e-06 | 3.571e-05 | 5.558e-05 |\n",
       "| 14:62708880  | 0.13560 | 8.852e-06 | 5.191e-05 | 1.359e-04 |\n",
       "| 14:73294871  | 0.30270 | 2.290e-06 | 1.666e-05 | 6.377e-06 |\n",
       "| 16:4417797   | 0.27940 | 9.764e-07 | 4.465e-03 | 2.457e-03 |\n",
       "| 1:158889221  | 0.06908 | 9.732e-06 | 5.954e-04 | 2.916e-04 |\n",
       "| 1:59828482   | 0.87800 | 5.960e-06 | 2.752e-01 | 4.503e-02 |\n",
       "| 2:40793292   | 0.56160 | 3.920e-06 | 4.134e-04 | 1.036e-04 |\n",
       "| 3:151077260  | 0.26110 | 8.259e-06 | 2.759e-03 | 3.482e-04 |\n",
       "| 3:45446241   | 0.43600 | 3.404e-07 | 9.911e-07 | 6.643e-07 |\n",
       "| 3:78660685   | 0.56180 | 4.792e-06 | 4.922e-05 | 6.290e-05 |\n",
       "| 5:125697656  | 0.79260 | 4.505e-06 | 9.200e-06 | 5.936e-06 |\n",
       "| 5:163208974  | 0.74630 | 4.928e-06 | 5.228e-05 | 2.779e-05 |\n",
       "| 5:19673122   | 0.84520 | 9.499e-06 | 1.958e-02 | 2.184e-02 |\n",
       "| 8:4763664    | 0.80710 | 8.088e-06 | 9.917e-04 | 9.103e-04 |\n",
       "\n"
      ],
      "text/plain": [
       "   MARKER       ORIG_EXISTING_P SUB_AIS_P SUB_AIS_SH_P SUB_AIS_DB_P\n",
       "1  10:14083037  0.91500         7.092e-06 2.319e-04    4.860e-04   \n",
       "2  10:81136015  0.03442         5.888e-06 2.592e-05    1.792e-05   \n",
       "3  12:108666175 0.35600         4.522e-06 2.042e-05    1.537e-05   \n",
       "4  13:52428066  0.01186         8.997e-06 1.517e-05    8.119e-06   \n",
       "5  13:62059558  0.92770         5.973e-06 3.571e-05    5.558e-05   \n",
       "6  14:62708880  0.13560         8.852e-06 5.191e-05    1.359e-04   \n",
       "7  14:73294871  0.30270         2.290e-06 1.666e-05    6.377e-06   \n",
       "8  16:4417797   0.27940         9.764e-07 4.465e-03    2.457e-03   \n",
       "9  1:158889221  0.06908         9.732e-06 5.954e-04    2.916e-04   \n",
       "10 1:59828482   0.87800         5.960e-06 2.752e-01    4.503e-02   \n",
       "11 2:40793292   0.56160         3.920e-06 4.134e-04    1.036e-04   \n",
       "12 3:151077260  0.26110         8.259e-06 2.759e-03    3.482e-04   \n",
       "13 3:45446241   0.43600         3.404e-07 9.911e-07    6.643e-07   \n",
       "14 3:78660685   0.56180         4.792e-06 4.922e-05    6.290e-05   \n",
       "15 5:125697656  0.79260         4.505e-06 9.200e-06    5.936e-06   \n",
       "16 5:163208974  0.74630         4.928e-06 5.228e-05    2.779e-05   \n",
       "17 5:19673122   0.84520         9.499e-06 1.958e-02    2.184e-02   \n",
       "18 8:4763664    0.80710         8.088e-06 9.917e-04    9.103e-04   "
      ]
     },
     "metadata": {},
     "output_type": "display_data"
    },
    {
     "data": {
      "text/html": [
       "<table class=\"dataframe\">\n",
       "<caption>A data.table: 18 × 5</caption>\n",
       "<thead>\n",
       "\t<tr><th scope=col>MARKER</th><th scope=col>ORIG_EXISTING_P</th><th scope=col>SUB_MACE_P</th><th scope=col>SUB_MACE_SH_P</th><th scope=col>SUB_MACE_DB_P</th></tr>\n",
       "\t<tr><th scope=col>&lt;chr&gt;</th><th scope=col>&lt;dbl&gt;</th><th scope=col>&lt;dbl&gt;</th><th scope=col>&lt;dbl&gt;</th><th scope=col>&lt;dbl&gt;</th></tr>\n",
       "</thead>\n",
       "<tbody>\n",
       "\t<tr><td>13:112784083</td><td>9.792e-01</td><td>1.007e-06</td><td>4.892e-01</td><td>4.212e-01</td></tr>\n",
       "\t<tr><td>13:62079916 </td><td>8.618e-01</td><td>6.969e-06</td><td>3.004e-03</td><td>6.652e-03</td></tr>\n",
       "\t<tr><td>16:4417797  </td><td>2.794e-01</td><td>4.132e-07</td><td>4.926e-02</td><td>1.706e-02</td></tr>\n",
       "\t<tr><td>19:34198233 </td><td>6.495e-02</td><td>4.396e-06</td><td>6.797e-03</td><td>1.849e-02</td></tr>\n",
       "\t<tr><td>20:8007069  </td><td>6.586e-02</td><td>5.828e-06</td><td>4.147e-01</td><td>3.770e-01</td></tr>\n",
       "\t<tr><td>3:191782060 </td><td>6.456e-01</td><td>7.844e-06</td><td>4.300e-02</td><td>7.286e-02</td></tr>\n",
       "\t<tr><td>4:90752646  </td><td>4.713e-01</td><td>8.297e-06</td><td>1.810e-01</td><td>2.051e-01</td></tr>\n",
       "\t<tr><td>5:40389287  </td><td>5.477e-01</td><td>9.824e-06</td><td>1.079e-01</td><td>1.889e-01</td></tr>\n",
       "\t<tr><td>6:136685475 </td><td>4.099e-01</td><td>9.218e-06</td><td>7.469e-01</td><td>9.401e-01</td></tr>\n",
       "\t<tr><td>6:96267666  </td><td>1.237e-03</td><td>9.810e-06</td><td>4.100e-05</td><td>3.465e-05</td></tr>\n",
       "\t<tr><td>7:150585233 </td><td>3.650e-01</td><td>9.645e-06</td><td>1.232e-01</td><td>1.075e-01</td></tr>\n",
       "\t<tr><td>7:8719900   </td><td>4.742e-01</td><td>6.386e-06</td><td>4.323e-01</td><td>4.352e-01</td></tr>\n",
       "\t<tr><td>8:128809367 </td><td>7.534e-01</td><td>3.539e-06</td><td>2.286e-03</td><td>3.458e-03</td></tr>\n",
       "\t<tr><td>8:19087144  </td><td>5.291e-01</td><td>9.579e-06</td><td>2.983e-02</td><td>6.968e-02</td></tr>\n",
       "\t<tr><td>8:21401502  </td><td>1.568e-01</td><td>2.136e-06</td><td>4.874e-03</td><td>9.448e-03</td></tr>\n",
       "\t<tr><td>8:4774617   </td><td>5.256e-01</td><td>8.612e-06</td><td>3.017e-05</td><td>9.009e-05</td></tr>\n",
       "\t<tr><td>9:22124450  </td><td>1.167e-11</td><td>3.775e-06</td><td>2.481e-03</td><td>1.852e-04</td></tr>\n",
       "\t<tr><td>9:97272760  </td><td>3.807e-01</td><td>3.240e-06</td><td>3.587e-01</td><td>7.996e-01</td></tr>\n",
       "</tbody>\n",
       "</table>\n"
      ],
      "text/latex": [
       "A data.table: 18 × 5\n",
       "\\begin{tabular}{lllll}\n",
       " MARKER & ORIG\\_EXISTING\\_P & SUB\\_MACE\\_P & SUB\\_MACE\\_SH\\_P & SUB\\_MACE\\_DB\\_P\\\\\n",
       " <chr> & <dbl> & <dbl> & <dbl> & <dbl>\\\\\n",
       "\\hline\n",
       "\t 13:112784083 & 9.792e-01 & 1.007e-06 & 4.892e-01 & 4.212e-01\\\\\n",
       "\t 13:62079916  & 8.618e-01 & 6.969e-06 & 3.004e-03 & 6.652e-03\\\\\n",
       "\t 16:4417797   & 2.794e-01 & 4.132e-07 & 4.926e-02 & 1.706e-02\\\\\n",
       "\t 19:34198233  & 6.495e-02 & 4.396e-06 & 6.797e-03 & 1.849e-02\\\\\n",
       "\t 20:8007069   & 6.586e-02 & 5.828e-06 & 4.147e-01 & 3.770e-01\\\\\n",
       "\t 3:191782060  & 6.456e-01 & 7.844e-06 & 4.300e-02 & 7.286e-02\\\\\n",
       "\t 4:90752646   & 4.713e-01 & 8.297e-06 & 1.810e-01 & 2.051e-01\\\\\n",
       "\t 5:40389287   & 5.477e-01 & 9.824e-06 & 1.079e-01 & 1.889e-01\\\\\n",
       "\t 6:136685475  & 4.099e-01 & 9.218e-06 & 7.469e-01 & 9.401e-01\\\\\n",
       "\t 6:96267666   & 1.237e-03 & 9.810e-06 & 4.100e-05 & 3.465e-05\\\\\n",
       "\t 7:150585233  & 3.650e-01 & 9.645e-06 & 1.232e-01 & 1.075e-01\\\\\n",
       "\t 7:8719900    & 4.742e-01 & 6.386e-06 & 4.323e-01 & 4.352e-01\\\\\n",
       "\t 8:128809367  & 7.534e-01 & 3.539e-06 & 2.286e-03 & 3.458e-03\\\\\n",
       "\t 8:19087144   & 5.291e-01 & 9.579e-06 & 2.983e-02 & 6.968e-02\\\\\n",
       "\t 8:21401502   & 1.568e-01 & 2.136e-06 & 4.874e-03 & 9.448e-03\\\\\n",
       "\t 8:4774617    & 5.256e-01 & 8.612e-06 & 3.017e-05 & 9.009e-05\\\\\n",
       "\t 9:22124450   & 1.167e-11 & 3.775e-06 & 2.481e-03 & 1.852e-04\\\\\n",
       "\t 9:97272760   & 3.807e-01 & 3.240e-06 & 3.587e-01 & 7.996e-01\\\\\n",
       "\\end{tabular}\n"
      ],
      "text/markdown": [
       "\n",
       "A data.table: 18 × 5\n",
       "\n",
       "| MARKER &lt;chr&gt; | ORIG_EXISTING_P &lt;dbl&gt; | SUB_MACE_P &lt;dbl&gt; | SUB_MACE_SH_P &lt;dbl&gt; | SUB_MACE_DB_P &lt;dbl&gt; |\n",
       "|---|---|---|---|---|\n",
       "| 13:112784083 | 9.792e-01 | 1.007e-06 | 4.892e-01 | 4.212e-01 |\n",
       "| 13:62079916  | 8.618e-01 | 6.969e-06 | 3.004e-03 | 6.652e-03 |\n",
       "| 16:4417797   | 2.794e-01 | 4.132e-07 | 4.926e-02 | 1.706e-02 |\n",
       "| 19:34198233  | 6.495e-02 | 4.396e-06 | 6.797e-03 | 1.849e-02 |\n",
       "| 20:8007069   | 6.586e-02 | 5.828e-06 | 4.147e-01 | 3.770e-01 |\n",
       "| 3:191782060  | 6.456e-01 | 7.844e-06 | 4.300e-02 | 7.286e-02 |\n",
       "| 4:90752646   | 4.713e-01 | 8.297e-06 | 1.810e-01 | 2.051e-01 |\n",
       "| 5:40389287   | 5.477e-01 | 9.824e-06 | 1.079e-01 | 1.889e-01 |\n",
       "| 6:136685475  | 4.099e-01 | 9.218e-06 | 7.469e-01 | 9.401e-01 |\n",
       "| 6:96267666   | 1.237e-03 | 9.810e-06 | 4.100e-05 | 3.465e-05 |\n",
       "| 7:150585233  | 3.650e-01 | 9.645e-06 | 1.232e-01 | 1.075e-01 |\n",
       "| 7:8719900    | 4.742e-01 | 6.386e-06 | 4.323e-01 | 4.352e-01 |\n",
       "| 8:128809367  | 7.534e-01 | 3.539e-06 | 2.286e-03 | 3.458e-03 |\n",
       "| 8:19087144   | 5.291e-01 | 9.579e-06 | 2.983e-02 | 6.968e-02 |\n",
       "| 8:21401502   | 1.568e-01 | 2.136e-06 | 4.874e-03 | 9.448e-03 |\n",
       "| 8:4774617    | 5.256e-01 | 8.612e-06 | 3.017e-05 | 9.009e-05 |\n",
       "| 9:22124450   | 1.167e-11 | 3.775e-06 | 2.481e-03 | 1.852e-04 |\n",
       "| 9:97272760   | 3.807e-01 | 3.240e-06 | 3.587e-01 | 7.996e-01 |\n",
       "\n"
      ],
      "text/plain": [
       "   MARKER       ORIG_EXISTING_P SUB_MACE_P SUB_MACE_SH_P SUB_MACE_DB_P\n",
       "1  13:112784083 9.792e-01       1.007e-06  4.892e-01     4.212e-01    \n",
       "2  13:62079916  8.618e-01       6.969e-06  3.004e-03     6.652e-03    \n",
       "3  16:4417797   2.794e-01       4.132e-07  4.926e-02     1.706e-02    \n",
       "4  19:34198233  6.495e-02       4.396e-06  6.797e-03     1.849e-02    \n",
       "5  20:8007069   6.586e-02       5.828e-06  4.147e-01     3.770e-01    \n",
       "6  3:191782060  6.456e-01       7.844e-06  4.300e-02     7.286e-02    \n",
       "7  4:90752646   4.713e-01       8.297e-06  1.810e-01     2.051e-01    \n",
       "8  5:40389287   5.477e-01       9.824e-06  1.079e-01     1.889e-01    \n",
       "9  6:136685475  4.099e-01       9.218e-06  7.469e-01     9.401e-01    \n",
       "10 6:96267666   1.237e-03       9.810e-06  4.100e-05     3.465e-05    \n",
       "11 7:150585233  3.650e-01       9.645e-06  1.232e-01     1.075e-01    \n",
       "12 7:8719900    4.742e-01       6.386e-06  4.323e-01     4.352e-01    \n",
       "13 8:128809367  7.534e-01       3.539e-06  2.286e-03     3.458e-03    \n",
       "14 8:19087144   5.291e-01       9.579e-06  2.983e-02     6.968e-02    \n",
       "15 8:21401502   1.568e-01       2.136e-06  4.874e-03     9.448e-03    \n",
       "16 8:4774617    5.256e-01       8.612e-06  3.017e-05     9.009e-05    \n",
       "17 9:22124450   1.167e-11       3.775e-06  2.481e-03     1.852e-04    \n",
       "18 9:97272760   3.807e-01       3.240e-06  3.587e-01     7.996e-01    "
      ]
     },
     "metadata": {},
     "output_type": "display_data"
    }
   ],
   "source": [
    "significant_subsequent_ais_comparison <- subsequent_ais_metaanalysis_not_adjusted[subsequent_ais_metaanalysis_not_adjusted$P < 1e-5,]\n",
    "significant_subsequent_ais_comparison <- merge_gwases(significant_subsequent_ais_comparison)\n",
    "significant_subsequent_ais_comparison <- merge(significant_subsequent_ais_comparison, existing_stroke_gwas, by = \"MARKER\")\n",
    "significant_subsequent_ais_comparison <- significant_subsequent_ais_comparison %>% dplyr::rename(\"ORIG_EXISTING_BETA\" = \"BETA\", \"ORIG_EXISTING_P\" = \"P\", \"ORIG_EXISTING_SE\" = \"SE\")\n",
    "significant_subsequent_ais_comparison <- basic_snp_pruning(significant_subsequent_ais_comparison, p_value_column=\"SUB_AIS_P\")\n",
    "\n",
    "print(\"Subsequent AIS Top Hits\")\n",
    "significant_subsequent_ais_comparison[, c(\"MARKER\", \"ORIG_EXISTING_P\", \"SUB_AIS_P\", \"SUB_AIS_SH_P\", \"SUB_AIS_DB_P\")]\n",
    "\n",
    "significant_subsequent_mace_comparison <- subsequent_mace_metaanalysis_not_adjusted[subsequent_mace_metaanalysis_not_adjusted$P < 1e-5,]\n",
    "significant_subsequent_mace_comparison <- merge_gwases(significant_subsequent_mace_comparison)\n",
    "significant_subsequent_mace_comparison <- merge(significant_subsequent_mace_comparison, existing_stroke_gwas, by = \"MARKER\")\n",
    "significant_subsequent_mace_comparison <- significant_subsequent_mace_comparison %>% dplyr::rename(\"ORIG_EXISTING_BETA\" = \"BETA\", \"ORIG_EXISTING_P\" = \"P\", \"ORIG_EXISTING_SE\" = \"SE\")\n",
    "significant_subsequent_mace_comparison <- basic_snp_pruning(significant_subsequent_mace_comparison, p_value_column=\"SUB_AIS_P\")\n",
    "\n",
    "print(\"Subsequent MACE Top Hits\")\n",
    "significant_subsequent_mace_comparison[, c(\"MARKER\", \"ORIG_EXISTING_P\", \"SUB_MACE_P\", \"SUB_MACE_SH_P\", \"SUB_MACE_DB_P\")]"
   ]
  },
  {
   "cell_type": "markdown",
   "id": "b3628da9-e960-4311-a924-e2390c27accc",
   "metadata": {},
   "source": [
    "# Forest Plots of Potentially Interesting SNPs\n",
    ". | . \n",
    "- | - \n",
    "![image](scratch/results/9_22099746.png) | ![image](scratch/results/9_22124450.png)\n",
    "![image](scratch/results/1_183098697.png) | ![image](scratch/results/4_155502869.png)"
   ]
  }
 ],
 "metadata": {
  "kernelspec": {
   "display_name": "R",
   "language": "R",
   "name": "ir"
  },
  "language_info": {
   "codemirror_mode": "r",
   "file_extension": ".r",
   "mimetype": "text/x-r-source",
   "name": "R",
   "pygments_lexer": "r",
   "version": "4.2.3"
  },
  "toc-showcode": false
 },
 "nbformat": 4,
 "nbformat_minor": 5
}
