{
 "cells": [
  {
   "cell_type": "markdown",
   "id": "edc55e51-918d-4280-a898-2b1a75b014d4",
   "metadata": {},
   "source": [
    "# Results from Running MR on pQTL data\n",
    "\n",
    "Below are results from \n",
    "pQTL -> Subsequent MACE (original, slopehunter, and dudbridge adjusted)\n",
    "pQTL -> Subsequent AIS (original, slopehunter, and dudbridge adjusted)\n",
    "\n",
    "\n",
    "## MR for CIS ONLY pQTLs"
   ]
  },
  {
   "cell_type": "code",
   "execution_count": 9,
   "id": "af4c0139-c940-41dd-89a1-18ee0863e066",
   "metadata": {
    "tags": []
   },
   "outputs": [
    {
     "name": "stdout",
     "output_type": "stream",
     "text": [
      "[1] \"MR MACE Ordered by adjusted p palue\"\n"
     ]
    },
    {
     "data": {
      "text/html": [
       "<table class=\"dataframe\">\n",
       "<caption>A data.table: 6 × 11</caption>\n",
       "<thead>\n",
       "\t<tr><th scope=col>exposure</th><th scope=col>id.exposure</th><th scope=col>id.outcome</th><th scope=col>outcome</th><th scope=col>method</th><th scope=col>nsnp</th><th scope=col>b</th><th scope=col>se</th><th scope=col>pval</th><th scope=col>pval_adjusted</th><th scope=col>marker.exposure</th></tr>\n",
       "\t<tr><th scope=col>&lt;chr&gt;</th><th scope=col>&lt;chr&gt;</th><th scope=col>&lt;chr&gt;</th><th scope=col>&lt;chr&gt;</th><th scope=col>&lt;chr&gt;</th><th scope=col>&lt;int&gt;</th><th scope=col>&lt;dbl&gt;</th><th scope=col>&lt;dbl&gt;</th><th scope=col>&lt;dbl&gt;</th><th scope=col>&lt;dbl&gt;</th><th scope=col>&lt;chr&gt;</th></tr>\n",
       "</thead>\n",
       "<tbody>\n",
       "\t<tr><td>IL19    </td><td>qaGgii</td><td>LtUJm9</td><td>subsequent_mace_non_adjusted</td><td>Wald ratio</td><td>1</td><td> 0.1449876</td><td>0.03404796</td><td>2.059567e-05</td><td>0.02146069</td><td>1:207015957</td></tr>\n",
       "\t<tr><td>CCL27   </td><td>cd0BbM</td><td>LtUJm9</td><td>subsequent_mace_non_adjusted</td><td>Wald ratio</td><td>1</td><td> 0.2084062</td><td>0.05598065</td><td>1.970052e-04</td><td>0.10263972</td><td>9:34649442 </td></tr>\n",
       "\t<tr><td>TNFRSF14</td><td>Xlf1PW</td><td>LtUJm9</td><td>subsequent_mace_non_adjusted</td><td>Wald ratio</td><td>1</td><td>-0.3092712</td><td>0.08798982</td><td>4.400000e-04</td><td>0.15282666</td><td>1:2488930  </td></tr>\n",
       "\t<tr><td>KRT5    </td><td>Q1Tnr3</td><td>LtUJm9</td><td>subsequent_mace_non_adjusted</td><td>Wald ratio</td><td>1</td><td>-0.3246600</td><td>0.10098436</td><td>1.304658e-03</td><td>0.33986330</td><td>12:52913029</td></tr>\n",
       "\t<tr><td>ART3    </td><td>VrDU3G</td><td>LtUJm9</td><td>subsequent_mace_non_adjusted</td><td>Wald ratio</td><td>1</td><td>-0.1173722</td><td>0.03862408</td><td>2.374949e-03</td><td>0.41244953</td><td>4:77030398 </td></tr>\n",
       "\t<tr><td>IL34    </td><td>10P4qT</td><td>LtUJm9</td><td>subsequent_mace_non_adjusted</td><td>Wald ratio</td><td>1</td><td> 0.0484618</td><td>0.01584328</td><td>2.222080e-03</td><td>0.41244953</td><td>16:70694000</td></tr>\n",
       "</tbody>\n",
       "</table>\n"
      ],
      "text/latex": [
       "A data.table: 6 × 11\n",
       "\\begin{tabular}{lllllllllll}\n",
       " exposure & id.exposure & id.outcome & outcome & method & nsnp & b & se & pval & pval\\_adjusted & marker.exposure\\\\\n",
       " <chr> & <chr> & <chr> & <chr> & <chr> & <int> & <dbl> & <dbl> & <dbl> & <dbl> & <chr>\\\\\n",
       "\\hline\n",
       "\t IL19     & qaGgii & LtUJm9 & subsequent\\_mace\\_non\\_adjusted & Wald ratio & 1 &  0.1449876 & 0.03404796 & 2.059567e-05 & 0.02146069 & 1:207015957\\\\\n",
       "\t CCL27    & cd0BbM & LtUJm9 & subsequent\\_mace\\_non\\_adjusted & Wald ratio & 1 &  0.2084062 & 0.05598065 & 1.970052e-04 & 0.10263972 & 9:34649442 \\\\\n",
       "\t TNFRSF14 & Xlf1PW & LtUJm9 & subsequent\\_mace\\_non\\_adjusted & Wald ratio & 1 & -0.3092712 & 0.08798982 & 4.400000e-04 & 0.15282666 & 1:2488930  \\\\\n",
       "\t KRT5     & Q1Tnr3 & LtUJm9 & subsequent\\_mace\\_non\\_adjusted & Wald ratio & 1 & -0.3246600 & 0.10098436 & 1.304658e-03 & 0.33986330 & 12:52913029\\\\\n",
       "\t ART3     & VrDU3G & LtUJm9 & subsequent\\_mace\\_non\\_adjusted & Wald ratio & 1 & -0.1173722 & 0.03862408 & 2.374949e-03 & 0.41244953 & 4:77030398 \\\\\n",
       "\t IL34     & 10P4qT & LtUJm9 & subsequent\\_mace\\_non\\_adjusted & Wald ratio & 1 &  0.0484618 & 0.01584328 & 2.222080e-03 & 0.41244953 & 16:70694000\\\\\n",
       "\\end{tabular}\n"
      ],
      "text/markdown": [
       "\n",
       "A data.table: 6 × 11\n",
       "\n",
       "| exposure &lt;chr&gt; | id.exposure &lt;chr&gt; | id.outcome &lt;chr&gt; | outcome &lt;chr&gt; | method &lt;chr&gt; | nsnp &lt;int&gt; | b &lt;dbl&gt; | se &lt;dbl&gt; | pval &lt;dbl&gt; | pval_adjusted &lt;dbl&gt; | marker.exposure &lt;chr&gt; |\n",
       "|---|---|---|---|---|---|---|---|---|---|---|\n",
       "| IL19     | qaGgii | LtUJm9 | subsequent_mace_non_adjusted | Wald ratio | 1 |  0.1449876 | 0.03404796 | 2.059567e-05 | 0.02146069 | 1:207015957 |\n",
       "| CCL27    | cd0BbM | LtUJm9 | subsequent_mace_non_adjusted | Wald ratio | 1 |  0.2084062 | 0.05598065 | 1.970052e-04 | 0.10263972 | 9:34649442  |\n",
       "| TNFRSF14 | Xlf1PW | LtUJm9 | subsequent_mace_non_adjusted | Wald ratio | 1 | -0.3092712 | 0.08798982 | 4.400000e-04 | 0.15282666 | 1:2488930   |\n",
       "| KRT5     | Q1Tnr3 | LtUJm9 | subsequent_mace_non_adjusted | Wald ratio | 1 | -0.3246600 | 0.10098436 | 1.304658e-03 | 0.33986330 | 12:52913029 |\n",
       "| ART3     | VrDU3G | LtUJm9 | subsequent_mace_non_adjusted | Wald ratio | 1 | -0.1173722 | 0.03862408 | 2.374949e-03 | 0.41244953 | 4:77030398  |\n",
       "| IL34     | 10P4qT | LtUJm9 | subsequent_mace_non_adjusted | Wald ratio | 1 |  0.0484618 | 0.01584328 | 2.222080e-03 | 0.41244953 | 16:70694000 |\n",
       "\n"
      ],
      "text/plain": [
       "  exposure id.exposure id.outcome outcome                      method     nsnp\n",
       "1 IL19     qaGgii      LtUJm9     subsequent_mace_non_adjusted Wald ratio 1   \n",
       "2 CCL27    cd0BbM      LtUJm9     subsequent_mace_non_adjusted Wald ratio 1   \n",
       "3 TNFRSF14 Xlf1PW      LtUJm9     subsequent_mace_non_adjusted Wald ratio 1   \n",
       "4 KRT5     Q1Tnr3      LtUJm9     subsequent_mace_non_adjusted Wald ratio 1   \n",
       "5 ART3     VrDU3G      LtUJm9     subsequent_mace_non_adjusted Wald ratio 1   \n",
       "6 IL34     10P4qT      LtUJm9     subsequent_mace_non_adjusted Wald ratio 1   \n",
       "  b          se         pval         pval_adjusted marker.exposure\n",
       "1  0.1449876 0.03404796 2.059567e-05 0.02146069    1:207015957    \n",
       "2  0.2084062 0.05598065 1.970052e-04 0.10263972    9:34649442     \n",
       "3 -0.3092712 0.08798982 4.400000e-04 0.15282666    1:2488930      \n",
       "4 -0.3246600 0.10098436 1.304658e-03 0.33986330    12:52913029    \n",
       "5 -0.1173722 0.03862408 2.374949e-03 0.41244953    4:77030398     \n",
       "6  0.0484618 0.01584328 2.222080e-03 0.41244953    16:70694000    "
      ]
     },
     "metadata": {},
     "output_type": "display_data"
    },
    {
     "name": "stdout",
     "output_type": "stream",
     "text": [
      "[1] \"MR MACE SlopeHunter Corrected Ordered by adjusted p palue\"\n"
     ]
    },
    {
     "data": {
      "text/html": [
       "<table class=\"dataframe\">\n",
       "<caption>A data.table: 6 × 11</caption>\n",
       "<thead>\n",
       "\t<tr><th scope=col>exposure</th><th scope=col>id.exposure</th><th scope=col>id.outcome</th><th scope=col>outcome</th><th scope=col>method</th><th scope=col>nsnp</th><th scope=col>b</th><th scope=col>se</th><th scope=col>pval</th><th scope=col>pval_adjusted</th><th scope=col>marker.exposure</th></tr>\n",
       "\t<tr><th scope=col>&lt;chr&gt;</th><th scope=col>&lt;chr&gt;</th><th scope=col>&lt;chr&gt;</th><th scope=col>&lt;chr&gt;</th><th scope=col>&lt;chr&gt;</th><th scope=col>&lt;int&gt;</th><th scope=col>&lt;dbl&gt;</th><th scope=col>&lt;dbl&gt;</th><th scope=col>&lt;dbl&gt;</th><th scope=col>&lt;dbl&gt;</th><th scope=col>&lt;chr&gt;</th></tr>\n",
       "</thead>\n",
       "<tbody>\n",
       "\t<tr><td>CCL27   </td><td>cd0BbM</td><td>uZUe1M</td><td>subsequent_mace_slopehunter</td><td>Wald ratio</td><td>1</td><td> 0.2357881</td><td>0.05689338</td><td>3.407269e-05</td><td>0.03182389</td><td>9:34649442 </td></tr>\n",
       "\t<tr><td>ADH4    </td><td>29ueVg</td><td>uZUe1M</td><td>subsequent_mace_slopehunter</td><td>Wald ratio</td><td>1</td><td> 0.2649007</td><td>0.08239643</td><td>1.304658e-03</td><td>0.49055213</td><td>4:100065509</td></tr>\n",
       "\t<tr><td>LSP1    </td><td>UIqX90</td><td>uZUe1M</td><td>subsequent_mace_slopehunter</td><td>Wald ratio</td><td>1</td><td> 0.2254996</td><td>0.07135212</td><td>1.575649e-03</td><td>0.49055213</td><td>11:1874221 </td></tr>\n",
       "\t<tr><td>TNFRSF14</td><td>Xlf1PW</td><td>uZUe1M</td><td>subsequent_mace_slopehunter</td><td>Wald ratio</td><td>1</td><td>-0.2674542</td><td>0.08973220</td><td>2.877007e-03</td><td>0.67178115</td><td>1:2488930  </td></tr>\n",
       "\t<tr><td>CD83    </td><td>8iX3LJ</td><td>uZUe1M</td><td>subsequent_mace_slopehunter</td><td>Wald ratio</td><td>1</td><td> 0.1818968</td><td>0.06532204</td><td>5.359125e-03</td><td>0.68693377</td><td>6:14105897 </td></tr>\n",
       "\t<tr><td>CRACR2A </td><td>AFZRXe</td><td>uZUe1M</td><td>subsequent_mace_slopehunter</td><td>Wald ratio</td><td>1</td><td> 0.2193014</td><td>0.08033814</td><td>6.338627e-03</td><td>0.68693377</td><td>12:3900555 </td></tr>\n",
       "</tbody>\n",
       "</table>\n"
      ],
      "text/latex": [
       "A data.table: 6 × 11\n",
       "\\begin{tabular}{lllllllllll}\n",
       " exposure & id.exposure & id.outcome & outcome & method & nsnp & b & se & pval & pval\\_adjusted & marker.exposure\\\\\n",
       " <chr> & <chr> & <chr> & <chr> & <chr> & <int> & <dbl> & <dbl> & <dbl> & <dbl> & <chr>\\\\\n",
       "\\hline\n",
       "\t CCL27    & cd0BbM & uZUe1M & subsequent\\_mace\\_slopehunter & Wald ratio & 1 &  0.2357881 & 0.05689338 & 3.407269e-05 & 0.03182389 & 9:34649442 \\\\\n",
       "\t ADH4     & 29ueVg & uZUe1M & subsequent\\_mace\\_slopehunter & Wald ratio & 1 &  0.2649007 & 0.08239643 & 1.304658e-03 & 0.49055213 & 4:100065509\\\\\n",
       "\t LSP1     & UIqX90 & uZUe1M & subsequent\\_mace\\_slopehunter & Wald ratio & 1 &  0.2254996 & 0.07135212 & 1.575649e-03 & 0.49055213 & 11:1874221 \\\\\n",
       "\t TNFRSF14 & Xlf1PW & uZUe1M & subsequent\\_mace\\_slopehunter & Wald ratio & 1 & -0.2674542 & 0.08973220 & 2.877007e-03 & 0.67178115 & 1:2488930  \\\\\n",
       "\t CD83     & 8iX3LJ & uZUe1M & subsequent\\_mace\\_slopehunter & Wald ratio & 1 &  0.1818968 & 0.06532204 & 5.359125e-03 & 0.68693377 & 6:14105897 \\\\\n",
       "\t CRACR2A  & AFZRXe & uZUe1M & subsequent\\_mace\\_slopehunter & Wald ratio & 1 &  0.2193014 & 0.08033814 & 6.338627e-03 & 0.68693377 & 12:3900555 \\\\\n",
       "\\end{tabular}\n"
      ],
      "text/markdown": [
       "\n",
       "A data.table: 6 × 11\n",
       "\n",
       "| exposure &lt;chr&gt; | id.exposure &lt;chr&gt; | id.outcome &lt;chr&gt; | outcome &lt;chr&gt; | method &lt;chr&gt; | nsnp &lt;int&gt; | b &lt;dbl&gt; | se &lt;dbl&gt; | pval &lt;dbl&gt; | pval_adjusted &lt;dbl&gt; | marker.exposure &lt;chr&gt; |\n",
       "|---|---|---|---|---|---|---|---|---|---|---|\n",
       "| CCL27    | cd0BbM | uZUe1M | subsequent_mace_slopehunter | Wald ratio | 1 |  0.2357881 | 0.05689338 | 3.407269e-05 | 0.03182389 | 9:34649442  |\n",
       "| ADH4     | 29ueVg | uZUe1M | subsequent_mace_slopehunter | Wald ratio | 1 |  0.2649007 | 0.08239643 | 1.304658e-03 | 0.49055213 | 4:100065509 |\n",
       "| LSP1     | UIqX90 | uZUe1M | subsequent_mace_slopehunter | Wald ratio | 1 |  0.2254996 | 0.07135212 | 1.575649e-03 | 0.49055213 | 11:1874221  |\n",
       "| TNFRSF14 | Xlf1PW | uZUe1M | subsequent_mace_slopehunter | Wald ratio | 1 | -0.2674542 | 0.08973220 | 2.877007e-03 | 0.67178115 | 1:2488930   |\n",
       "| CD83     | 8iX3LJ | uZUe1M | subsequent_mace_slopehunter | Wald ratio | 1 |  0.1818968 | 0.06532204 | 5.359125e-03 | 0.68693377 | 6:14105897  |\n",
       "| CRACR2A  | AFZRXe | uZUe1M | subsequent_mace_slopehunter | Wald ratio | 1 |  0.2193014 | 0.08033814 | 6.338627e-03 | 0.68693377 | 12:3900555  |\n",
       "\n"
      ],
      "text/plain": [
       "  exposure id.exposure id.outcome outcome                     method     nsnp\n",
       "1 CCL27    cd0BbM      uZUe1M     subsequent_mace_slopehunter Wald ratio 1   \n",
       "2 ADH4     29ueVg      uZUe1M     subsequent_mace_slopehunter Wald ratio 1   \n",
       "3 LSP1     UIqX90      uZUe1M     subsequent_mace_slopehunter Wald ratio 1   \n",
       "4 TNFRSF14 Xlf1PW      uZUe1M     subsequent_mace_slopehunter Wald ratio 1   \n",
       "5 CD83     8iX3LJ      uZUe1M     subsequent_mace_slopehunter Wald ratio 1   \n",
       "6 CRACR2A  AFZRXe      uZUe1M     subsequent_mace_slopehunter Wald ratio 1   \n",
       "  b          se         pval         pval_adjusted marker.exposure\n",
       "1  0.2357881 0.05689338 3.407269e-05 0.03182389    9:34649442     \n",
       "2  0.2649007 0.08239643 1.304658e-03 0.49055213    4:100065509    \n",
       "3  0.2254996 0.07135212 1.575649e-03 0.49055213    11:1874221     \n",
       "4 -0.2674542 0.08973220 2.877007e-03 0.67178115    1:2488930      \n",
       "5  0.1818968 0.06532204 5.359125e-03 0.68693377    6:14105897     \n",
       "6  0.2193014 0.08033814 6.338627e-03 0.68693377    12:3900555     "
      ]
     },
     "metadata": {},
     "output_type": "display_data"
    },
    {
     "name": "stdout",
     "output_type": "stream",
     "text": [
      "[1] \"MR MACE Dudbridge Corrected Ordered by adjusted p palue\"\n"
     ]
    },
    {
     "data": {
      "text/html": [
       "<table class=\"dataframe\">\n",
       "<caption>A data.table: 6 × 11</caption>\n",
       "<thead>\n",
       "\t<tr><th scope=col>exposure</th><th scope=col>id.exposure</th><th scope=col>id.outcome</th><th scope=col>outcome</th><th scope=col>method</th><th scope=col>nsnp</th><th scope=col>b</th><th scope=col>se</th><th scope=col>pval</th><th scope=col>pval_adjusted</th><th scope=col>marker.exposure</th></tr>\n",
       "\t<tr><th scope=col>&lt;chr&gt;</th><th scope=col>&lt;chr&gt;</th><th scope=col>&lt;chr&gt;</th><th scope=col>&lt;chr&gt;</th><th scope=col>&lt;chr&gt;</th><th scope=col>&lt;int&gt;</th><th scope=col>&lt;dbl&gt;</th><th scope=col>&lt;dbl&gt;</th><th scope=col>&lt;dbl&gt;</th><th scope=col>&lt;dbl&gt;</th><th scope=col>&lt;chr&gt;</th></tr>\n",
       "</thead>\n",
       "<tbody>\n",
       "\t<tr><td>CCL27  </td><td>cd0BbM</td><td>6s5VT8</td><td>subsequent_mace_dudbridge</td><td>Wald ratio</td><td>1</td><td> 0.2357881</td><td>0.05598065</td><td>2.531683e-05</td><td>0.02364592</td><td>9:34649442 </td></tr>\n",
       "\t<tr><td>ADH4   </td><td>29ueVg</td><td>6s5VT8</td><td>subsequent_mace_dudbridge</td><td>Wald ratio</td><td>1</td><td> 0.2325581</td><td>0.08008625</td><td>3.686092e-03</td><td>0.64776854</td><td>4:100065509</td></tr>\n",
       "\t<tr><td>CD83   </td><td>8iX3LJ</td><td>6s5VT8</td><td>subsequent_mace_dudbridge</td><td>Wald ratio</td><td>1</td><td> 0.1929512</td><td>0.06431708</td><td>2.699796e-03</td><td>0.64776854</td><td>6:14105897 </td></tr>\n",
       "\t<tr><td>CRACR2A</td><td>AFZRXe</td><td>6s5VT8</td><td>subsequent_mace_dudbridge</td><td>Wald ratio</td><td>1</td><td> 0.2221965</td><td>0.07889061</td><td>4.854796e-03</td><td>0.64776854</td><td>12:3900555 </td></tr>\n",
       "\t<tr><td>LSP1   </td><td>UIqX90</td><td>6s5VT8</td><td>subsequent_mace_dudbridge</td><td>Wald ratio</td><td>1</td><td> 0.2086713</td><td>0.07000586</td><td>2.875254e-03</td><td>0.64776854</td><td>11:1874221 </td></tr>\n",
       "\t<tr><td>PTGDS  </td><td>oFCCfp</td><td>6s5VT8</td><td>subsequent_mace_dudbridge</td><td>Wald ratio</td><td>1</td><td>-0.1527358</td><td>0.05332809</td><td>4.182254e-03</td><td>0.64776854</td><td>9:139859013</td></tr>\n",
       "</tbody>\n",
       "</table>\n"
      ],
      "text/latex": [
       "A data.table: 6 × 11\n",
       "\\begin{tabular}{lllllllllll}\n",
       " exposure & id.exposure & id.outcome & outcome & method & nsnp & b & se & pval & pval\\_adjusted & marker.exposure\\\\\n",
       " <chr> & <chr> & <chr> & <chr> & <chr> & <int> & <dbl> & <dbl> & <dbl> & <dbl> & <chr>\\\\\n",
       "\\hline\n",
       "\t CCL27   & cd0BbM & 6s5VT8 & subsequent\\_mace\\_dudbridge & Wald ratio & 1 &  0.2357881 & 0.05598065 & 2.531683e-05 & 0.02364592 & 9:34649442 \\\\\n",
       "\t ADH4    & 29ueVg & 6s5VT8 & subsequent\\_mace\\_dudbridge & Wald ratio & 1 &  0.2325581 & 0.08008625 & 3.686092e-03 & 0.64776854 & 4:100065509\\\\\n",
       "\t CD83    & 8iX3LJ & 6s5VT8 & subsequent\\_mace\\_dudbridge & Wald ratio & 1 &  0.1929512 & 0.06431708 & 2.699796e-03 & 0.64776854 & 6:14105897 \\\\\n",
       "\t CRACR2A & AFZRXe & 6s5VT8 & subsequent\\_mace\\_dudbridge & Wald ratio & 1 &  0.2221965 & 0.07889061 & 4.854796e-03 & 0.64776854 & 12:3900555 \\\\\n",
       "\t LSP1    & UIqX90 & 6s5VT8 & subsequent\\_mace\\_dudbridge & Wald ratio & 1 &  0.2086713 & 0.07000586 & 2.875254e-03 & 0.64776854 & 11:1874221 \\\\\n",
       "\t PTGDS   & oFCCfp & 6s5VT8 & subsequent\\_mace\\_dudbridge & Wald ratio & 1 & -0.1527358 & 0.05332809 & 4.182254e-03 & 0.64776854 & 9:139859013\\\\\n",
       "\\end{tabular}\n"
      ],
      "text/markdown": [
       "\n",
       "A data.table: 6 × 11\n",
       "\n",
       "| exposure &lt;chr&gt; | id.exposure &lt;chr&gt; | id.outcome &lt;chr&gt; | outcome &lt;chr&gt; | method &lt;chr&gt; | nsnp &lt;int&gt; | b &lt;dbl&gt; | se &lt;dbl&gt; | pval &lt;dbl&gt; | pval_adjusted &lt;dbl&gt; | marker.exposure &lt;chr&gt; |\n",
       "|---|---|---|---|---|---|---|---|---|---|---|\n",
       "| CCL27   | cd0BbM | 6s5VT8 | subsequent_mace_dudbridge | Wald ratio | 1 |  0.2357881 | 0.05598065 | 2.531683e-05 | 0.02364592 | 9:34649442  |\n",
       "| ADH4    | 29ueVg | 6s5VT8 | subsequent_mace_dudbridge | Wald ratio | 1 |  0.2325581 | 0.08008625 | 3.686092e-03 | 0.64776854 | 4:100065509 |\n",
       "| CD83    | 8iX3LJ | 6s5VT8 | subsequent_mace_dudbridge | Wald ratio | 1 |  0.1929512 | 0.06431708 | 2.699796e-03 | 0.64776854 | 6:14105897  |\n",
       "| CRACR2A | AFZRXe | 6s5VT8 | subsequent_mace_dudbridge | Wald ratio | 1 |  0.2221965 | 0.07889061 | 4.854796e-03 | 0.64776854 | 12:3900555  |\n",
       "| LSP1    | UIqX90 | 6s5VT8 | subsequent_mace_dudbridge | Wald ratio | 1 |  0.2086713 | 0.07000586 | 2.875254e-03 | 0.64776854 | 11:1874221  |\n",
       "| PTGDS   | oFCCfp | 6s5VT8 | subsequent_mace_dudbridge | Wald ratio | 1 | -0.1527358 | 0.05332809 | 4.182254e-03 | 0.64776854 | 9:139859013 |\n",
       "\n"
      ],
      "text/plain": [
       "  exposure id.exposure id.outcome outcome                   method     nsnp\n",
       "1 CCL27    cd0BbM      6s5VT8     subsequent_mace_dudbridge Wald ratio 1   \n",
       "2 ADH4     29ueVg      6s5VT8     subsequent_mace_dudbridge Wald ratio 1   \n",
       "3 CD83     8iX3LJ      6s5VT8     subsequent_mace_dudbridge Wald ratio 1   \n",
       "4 CRACR2A  AFZRXe      6s5VT8     subsequent_mace_dudbridge Wald ratio 1   \n",
       "5 LSP1     UIqX90      6s5VT8     subsequent_mace_dudbridge Wald ratio 1   \n",
       "6 PTGDS    oFCCfp      6s5VT8     subsequent_mace_dudbridge Wald ratio 1   \n",
       "  b          se         pval         pval_adjusted marker.exposure\n",
       "1  0.2357881 0.05598065 2.531683e-05 0.02364592    9:34649442     \n",
       "2  0.2325581 0.08008625 3.686092e-03 0.64776854    4:100065509    \n",
       "3  0.1929512 0.06431708 2.699796e-03 0.64776854    6:14105897     \n",
       "4  0.2221965 0.07889061 4.854796e-03 0.64776854    12:3900555     \n",
       "5  0.2086713 0.07000586 2.875254e-03 0.64776854    11:1874221     \n",
       "6 -0.1527358 0.05332809 4.182254e-03 0.64776854    9:139859013    "
      ]
     },
     "metadata": {},
     "output_type": "display_data"
    },
    {
     "name": "stdout",
     "output_type": "stream",
     "text": [
      "[1] \"MR AIS Ordered by adjusted p palue\"\n"
     ]
    },
    {
     "data": {
      "text/html": [
       "<table class=\"dataframe\">\n",
       "<caption>A data.table: 6 × 11</caption>\n",
       "<thead>\n",
       "\t<tr><th scope=col>exposure</th><th scope=col>id.exposure</th><th scope=col>id.outcome</th><th scope=col>outcome</th><th scope=col>method</th><th scope=col>nsnp</th><th scope=col>b</th><th scope=col>se</th><th scope=col>pval</th><th scope=col>pval_adjusted</th><th scope=col>marker.exposure</th></tr>\n",
       "\t<tr><th scope=col>&lt;chr&gt;</th><th scope=col>&lt;chr&gt;</th><th scope=col>&lt;chr&gt;</th><th scope=col>&lt;chr&gt;</th><th scope=col>&lt;chr&gt;</th><th scope=col>&lt;int&gt;</th><th scope=col>&lt;dbl&gt;</th><th scope=col>&lt;dbl&gt;</th><th scope=col>&lt;dbl&gt;</th><th scope=col>&lt;dbl&gt;</th><th scope=col>&lt;chr&gt;</th></tr>\n",
       "</thead>\n",
       "<tbody>\n",
       "\t<tr><td>IL19    </td><td>jA3dQL</td><td>48HvRt</td><td>subsequent_ais_non_adjusted</td><td>Wald ratio</td><td>1</td><td> 0.1364756</td><td>0.03404796</td><td>6.114877e-05</td><td>0.06335013</td><td>1:207015957</td></tr>\n",
       "\t<tr><td>TNFRSF14</td><td>dZY5GM</td><td>48HvRt</td><td>subsequent_ais_non_adjusted</td><td>Wald ratio</td><td>1</td><td>-0.3319220</td><td>0.08798982</td><td>1.617644e-04</td><td>0.08379395</td><td>1:2488930  </td></tr>\n",
       "\t<tr><td>CCL27   </td><td>7uIVG8</td><td>48HvRt</td><td>subsequent_ais_non_adjusted</td><td>Wald ratio</td><td>1</td><td> 0.1983662</td><td>0.05628489</td><td>4.245642e-04</td><td>0.14661618</td><td>9:34649442 </td></tr>\n",
       "\t<tr><td>MANF    </td><td>rKN3q2</td><td>48HvRt</td><td>subsequent_ais_non_adjusted</td><td>Wald ratio</td><td>1</td><td>-0.5079807</td><td>0.16230088</td><td>1.748836e-03</td><td>0.45294853</td><td>3:51547219 </td></tr>\n",
       "\t<tr><td>AIF1    </td><td>ho21rb</td><td>48HvRt</td><td>subsequent_ais_non_adjusted</td><td>Wald ratio</td><td>1</td><td> 0.2386180</td><td>0.09254387</td><td>9.925001e-03</td><td>0.69653604</td><td>6:31603591 </td></tr>\n",
       "\t<tr><td>CD164   </td><td>BjfL1W</td><td>48HvRt</td><td>subsequent_ais_non_adjusted</td><td>Wald ratio</td><td>1</td><td>-0.1818422</td><td>0.07141440</td><td>1.088727e-02</td><td>0.69653604</td><td>6:109720350</td></tr>\n",
       "</tbody>\n",
       "</table>\n"
      ],
      "text/latex": [
       "A data.table: 6 × 11\n",
       "\\begin{tabular}{lllllllllll}\n",
       " exposure & id.exposure & id.outcome & outcome & method & nsnp & b & se & pval & pval\\_adjusted & marker.exposure\\\\\n",
       " <chr> & <chr> & <chr> & <chr> & <chr> & <int> & <dbl> & <dbl> & <dbl> & <dbl> & <chr>\\\\\n",
       "\\hline\n",
       "\t IL19     & jA3dQL & 48HvRt & subsequent\\_ais\\_non\\_adjusted & Wald ratio & 1 &  0.1364756 & 0.03404796 & 6.114877e-05 & 0.06335013 & 1:207015957\\\\\n",
       "\t TNFRSF14 & dZY5GM & 48HvRt & subsequent\\_ais\\_non\\_adjusted & Wald ratio & 1 & -0.3319220 & 0.08798982 & 1.617644e-04 & 0.08379395 & 1:2488930  \\\\\n",
       "\t CCL27    & 7uIVG8 & 48HvRt & subsequent\\_ais\\_non\\_adjusted & Wald ratio & 1 &  0.1983662 & 0.05628489 & 4.245642e-04 & 0.14661618 & 9:34649442 \\\\\n",
       "\t MANF     & rKN3q2 & 48HvRt & subsequent\\_ais\\_non\\_adjusted & Wald ratio & 1 & -0.5079807 & 0.16230088 & 1.748836e-03 & 0.45294853 & 3:51547219 \\\\\n",
       "\t AIF1     & ho21rb & 48HvRt & subsequent\\_ais\\_non\\_adjusted & Wald ratio & 1 &  0.2386180 & 0.09254387 & 9.925001e-03 & 0.69653604 & 6:31603591 \\\\\n",
       "\t CD164    & BjfL1W & 48HvRt & subsequent\\_ais\\_non\\_adjusted & Wald ratio & 1 & -0.1818422 & 0.07141440 & 1.088727e-02 & 0.69653604 & 6:109720350\\\\\n",
       "\\end{tabular}\n"
      ],
      "text/markdown": [
       "\n",
       "A data.table: 6 × 11\n",
       "\n",
       "| exposure &lt;chr&gt; | id.exposure &lt;chr&gt; | id.outcome &lt;chr&gt; | outcome &lt;chr&gt; | method &lt;chr&gt; | nsnp &lt;int&gt; | b &lt;dbl&gt; | se &lt;dbl&gt; | pval &lt;dbl&gt; | pval_adjusted &lt;dbl&gt; | marker.exposure &lt;chr&gt; |\n",
       "|---|---|---|---|---|---|---|---|---|---|---|\n",
       "| IL19     | jA3dQL | 48HvRt | subsequent_ais_non_adjusted | Wald ratio | 1 |  0.1364756 | 0.03404796 | 6.114877e-05 | 0.06335013 | 1:207015957 |\n",
       "| TNFRSF14 | dZY5GM | 48HvRt | subsequent_ais_non_adjusted | Wald ratio | 1 | -0.3319220 | 0.08798982 | 1.617644e-04 | 0.08379395 | 1:2488930   |\n",
       "| CCL27    | 7uIVG8 | 48HvRt | subsequent_ais_non_adjusted | Wald ratio | 1 |  0.1983662 | 0.05628489 | 4.245642e-04 | 0.14661618 | 9:34649442  |\n",
       "| MANF     | rKN3q2 | 48HvRt | subsequent_ais_non_adjusted | Wald ratio | 1 | -0.5079807 | 0.16230088 | 1.748836e-03 | 0.45294853 | 3:51547219  |\n",
       "| AIF1     | ho21rb | 48HvRt | subsequent_ais_non_adjusted | Wald ratio | 1 |  0.2386180 | 0.09254387 | 9.925001e-03 | 0.69653604 | 6:31603591  |\n",
       "| CD164    | BjfL1W | 48HvRt | subsequent_ais_non_adjusted | Wald ratio | 1 | -0.1818422 | 0.07141440 | 1.088727e-02 | 0.69653604 | 6:109720350 |\n",
       "\n"
      ],
      "text/plain": [
       "  exposure id.exposure id.outcome outcome                     method     nsnp\n",
       "1 IL19     jA3dQL      48HvRt     subsequent_ais_non_adjusted Wald ratio 1   \n",
       "2 TNFRSF14 dZY5GM      48HvRt     subsequent_ais_non_adjusted Wald ratio 1   \n",
       "3 CCL27    7uIVG8      48HvRt     subsequent_ais_non_adjusted Wald ratio 1   \n",
       "4 MANF     rKN3q2      48HvRt     subsequent_ais_non_adjusted Wald ratio 1   \n",
       "5 AIF1     ho21rb      48HvRt     subsequent_ais_non_adjusted Wald ratio 1   \n",
       "6 CD164    BjfL1W      48HvRt     subsequent_ais_non_adjusted Wald ratio 1   \n",
       "  b          se         pval         pval_adjusted marker.exposure\n",
       "1  0.1364756 0.03404796 6.114877e-05 0.06335013    1:207015957    \n",
       "2 -0.3319220 0.08798982 1.617644e-04 0.08379395    1:2488930      \n",
       "3  0.1983662 0.05628489 4.245642e-04 0.14661618    9:34649442     \n",
       "4 -0.5079807 0.16230088 1.748836e-03 0.45294853    3:51547219     \n",
       "5  0.2386180 0.09254387 9.925001e-03 0.69653604    6:31603591     \n",
       "6 -0.1818422 0.07141440 1.088727e-02 0.69653604    6:109720350    "
      ]
     },
     "metadata": {},
     "output_type": "display_data"
    },
    {
     "name": "stdout",
     "output_type": "stream",
     "text": [
      "[1] \"MR AIS SlopeHunter Corrected Ordered by adjusted p palue\"\n"
     ]
    },
    {
     "data": {
      "text/html": [
       "<table class=\"dataframe\">\n",
       "<caption>A data.table: 6 × 11</caption>\n",
       "<thead>\n",
       "\t<tr><th scope=col>exposure</th><th scope=col>id.exposure</th><th scope=col>id.outcome</th><th scope=col>outcome</th><th scope=col>method</th><th scope=col>nsnp</th><th scope=col>b</th><th scope=col>se</th><th scope=col>pval</th><th scope=col>pval_adjusted</th><th scope=col>marker.exposure</th></tr>\n",
       "\t<tr><th scope=col>&lt;chr&gt;</th><th scope=col>&lt;chr&gt;</th><th scope=col>&lt;chr&gt;</th><th scope=col>&lt;chr&gt;</th><th scope=col>&lt;chr&gt;</th><th scope=col>&lt;int&gt;</th><th scope=col>&lt;dbl&gt;</th><th scope=col>&lt;dbl&gt;</th><th scope=col>&lt;dbl&gt;</th><th scope=col>&lt;dbl&gt;</th><th scope=col>&lt;chr&gt;</th></tr>\n",
       "</thead>\n",
       "<tbody>\n",
       "\t<tr><td>TNFRSF14</td><td>dZY5GM</td><td>il5aeo</td><td>subsequent_ais_slopehunter</td><td>Wald ratio</td><td>1</td><td>-0.35544404</td><td>0.08973220</td><td>7.458495e-05</td><td>0.06936401</td><td>1:2488930  </td></tr>\n",
       "\t<tr><td>CCL27   </td><td>7uIVG8</td><td>il5aeo</td><td>subsequent_ais_slopehunter</td><td>Wald ratio</td><td>1</td><td> 0.20627653</td><td>0.05689338</td><td>2.882149e-04</td><td>0.13401995</td><td>9:34649442 </td></tr>\n",
       "\t<tr><td>FABP4   </td><td>zedjWs</td><td>il5aeo</td><td>subsequent_ais_slopehunter</td><td>Wald ratio</td><td>1</td><td> 0.62187995</td><td>0.20530557</td><td>2.453276e-03</td><td>0.76051561</td><td>8:82391183 </td></tr>\n",
       "\t<tr><td>FUCA1   </td><td>bltIfA</td><td>il5aeo</td><td>subsequent_ais_slopehunter</td><td>Wald ratio</td><td>1</td><td>-0.08435581</td><td>0.02943256</td><td>4.156005e-03</td><td>0.78374142</td><td>1:24180962 </td></tr>\n",
       "\t<tr><td>IL19    </td><td>jA3dQL</td><td>il5aeo</td><td>subsequent_ais_slopehunter</td><td>Wald ratio</td><td>1</td><td> 0.09873909</td><td>0.03461543</td><td>4.338241e-03</td><td>0.78374142</td><td>1:207015957</td></tr>\n",
       "\t<tr><td>SMOC2   </td><td>AK3moH</td><td>il5aeo</td><td>subsequent_ais_slopehunter</td><td>Wald ratio</td><td>1</td><td> 0.08334540</td><td>0.02972992</td><td>5.056396e-03</td><td>0.78374142</td><td>6:168825259</td></tr>\n",
       "</tbody>\n",
       "</table>\n"
      ],
      "text/latex": [
       "A data.table: 6 × 11\n",
       "\\begin{tabular}{lllllllllll}\n",
       " exposure & id.exposure & id.outcome & outcome & method & nsnp & b & se & pval & pval\\_adjusted & marker.exposure\\\\\n",
       " <chr> & <chr> & <chr> & <chr> & <chr> & <int> & <dbl> & <dbl> & <dbl> & <dbl> & <chr>\\\\\n",
       "\\hline\n",
       "\t TNFRSF14 & dZY5GM & il5aeo & subsequent\\_ais\\_slopehunter & Wald ratio & 1 & -0.35544404 & 0.08973220 & 7.458495e-05 & 0.06936401 & 1:2488930  \\\\\n",
       "\t CCL27    & 7uIVG8 & il5aeo & subsequent\\_ais\\_slopehunter & Wald ratio & 1 &  0.20627653 & 0.05689338 & 2.882149e-04 & 0.13401995 & 9:34649442 \\\\\n",
       "\t FABP4    & zedjWs & il5aeo & subsequent\\_ais\\_slopehunter & Wald ratio & 1 &  0.62187995 & 0.20530557 & 2.453276e-03 & 0.76051561 & 8:82391183 \\\\\n",
       "\t FUCA1    & bltIfA & il5aeo & subsequent\\_ais\\_slopehunter & Wald ratio & 1 & -0.08435581 & 0.02943256 & 4.156005e-03 & 0.78374142 & 1:24180962 \\\\\n",
       "\t IL19     & jA3dQL & il5aeo & subsequent\\_ais\\_slopehunter & Wald ratio & 1 &  0.09873909 & 0.03461543 & 4.338241e-03 & 0.78374142 & 1:207015957\\\\\n",
       "\t SMOC2    & AK3moH & il5aeo & subsequent\\_ais\\_slopehunter & Wald ratio & 1 &  0.08334540 & 0.02972992 & 5.056396e-03 & 0.78374142 & 6:168825259\\\\\n",
       "\\end{tabular}\n"
      ],
      "text/markdown": [
       "\n",
       "A data.table: 6 × 11\n",
       "\n",
       "| exposure &lt;chr&gt; | id.exposure &lt;chr&gt; | id.outcome &lt;chr&gt; | outcome &lt;chr&gt; | method &lt;chr&gt; | nsnp &lt;int&gt; | b &lt;dbl&gt; | se &lt;dbl&gt; | pval &lt;dbl&gt; | pval_adjusted &lt;dbl&gt; | marker.exposure &lt;chr&gt; |\n",
       "|---|---|---|---|---|---|---|---|---|---|---|\n",
       "| TNFRSF14 | dZY5GM | il5aeo | subsequent_ais_slopehunter | Wald ratio | 1 | -0.35544404 | 0.08973220 | 7.458495e-05 | 0.06936401 | 1:2488930   |\n",
       "| CCL27    | 7uIVG8 | il5aeo | subsequent_ais_slopehunter | Wald ratio | 1 |  0.20627653 | 0.05689338 | 2.882149e-04 | 0.13401995 | 9:34649442  |\n",
       "| FABP4    | zedjWs | il5aeo | subsequent_ais_slopehunter | Wald ratio | 1 |  0.62187995 | 0.20530557 | 2.453276e-03 | 0.76051561 | 8:82391183  |\n",
       "| FUCA1    | bltIfA | il5aeo | subsequent_ais_slopehunter | Wald ratio | 1 | -0.08435581 | 0.02943256 | 4.156005e-03 | 0.78374142 | 1:24180962  |\n",
       "| IL19     | jA3dQL | il5aeo | subsequent_ais_slopehunter | Wald ratio | 1 |  0.09873909 | 0.03461543 | 4.338241e-03 | 0.78374142 | 1:207015957 |\n",
       "| SMOC2    | AK3moH | il5aeo | subsequent_ais_slopehunter | Wald ratio | 1 |  0.08334540 | 0.02972992 | 5.056396e-03 | 0.78374142 | 6:168825259 |\n",
       "\n"
      ],
      "text/plain": [
       "  exposure id.exposure id.outcome outcome                    method     nsnp\n",
       "1 TNFRSF14 dZY5GM      il5aeo     subsequent_ais_slopehunter Wald ratio 1   \n",
       "2 CCL27    7uIVG8      il5aeo     subsequent_ais_slopehunter Wald ratio 1   \n",
       "3 FABP4    zedjWs      il5aeo     subsequent_ais_slopehunter Wald ratio 1   \n",
       "4 FUCA1    bltIfA      il5aeo     subsequent_ais_slopehunter Wald ratio 1   \n",
       "5 IL19     jA3dQL      il5aeo     subsequent_ais_slopehunter Wald ratio 1   \n",
       "6 SMOC2    AK3moH      il5aeo     subsequent_ais_slopehunter Wald ratio 1   \n",
       "  b           se         pval         pval_adjusted marker.exposure\n",
       "1 -0.35544404 0.08973220 7.458495e-05 0.06936401    1:2488930      \n",
       "2  0.20627653 0.05689338 2.882149e-04 0.13401995    9:34649442     \n",
       "3  0.62187995 0.20530557 2.453276e-03 0.76051561    8:82391183     \n",
       "4 -0.08435581 0.02943256 4.156005e-03 0.78374142    1:24180962     \n",
       "5  0.09873909 0.03461543 4.338241e-03 0.78374142    1:207015957    \n",
       "6  0.08334540 0.02972992 5.056396e-03 0.78374142    6:168825259    "
      ]
     },
     "metadata": {},
     "output_type": "display_data"
    },
    {
     "name": "stdout",
     "output_type": "stream",
     "text": [
      "[1] \"MR AIS Dudbridge Corrected Ordered by adjusted p palue\"\n"
     ]
    },
    {
     "data": {
      "text/html": [
       "<table class=\"dataframe\">\n",
       "<caption>A data.table: 6 × 11</caption>\n",
       "<thead>\n",
       "\t<tr><th scope=col>exposure</th><th scope=col>id.exposure</th><th scope=col>id.outcome</th><th scope=col>outcome</th><th scope=col>method</th><th scope=col>nsnp</th><th scope=col>b</th><th scope=col>se</th><th scope=col>pval</th><th scope=col>pval_adjusted</th><th scope=col>marker.exposure</th></tr>\n",
       "\t<tr><th scope=col>&lt;chr&gt;</th><th scope=col>&lt;chr&gt;</th><th scope=col>&lt;chr&gt;</th><th scope=col>&lt;chr&gt;</th><th scope=col>&lt;chr&gt;</th><th scope=col>&lt;int&gt;</th><th scope=col>&lt;dbl&gt;</th><th scope=col>&lt;dbl&gt;</th><th scope=col>&lt;dbl&gt;</th><th scope=col>&lt;dbl&gt;</th><th scope=col>&lt;chr&gt;</th></tr>\n",
       "</thead>\n",
       "<tbody>\n",
       "\t<tr><td>CCL27   </td><td>7uIVG8</td><td>4IXzCq</td><td>subsequent_ais_dudbridge</td><td>Wald ratio</td><td>1</td><td> 0.21205714</td><td>0.05628489</td><td>1.648459e-04</td><td>0.07665336</td><td>9:34649442 </td></tr>\n",
       "\t<tr><td>TNFRSF14</td><td>dZY5GM</td><td>4IXzCq</td><td>subsequent_ais_dudbridge</td><td>Wald ratio</td><td>1</td><td>-0.34324743</td><td>0.08798982</td><td>9.580007e-05</td><td>0.07665336</td><td>1:2488930  </td></tr>\n",
       "\t<tr><td>FUCA1   </td><td>bltIfA</td><td>4IXzCq</td><td>subsequent_ais_dudbridge</td><td>Wald ratio</td><td>1</td><td>-0.08540697</td><td>0.02890697</td><td>3.131300e-03</td><td>0.72802730</td><td>1:24180962 </td></tr>\n",
       "\t<tr><td>IL19    </td><td>jA3dQL</td><td>4IXzCq</td><td>subsequent_ais_dudbridge</td><td>Wald ratio</td><td>1</td><td> 0.10072522</td><td>0.03404796</td><td>3.093075e-03</td><td>0.72802730</td><td>1:207015957</td></tr>\n",
       "\t<tr><td>BMP6    </td><td>ASw0e1</td><td>4IXzCq</td><td>subsequent_ais_dudbridge</td><td>Wald ratio</td><td>1</td><td>-0.21051066</td><td>0.07661695</td><td>6.003818e-03</td><td>0.79765005</td><td>6:7718260  </td></tr>\n",
       "\t<tr><td>MANF    </td><td>rKN3q2</td><td>4IXzCq</td><td>subsequent_ais_dudbridge</td><td>Wald ratio</td><td>1</td><td>-0.45106997</td><td>0.16230088</td><td>5.448948e-03</td><td>0.79765005</td><td>3:51547219 </td></tr>\n",
       "</tbody>\n",
       "</table>\n"
      ],
      "text/latex": [
       "A data.table: 6 × 11\n",
       "\\begin{tabular}{lllllllllll}\n",
       " exposure & id.exposure & id.outcome & outcome & method & nsnp & b & se & pval & pval\\_adjusted & marker.exposure\\\\\n",
       " <chr> & <chr> & <chr> & <chr> & <chr> & <int> & <dbl> & <dbl> & <dbl> & <dbl> & <chr>\\\\\n",
       "\\hline\n",
       "\t CCL27    & 7uIVG8 & 4IXzCq & subsequent\\_ais\\_dudbridge & Wald ratio & 1 &  0.21205714 & 0.05628489 & 1.648459e-04 & 0.07665336 & 9:34649442 \\\\\n",
       "\t TNFRSF14 & dZY5GM & 4IXzCq & subsequent\\_ais\\_dudbridge & Wald ratio & 1 & -0.34324743 & 0.08798982 & 9.580007e-05 & 0.07665336 & 1:2488930  \\\\\n",
       "\t FUCA1    & bltIfA & 4IXzCq & subsequent\\_ais\\_dudbridge & Wald ratio & 1 & -0.08540697 & 0.02890697 & 3.131300e-03 & 0.72802730 & 1:24180962 \\\\\n",
       "\t IL19     & jA3dQL & 4IXzCq & subsequent\\_ais\\_dudbridge & Wald ratio & 1 &  0.10072522 & 0.03404796 & 3.093075e-03 & 0.72802730 & 1:207015957\\\\\n",
       "\t BMP6     & ASw0e1 & 4IXzCq & subsequent\\_ais\\_dudbridge & Wald ratio & 1 & -0.21051066 & 0.07661695 & 6.003818e-03 & 0.79765005 & 6:7718260  \\\\\n",
       "\t MANF     & rKN3q2 & 4IXzCq & subsequent\\_ais\\_dudbridge & Wald ratio & 1 & -0.45106997 & 0.16230088 & 5.448948e-03 & 0.79765005 & 3:51547219 \\\\\n",
       "\\end{tabular}\n"
      ],
      "text/markdown": [
       "\n",
       "A data.table: 6 × 11\n",
       "\n",
       "| exposure &lt;chr&gt; | id.exposure &lt;chr&gt; | id.outcome &lt;chr&gt; | outcome &lt;chr&gt; | method &lt;chr&gt; | nsnp &lt;int&gt; | b &lt;dbl&gt; | se &lt;dbl&gt; | pval &lt;dbl&gt; | pval_adjusted &lt;dbl&gt; | marker.exposure &lt;chr&gt; |\n",
       "|---|---|---|---|---|---|---|---|---|---|---|\n",
       "| CCL27    | 7uIVG8 | 4IXzCq | subsequent_ais_dudbridge | Wald ratio | 1 |  0.21205714 | 0.05628489 | 1.648459e-04 | 0.07665336 | 9:34649442  |\n",
       "| TNFRSF14 | dZY5GM | 4IXzCq | subsequent_ais_dudbridge | Wald ratio | 1 | -0.34324743 | 0.08798982 | 9.580007e-05 | 0.07665336 | 1:2488930   |\n",
       "| FUCA1    | bltIfA | 4IXzCq | subsequent_ais_dudbridge | Wald ratio | 1 | -0.08540697 | 0.02890697 | 3.131300e-03 | 0.72802730 | 1:24180962  |\n",
       "| IL19     | jA3dQL | 4IXzCq | subsequent_ais_dudbridge | Wald ratio | 1 |  0.10072522 | 0.03404796 | 3.093075e-03 | 0.72802730 | 1:207015957 |\n",
       "| BMP6     | ASw0e1 | 4IXzCq | subsequent_ais_dudbridge | Wald ratio | 1 | -0.21051066 | 0.07661695 | 6.003818e-03 | 0.79765005 | 6:7718260   |\n",
       "| MANF     | rKN3q2 | 4IXzCq | subsequent_ais_dudbridge | Wald ratio | 1 | -0.45106997 | 0.16230088 | 5.448948e-03 | 0.79765005 | 3:51547219  |\n",
       "\n"
      ],
      "text/plain": [
       "  exposure id.exposure id.outcome outcome                  method     nsnp\n",
       "1 CCL27    7uIVG8      4IXzCq     subsequent_ais_dudbridge Wald ratio 1   \n",
       "2 TNFRSF14 dZY5GM      4IXzCq     subsequent_ais_dudbridge Wald ratio 1   \n",
       "3 FUCA1    bltIfA      4IXzCq     subsequent_ais_dudbridge Wald ratio 1   \n",
       "4 IL19     jA3dQL      4IXzCq     subsequent_ais_dudbridge Wald ratio 1   \n",
       "5 BMP6     ASw0e1      4IXzCq     subsequent_ais_dudbridge Wald ratio 1   \n",
       "6 MANF     rKN3q2      4IXzCq     subsequent_ais_dudbridge Wald ratio 1   \n",
       "  b           se         pval         pval_adjusted marker.exposure\n",
       "1  0.21205714 0.05628489 1.648459e-04 0.07665336    9:34649442     \n",
       "2 -0.34324743 0.08798982 9.580007e-05 0.07665336    1:2488930      \n",
       "3 -0.08540697 0.02890697 3.131300e-03 0.72802730    1:24180962     \n",
       "4  0.10072522 0.03404796 3.093075e-03 0.72802730    1:207015957    \n",
       "5 -0.21051066 0.07661695 6.003818e-03 0.79765005    6:7718260      \n",
       "6 -0.45106997 0.16230088 5.448948e-03 0.79765005    3:51547219     "
      ]
     },
     "metadata": {},
     "output_type": "display_data"
    }
   ],
   "source": [
    "mr_mace <- merge_marker_data(data.table::fread(\"scratch/results/mr/mr_subsequent_mace_cis.tsv\"))\n",
    "mr_mace_slopehunter <- merge_marker_data(data.table::fread(\"scratch/results/mr/mr_subsequent_mace_slopehunter_cis.tsv\"))\n",
    "mr_mace_dudbridge <- merge_marker_data(data.table::fread(\"scratch/results/mr/mr_subsequent_mace_dudbridge_cis.tsv\"))\n",
    "\n",
    "mr_ais <- merge_marker_data(data.table::fread(\"scratch/results/mr/mr_subsequent_ais_cis.tsv\"))\n",
    "mr_ais_slopehunter <- merge_marker_data(data.table::fread(\"scratch/results/mr/mr_subsequent_ais_slopehunter_cis.tsv\"))\n",
    "mr_ais_dudbridge <- merge_marker_data(data.table::fread(\"scratch/results/mr/mr_subsequent_ais_dudbridge_cis.tsv\"))\n",
    "\n",
    "print(\"MR MACE Ordered by adjusted p palue\")\n",
    "head(mr_mace[with(mr_mace, order(pval_adjusted)), ])\n",
    "print(\"MR MACE SlopeHunter Corrected Ordered by adjusted p palue\")\n",
    "head(mr_mace_slopehunter[with(mr_mace_slopehunter, order(pval_adjusted)), ])\n",
    "print(\"MR MACE Dudbridge Corrected Ordered by adjusted p palue\")\n",
    "head(mr_mace_dudbridge[with(mr_mace_dudbridge, order(pval_adjusted)), ])\n",
    "\n",
    "print(\"MR AIS Ordered by adjusted p palue\")\n",
    "head(mr_ais[with(mr_ais, order(pval_adjusted)), ])\n",
    "print(\"MR AIS SlopeHunter Corrected Ordered by adjusted p palue\")\n",
    "head(mr_ais_slopehunter[with(mr_ais_slopehunter, order(pval_adjusted)), ])\n",
    "print(\"MR AIS Dudbridge Corrected Ordered by adjusted p palue\")\n",
    "head(mr_ais_dudbridge[with(mr_ais_dudbridge, order(pval_adjusted)), ])"
   ]
  },
  {
   "cell_type": "markdown",
   "id": "4c4acbf7-8ef3-4e34-b0a6-af319e42482a",
   "metadata": {},
   "source": [
    "### Comparing these results to the Stroke AIS Incidence Data"
   ]
  },
  {
   "cell_type": "code",
   "execution_count": 8,
   "id": "05da8e67-117c-42a0-b099-758067e55a4a",
   "metadata": {
    "tags": []
   },
   "outputs": [
    {
     "name": "stdout",
     "output_type": "stream",
     "text": [
      "[1] \"MR Incidence AIS Ordered by adjusted p palue\"\n"
     ]
    },
    {
     "data": {
      "text/html": [
       "<table class=\"dataframe\">\n",
       "<caption>A data.table: 6 × 11</caption>\n",
       "<thead>\n",
       "\t<tr><th scope=col>exposure</th><th scope=col>id.exposure</th><th scope=col>id.outcome</th><th scope=col>outcome</th><th scope=col>method</th><th scope=col>nsnp</th><th scope=col>b</th><th scope=col>se</th><th scope=col>pval</th><th scope=col>pval_adjusted</th><th scope=col>marker.exposure</th></tr>\n",
       "\t<tr><th scope=col>&lt;chr&gt;</th><th scope=col>&lt;chr&gt;</th><th scope=col>&lt;chr&gt;</th><th scope=col>&lt;chr&gt;</th><th scope=col>&lt;chr&gt;</th><th scope=col>&lt;int&gt;</th><th scope=col>&lt;dbl&gt;</th><th scope=col>&lt;dbl&gt;</th><th scope=col>&lt;dbl&gt;</th><th scope=col>&lt;dbl&gt;</th><th scope=col>&lt;chr&gt;</th></tr>\n",
       "</thead>\n",
       "<tbody>\n",
       "\t<tr><td>FGF5   </td><td>kQLzAo</td><td>CcDfyC</td><td>incidence_ais</td><td>Wald ratio</td><td>1</td><td> 0.0016169385</td><td>0.0004409832</td><td>0.0002457328</td><td>0.2444932</td><td>4:81182554  </td></tr>\n",
       "\t<tr><td>SH2B3  </td><td>3j0htq</td><td>CcDfyC</td><td>incidence_ais</td><td>Wald ratio</td><td>1</td><td>-0.2709692716</td><td>0.0774197919</td><td>0.0004652582</td><td>0.2444932</td><td>12:111911568</td></tr>\n",
       "\t<tr><td>IFNGR2 </td><td>DSXytU</td><td>CcDfyC</td><td>incidence_ais</td><td>Wald ratio</td><td>1</td><td> 0.0009094725</td><td>0.0002798377</td><td>0.0011540501</td><td>0.3032267</td><td>21:34787312 </td></tr>\n",
       "\t<tr><td>SEZ6L  </td><td>0RaWQf</td><td>CcDfyC</td><td>incidence_ais</td><td>Wald ratio</td><td>1</td><td> 0.0063880076</td><td>0.0019518912</td><td>0.0010651520</td><td>0.3032267</td><td>22:26688831 </td></tr>\n",
       "\t<tr><td>ABHD14B</td><td>xBihbq</td><td>CcDfyC</td><td>incidence_ais</td><td>Wald ratio</td><td>1</td><td> 0.0724833330</td><td>0.0235380451</td><td>0.0020740980</td><td>0.3546857</td><td>3:52004097  </td></tr>\n",
       "\t<tr><td>CLEC1B </td><td>o431PG</td><td>CcDfyC</td><td>incidence_ais</td><td>Wald ratio</td><td>1</td><td> 0.0054137292</td><td>0.0018045764</td><td>0.0026997961</td><td>0.3546857</td><td>12:10147850 </td></tr>\n",
       "</tbody>\n",
       "</table>\n"
      ],
      "text/latex": [
       "A data.table: 6 × 11\n",
       "\\begin{tabular}{lllllllllll}\n",
       " exposure & id.exposure & id.outcome & outcome & method & nsnp & b & se & pval & pval\\_adjusted & marker.exposure\\\\\n",
       " <chr> & <chr> & <chr> & <chr> & <chr> & <int> & <dbl> & <dbl> & <dbl> & <dbl> & <chr>\\\\\n",
       "\\hline\n",
       "\t FGF5    & kQLzAo & CcDfyC & incidence\\_ais & Wald ratio & 1 &  0.0016169385 & 0.0004409832 & 0.0002457328 & 0.2444932 & 4:81182554  \\\\\n",
       "\t SH2B3   & 3j0htq & CcDfyC & incidence\\_ais & Wald ratio & 1 & -0.2709692716 & 0.0774197919 & 0.0004652582 & 0.2444932 & 12:111911568\\\\\n",
       "\t IFNGR2  & DSXytU & CcDfyC & incidence\\_ais & Wald ratio & 1 &  0.0009094725 & 0.0002798377 & 0.0011540501 & 0.3032267 & 21:34787312 \\\\\n",
       "\t SEZ6L   & 0RaWQf & CcDfyC & incidence\\_ais & Wald ratio & 1 &  0.0063880076 & 0.0019518912 & 0.0010651520 & 0.3032267 & 22:26688831 \\\\\n",
       "\t ABHD14B & xBihbq & CcDfyC & incidence\\_ais & Wald ratio & 1 &  0.0724833330 & 0.0235380451 & 0.0020740980 & 0.3546857 & 3:52004097  \\\\\n",
       "\t CLEC1B  & o431PG & CcDfyC & incidence\\_ais & Wald ratio & 1 &  0.0054137292 & 0.0018045764 & 0.0026997961 & 0.3546857 & 12:10147850 \\\\\n",
       "\\end{tabular}\n"
      ],
      "text/markdown": [
       "\n",
       "A data.table: 6 × 11\n",
       "\n",
       "| exposure &lt;chr&gt; | id.exposure &lt;chr&gt; | id.outcome &lt;chr&gt; | outcome &lt;chr&gt; | method &lt;chr&gt; | nsnp &lt;int&gt; | b &lt;dbl&gt; | se &lt;dbl&gt; | pval &lt;dbl&gt; | pval_adjusted &lt;dbl&gt; | marker.exposure &lt;chr&gt; |\n",
       "|---|---|---|---|---|---|---|---|---|---|---|\n",
       "| FGF5    | kQLzAo | CcDfyC | incidence_ais | Wald ratio | 1 |  0.0016169385 | 0.0004409832 | 0.0002457328 | 0.2444932 | 4:81182554   |\n",
       "| SH2B3   | 3j0htq | CcDfyC | incidence_ais | Wald ratio | 1 | -0.2709692716 | 0.0774197919 | 0.0004652582 | 0.2444932 | 12:111911568 |\n",
       "| IFNGR2  | DSXytU | CcDfyC | incidence_ais | Wald ratio | 1 |  0.0009094725 | 0.0002798377 | 0.0011540501 | 0.3032267 | 21:34787312  |\n",
       "| SEZ6L   | 0RaWQf | CcDfyC | incidence_ais | Wald ratio | 1 |  0.0063880076 | 0.0019518912 | 0.0010651520 | 0.3032267 | 22:26688831  |\n",
       "| ABHD14B | xBihbq | CcDfyC | incidence_ais | Wald ratio | 1 |  0.0724833330 | 0.0235380451 | 0.0020740980 | 0.3546857 | 3:52004097   |\n",
       "| CLEC1B  | o431PG | CcDfyC | incidence_ais | Wald ratio | 1 |  0.0054137292 | 0.0018045764 | 0.0026997961 | 0.3546857 | 12:10147850  |\n",
       "\n"
      ],
      "text/plain": [
       "  exposure id.exposure id.outcome outcome       method     nsnp b            \n",
       "1 FGF5     kQLzAo      CcDfyC     incidence_ais Wald ratio 1     0.0016169385\n",
       "2 SH2B3    3j0htq      CcDfyC     incidence_ais Wald ratio 1    -0.2709692716\n",
       "3 IFNGR2   DSXytU      CcDfyC     incidence_ais Wald ratio 1     0.0009094725\n",
       "4 SEZ6L    0RaWQf      CcDfyC     incidence_ais Wald ratio 1     0.0063880076\n",
       "5 ABHD14B  xBihbq      CcDfyC     incidence_ais Wald ratio 1     0.0724833330\n",
       "6 CLEC1B   o431PG      CcDfyC     incidence_ais Wald ratio 1     0.0054137292\n",
       "  se           pval         pval_adjusted marker.exposure\n",
       "1 0.0004409832 0.0002457328 0.2444932     4:81182554     \n",
       "2 0.0774197919 0.0004652582 0.2444932     12:111911568   \n",
       "3 0.0002798377 0.0011540501 0.3032267     21:34787312    \n",
       "4 0.0019518912 0.0010651520 0.3032267     22:26688831    \n",
       "5 0.0235380451 0.0020740980 0.3546857     3:52004097     \n",
       "6 0.0018045764 0.0026997961 0.3546857     12:10147850    "
      ]
     },
     "metadata": {},
     "output_type": "display_data"
    }
   ],
   "source": [
    "mr_incidence_ais <- merge_marker_data(data.table::fread(\"scratch/results/mr/mr_incidence_ais.tsv\"))\n",
    "\n",
    "print(\"MR Incidence AIS Ordered by adjusted p palue\")\n",
    "head(mr_incidence_ais[with(mr_incidence_ais, order(pval_adjusted)), ])"
   ]
  },
  {
   "cell_type": "markdown",
   "id": "13e2ae7f-dae7-4a52-ab78-f5be225fc853",
   "metadata": {},
   "source": [
    "## MR for CIS and TRANS pQTLs"
   ]
  },
  {
   "cell_type": "code",
   "execution_count": 7,
   "id": "e3746eee-0484-4f07-914d-8f98710bae14",
   "metadata": {
    "tags": []
   },
   "outputs": [
    {
     "name": "stdout",
     "output_type": "stream",
     "text": [
      "[1] \"MR MACE Ordered by adjusted p palue\"\n"
     ]
    },
    {
     "data": {
      "text/html": [
       "<table class=\"dataframe\">\n",
       "<caption>A data.table: 6 × 11</caption>\n",
       "<thead>\n",
       "\t<tr><th scope=col>exposure</th><th scope=col>id.exposure</th><th scope=col>id.outcome</th><th scope=col>outcome</th><th scope=col>method</th><th scope=col>nsnp</th><th scope=col>b</th><th scope=col>se</th><th scope=col>pval</th><th scope=col>pval_adjusted</th><th scope=col>marker.exposure</th></tr>\n",
       "\t<tr><th scope=col>&lt;chr&gt;</th><th scope=col>&lt;chr&gt;</th><th scope=col>&lt;chr&gt;</th><th scope=col>&lt;chr&gt;</th><th scope=col>&lt;chr&gt;</th><th scope=col>&lt;int&gt;</th><th scope=col>&lt;dbl&gt;</th><th scope=col>&lt;dbl&gt;</th><th scope=col>&lt;dbl&gt;</th><th scope=col>&lt;dbl&gt;</th><th scope=col>&lt;chr&gt;</th></tr>\n",
       "</thead>\n",
       "<tbody>\n",
       "\t<tr><td>IL19 </td><td>kiNVNe</td><td>e5K55p</td><td>subsequent_mace_non_adjusted</td><td>Inverse variance weighted</td><td> 5</td><td> 0.09559821</td><td>0.02250109</td><td>2.151074e-05</td><td>0.02929762</td><td>1:207015957</td></tr>\n",
       "\t<tr><td>KRT5 </td><td>xP0Mo3</td><td>e5K55p</td><td>subsequent_mace_non_adjusted</td><td>Inverse variance weighted</td><td> 4</td><td>-0.23341089</td><td>0.06046804</td><td>1.133544e-04</td><td>0.07719435</td><td>12:52913029</td></tr>\n",
       "\t<tr><td>CD164</td><td>1KYXy0</td><td>e5K55p</td><td>subsequent_mace_non_adjusted</td><td>Inverse variance weighted</td><td>10</td><td>-0.14704592</td><td>0.04192116</td><td>4.520359e-04</td><td>0.20522429</td><td>6:109720350</td></tr>\n",
       "\t<tr><td>AMY2B</td><td>6r3Omf</td><td>e5K55p</td><td>subsequent_mace_non_adjusted</td><td>Inverse variance weighted</td><td> 9</td><td> 0.07423689</td><td>0.02426929</td><td>2.221647e-03</td><td>0.50441216</td><td>1:104329823</td></tr>\n",
       "\t<tr><td>IL34 </td><td>gw2kzS</td><td>e5K55p</td><td>subsequent_mace_non_adjusted</td><td>Wald ratio               </td><td> 1</td><td> 0.04846180</td><td>0.01584328</td><td>2.222080e-03</td><td>0.50441216</td><td>16:70694000</td></tr>\n",
       "\t<tr><td>ART3 </td><td>PB62J0</td><td>e5K55p</td><td>subsequent_mace_non_adjusted</td><td>Inverse variance weighted</td><td> 5</td><td>-0.10038732</td><td>0.03550390</td><td>4.691280e-03</td><td>0.54781397</td><td>4:77030398 </td></tr>\n",
       "</tbody>\n",
       "</table>\n"
      ],
      "text/latex": [
       "A data.table: 6 × 11\n",
       "\\begin{tabular}{lllllllllll}\n",
       " exposure & id.exposure & id.outcome & outcome & method & nsnp & b & se & pval & pval\\_adjusted & marker.exposure\\\\\n",
       " <chr> & <chr> & <chr> & <chr> & <chr> & <int> & <dbl> & <dbl> & <dbl> & <dbl> & <chr>\\\\\n",
       "\\hline\n",
       "\t IL19  & kiNVNe & e5K55p & subsequent\\_mace\\_non\\_adjusted & Inverse variance weighted &  5 &  0.09559821 & 0.02250109 & 2.151074e-05 & 0.02929762 & 1:207015957\\\\\n",
       "\t KRT5  & xP0Mo3 & e5K55p & subsequent\\_mace\\_non\\_adjusted & Inverse variance weighted &  4 & -0.23341089 & 0.06046804 & 1.133544e-04 & 0.07719435 & 12:52913029\\\\\n",
       "\t CD164 & 1KYXy0 & e5K55p & subsequent\\_mace\\_non\\_adjusted & Inverse variance weighted & 10 & -0.14704592 & 0.04192116 & 4.520359e-04 & 0.20522429 & 6:109720350\\\\\n",
       "\t AMY2B & 6r3Omf & e5K55p & subsequent\\_mace\\_non\\_adjusted & Inverse variance weighted &  9 &  0.07423689 & 0.02426929 & 2.221647e-03 & 0.50441216 & 1:104329823\\\\\n",
       "\t IL34  & gw2kzS & e5K55p & subsequent\\_mace\\_non\\_adjusted & Wald ratio                &  1 &  0.04846180 & 0.01584328 & 2.222080e-03 & 0.50441216 & 16:70694000\\\\\n",
       "\t ART3  & PB62J0 & e5K55p & subsequent\\_mace\\_non\\_adjusted & Inverse variance weighted &  5 & -0.10038732 & 0.03550390 & 4.691280e-03 & 0.54781397 & 4:77030398 \\\\\n",
       "\\end{tabular}\n"
      ],
      "text/markdown": [
       "\n",
       "A data.table: 6 × 11\n",
       "\n",
       "| exposure &lt;chr&gt; | id.exposure &lt;chr&gt; | id.outcome &lt;chr&gt; | outcome &lt;chr&gt; | method &lt;chr&gt; | nsnp &lt;int&gt; | b &lt;dbl&gt; | se &lt;dbl&gt; | pval &lt;dbl&gt; | pval_adjusted &lt;dbl&gt; | marker.exposure &lt;chr&gt; |\n",
       "|---|---|---|---|---|---|---|---|---|---|---|\n",
       "| IL19  | kiNVNe | e5K55p | subsequent_mace_non_adjusted | Inverse variance weighted |  5 |  0.09559821 | 0.02250109 | 2.151074e-05 | 0.02929762 | 1:207015957 |\n",
       "| KRT5  | xP0Mo3 | e5K55p | subsequent_mace_non_adjusted | Inverse variance weighted |  4 | -0.23341089 | 0.06046804 | 1.133544e-04 | 0.07719435 | 12:52913029 |\n",
       "| CD164 | 1KYXy0 | e5K55p | subsequent_mace_non_adjusted | Inverse variance weighted | 10 | -0.14704592 | 0.04192116 | 4.520359e-04 | 0.20522429 | 6:109720350 |\n",
       "| AMY2B | 6r3Omf | e5K55p | subsequent_mace_non_adjusted | Inverse variance weighted |  9 |  0.07423689 | 0.02426929 | 2.221647e-03 | 0.50441216 | 1:104329823 |\n",
       "| IL34  | gw2kzS | e5K55p | subsequent_mace_non_adjusted | Wald ratio                |  1 |  0.04846180 | 0.01584328 | 2.222080e-03 | 0.50441216 | 16:70694000 |\n",
       "| ART3  | PB62J0 | e5K55p | subsequent_mace_non_adjusted | Inverse variance weighted |  5 | -0.10038732 | 0.03550390 | 4.691280e-03 | 0.54781397 | 4:77030398  |\n",
       "\n"
      ],
      "text/plain": [
       "  exposure id.exposure id.outcome outcome                     \n",
       "1 IL19     kiNVNe      e5K55p     subsequent_mace_non_adjusted\n",
       "2 KRT5     xP0Mo3      e5K55p     subsequent_mace_non_adjusted\n",
       "3 CD164    1KYXy0      e5K55p     subsequent_mace_non_adjusted\n",
       "4 AMY2B    6r3Omf      e5K55p     subsequent_mace_non_adjusted\n",
       "5 IL34     gw2kzS      e5K55p     subsequent_mace_non_adjusted\n",
       "6 ART3     PB62J0      e5K55p     subsequent_mace_non_adjusted\n",
       "  method                    nsnp b           se         pval        \n",
       "1 Inverse variance weighted  5    0.09559821 0.02250109 2.151074e-05\n",
       "2 Inverse variance weighted  4   -0.23341089 0.06046804 1.133544e-04\n",
       "3 Inverse variance weighted 10   -0.14704592 0.04192116 4.520359e-04\n",
       "4 Inverse variance weighted  9    0.07423689 0.02426929 2.221647e-03\n",
       "5 Wald ratio                 1    0.04846180 0.01584328 2.222080e-03\n",
       "6 Inverse variance weighted  5   -0.10038732 0.03550390 4.691280e-03\n",
       "  pval_adjusted marker.exposure\n",
       "1 0.02929762    1:207015957    \n",
       "2 0.07719435    12:52913029    \n",
       "3 0.20522429    6:109720350    \n",
       "4 0.50441216    1:104329823    \n",
       "5 0.50441216    16:70694000    \n",
       "6 0.54781397    4:77030398     "
      ]
     },
     "metadata": {},
     "output_type": "display_data"
    },
    {
     "name": "stdout",
     "output_type": "stream",
     "text": [
      "[1] \"MR MACE SlopeHunter Corrected Ordered by adjusted p palue\"\n"
     ]
    },
    {
     "data": {
      "text/html": [
       "<table class=\"dataframe\">\n",
       "<caption>A data.table: 6 × 11</caption>\n",
       "<thead>\n",
       "\t<tr><th scope=col>exposure</th><th scope=col>id.exposure</th><th scope=col>id.outcome</th><th scope=col>outcome</th><th scope=col>method</th><th scope=col>nsnp</th><th scope=col>b</th><th scope=col>se</th><th scope=col>pval</th><th scope=col>pval_adjusted</th><th scope=col>marker.exposure</th></tr>\n",
       "\t<tr><th scope=col>&lt;chr&gt;</th><th scope=col>&lt;chr&gt;</th><th scope=col>&lt;chr&gt;</th><th scope=col>&lt;chr&gt;</th><th scope=col>&lt;chr&gt;</th><th scope=col>&lt;int&gt;</th><th scope=col>&lt;dbl&gt;</th><th scope=col>&lt;dbl&gt;</th><th scope=col>&lt;dbl&gt;</th><th scope=col>&lt;dbl&gt;</th><th scope=col>&lt;chr&gt;</th></tr>\n",
       "</thead>\n",
       "<tbody>\n",
       "\t<tr><td>AARSD1 </td><td>tD3y6R</td><td>pYSm87</td><td>subsequent_mace_slopehunter</td><td>Inverse variance weighted</td><td> 3</td><td> 0.016171693</td><td>0.07166881</td><td>0.821477698</td><td>0.999226</td><td>17:41140545</td></tr>\n",
       "\t<tr><td>ABHD14B</td><td>3GWde8</td><td>pYSm87</td><td>subsequent_mace_slopehunter</td><td>Inverse variance weighted</td><td> 3</td><td> 0.235988100</td><td>0.09011765</td><td>0.008827415</td><td>0.999226</td><td>3:52004097 </td></tr>\n",
       "\t<tr><td>ACAA1  </td><td>oJj0hL</td><td>pYSm87</td><td>subsequent_mace_slopehunter</td><td>Inverse variance weighted</td><td> 2</td><td>-0.026006733</td><td>0.28728219</td><td>0.927868610</td><td>0.999226</td><td>3:38170810 </td></tr>\n",
       "\t<tr><td>ACAN   </td><td>CzpMuO</td><td>pYSm87</td><td>subsequent_mace_slopehunter</td><td>Inverse variance weighted</td><td>11</td><td>-0.046118570</td><td>0.07691817</td><td>0.548786418</td><td>0.999226</td><td>15:89252012</td></tr>\n",
       "\t<tr><td>ACOX1  </td><td>XNN0AB</td><td>pYSm87</td><td>subsequent_mace_slopehunter</td><td>Wald ratio               </td><td> 1</td><td> 0.122730828</td><td>0.14835595</td><td>0.408082498</td><td>0.999226</td><td>17:73951864</td></tr>\n",
       "\t<tr><td>ACP5   </td><td>j9jmhV</td><td>pYSm87</td><td>subsequent_mace_slopehunter</td><td>Inverse variance weighted</td><td>10</td><td>-0.007029854</td><td>0.02915031</td><td>0.809432032</td><td>0.999226</td><td>19:11687351</td></tr>\n",
       "</tbody>\n",
       "</table>\n"
      ],
      "text/latex": [
       "A data.table: 6 × 11\n",
       "\\begin{tabular}{lllllllllll}\n",
       " exposure & id.exposure & id.outcome & outcome & method & nsnp & b & se & pval & pval\\_adjusted & marker.exposure\\\\\n",
       " <chr> & <chr> & <chr> & <chr> & <chr> & <int> & <dbl> & <dbl> & <dbl> & <dbl> & <chr>\\\\\n",
       "\\hline\n",
       "\t AARSD1  & tD3y6R & pYSm87 & subsequent\\_mace\\_slopehunter & Inverse variance weighted &  3 &  0.016171693 & 0.07166881 & 0.821477698 & 0.999226 & 17:41140545\\\\\n",
       "\t ABHD14B & 3GWde8 & pYSm87 & subsequent\\_mace\\_slopehunter & Inverse variance weighted &  3 &  0.235988100 & 0.09011765 & 0.008827415 & 0.999226 & 3:52004097 \\\\\n",
       "\t ACAA1   & oJj0hL & pYSm87 & subsequent\\_mace\\_slopehunter & Inverse variance weighted &  2 & -0.026006733 & 0.28728219 & 0.927868610 & 0.999226 & 3:38170810 \\\\\n",
       "\t ACAN    & CzpMuO & pYSm87 & subsequent\\_mace\\_slopehunter & Inverse variance weighted & 11 & -0.046118570 & 0.07691817 & 0.548786418 & 0.999226 & 15:89252012\\\\\n",
       "\t ACOX1   & XNN0AB & pYSm87 & subsequent\\_mace\\_slopehunter & Wald ratio                &  1 &  0.122730828 & 0.14835595 & 0.408082498 & 0.999226 & 17:73951864\\\\\n",
       "\t ACP5    & j9jmhV & pYSm87 & subsequent\\_mace\\_slopehunter & Inverse variance weighted & 10 & -0.007029854 & 0.02915031 & 0.809432032 & 0.999226 & 19:11687351\\\\\n",
       "\\end{tabular}\n"
      ],
      "text/markdown": [
       "\n",
       "A data.table: 6 × 11\n",
       "\n",
       "| exposure &lt;chr&gt; | id.exposure &lt;chr&gt; | id.outcome &lt;chr&gt; | outcome &lt;chr&gt; | method &lt;chr&gt; | nsnp &lt;int&gt; | b &lt;dbl&gt; | se &lt;dbl&gt; | pval &lt;dbl&gt; | pval_adjusted &lt;dbl&gt; | marker.exposure &lt;chr&gt; |\n",
       "|---|---|---|---|---|---|---|---|---|---|---|\n",
       "| AARSD1  | tD3y6R | pYSm87 | subsequent_mace_slopehunter | Inverse variance weighted |  3 |  0.016171693 | 0.07166881 | 0.821477698 | 0.999226 | 17:41140545 |\n",
       "| ABHD14B | 3GWde8 | pYSm87 | subsequent_mace_slopehunter | Inverse variance weighted |  3 |  0.235988100 | 0.09011765 | 0.008827415 | 0.999226 | 3:52004097  |\n",
       "| ACAA1   | oJj0hL | pYSm87 | subsequent_mace_slopehunter | Inverse variance weighted |  2 | -0.026006733 | 0.28728219 | 0.927868610 | 0.999226 | 3:38170810  |\n",
       "| ACAN    | CzpMuO | pYSm87 | subsequent_mace_slopehunter | Inverse variance weighted | 11 | -0.046118570 | 0.07691817 | 0.548786418 | 0.999226 | 15:89252012 |\n",
       "| ACOX1   | XNN0AB | pYSm87 | subsequent_mace_slopehunter | Wald ratio                |  1 |  0.122730828 | 0.14835595 | 0.408082498 | 0.999226 | 17:73951864 |\n",
       "| ACP5    | j9jmhV | pYSm87 | subsequent_mace_slopehunter | Inverse variance weighted | 10 | -0.007029854 | 0.02915031 | 0.809432032 | 0.999226 | 19:11687351 |\n",
       "\n"
      ],
      "text/plain": [
       "  exposure id.exposure id.outcome outcome                    \n",
       "1 AARSD1   tD3y6R      pYSm87     subsequent_mace_slopehunter\n",
       "2 ABHD14B  3GWde8      pYSm87     subsequent_mace_slopehunter\n",
       "3 ACAA1    oJj0hL      pYSm87     subsequent_mace_slopehunter\n",
       "4 ACAN     CzpMuO      pYSm87     subsequent_mace_slopehunter\n",
       "5 ACOX1    XNN0AB      pYSm87     subsequent_mace_slopehunter\n",
       "6 ACP5     j9jmhV      pYSm87     subsequent_mace_slopehunter\n",
       "  method                    nsnp b            se         pval       \n",
       "1 Inverse variance weighted  3    0.016171693 0.07166881 0.821477698\n",
       "2 Inverse variance weighted  3    0.235988100 0.09011765 0.008827415\n",
       "3 Inverse variance weighted  2   -0.026006733 0.28728219 0.927868610\n",
       "4 Inverse variance weighted 11   -0.046118570 0.07691817 0.548786418\n",
       "5 Wald ratio                 1    0.122730828 0.14835595 0.408082498\n",
       "6 Inverse variance weighted 10   -0.007029854 0.02915031 0.809432032\n",
       "  pval_adjusted marker.exposure\n",
       "1 0.999226      17:41140545    \n",
       "2 0.999226      3:52004097     \n",
       "3 0.999226      3:38170810     \n",
       "4 0.999226      15:89252012    \n",
       "5 0.999226      17:73951864    \n",
       "6 0.999226      19:11687351    "
      ]
     },
     "metadata": {},
     "output_type": "display_data"
    },
    {
     "name": "stdout",
     "output_type": "stream",
     "text": [
      "[1] \"MR MACE Dudbridge Corrected Ordered by adjusted p palue\"\n"
     ]
    },
    {
     "data": {
      "text/html": [
       "<table class=\"dataframe\">\n",
       "<caption>A data.table: 6 × 11</caption>\n",
       "<thead>\n",
       "\t<tr><th scope=col>exposure</th><th scope=col>id.exposure</th><th scope=col>id.outcome</th><th scope=col>outcome</th><th scope=col>method</th><th scope=col>nsnp</th><th scope=col>b</th><th scope=col>se</th><th scope=col>pval</th><th scope=col>pval_adjusted</th><th scope=col>marker.exposure</th></tr>\n",
       "\t<tr><th scope=col>&lt;chr&gt;</th><th scope=col>&lt;chr&gt;</th><th scope=col>&lt;chr&gt;</th><th scope=col>&lt;chr&gt;</th><th scope=col>&lt;chr&gt;</th><th scope=col>&lt;int&gt;</th><th scope=col>&lt;dbl&gt;</th><th scope=col>&lt;dbl&gt;</th><th scope=col>&lt;dbl&gt;</th><th scope=col>&lt;dbl&gt;</th><th scope=col>&lt;chr&gt;</th></tr>\n",
       "</thead>\n",
       "<tbody>\n",
       "\t<tr><td>LYPD8  </td><td>gKVpO0</td><td>ha1afw</td><td>subsequent_mace_dudbridge</td><td>Inverse variance weighted</td><td>10</td><td> 0.026709881</td><td>0.008278523</td><td>0.001253552</td><td>0.7828216</td><td>1:249065691</td></tr>\n",
       "\t<tr><td>PTGDS  </td><td>aTsOce</td><td>ha1afw</td><td>subsequent_mace_dudbridge</td><td>Inverse variance weighted</td><td> 3</td><td>-0.164722326</td><td>0.050115964</td><td>0.001013243</td><td>0.7828216</td><td>9:139859013</td></tr>\n",
       "\t<tr><td>AARSD1 </td><td>tD3y6R</td><td>ha1afw</td><td>subsequent_mace_dudbridge</td><td>Inverse variance weighted</td><td> 3</td><td> 0.010906397</td><td>0.070391666</td><td>0.876869598</td><td>0.9996620</td><td>17:41140545</td></tr>\n",
       "\t<tr><td>ABHD14B</td><td>3GWde8</td><td>ha1afw</td><td>subsequent_mace_dudbridge</td><td>Inverse variance weighted</td><td> 3</td><td> 0.088099783</td><td>0.041333698</td><td>0.033053936</td><td>0.9996620</td><td>3:52004097 </td></tr>\n",
       "\t<tr><td>ACAA1  </td><td>oJj0hL</td><td>ha1afw</td><td>subsequent_mace_dudbridge</td><td>Inverse variance weighted</td><td> 2</td><td> 0.003577632</td><td>0.286448317</td><td>0.990034980</td><td>0.9996620</td><td>3:38170810 </td></tr>\n",
       "\t<tr><td>ACAN   </td><td>CzpMuO</td><td>ha1afw</td><td>subsequent_mace_dudbridge</td><td>Inverse variance weighted</td><td>11</td><td>-0.056943171</td><td>0.072887947</td><td>0.434659809</td><td>0.9996620</td><td>15:89252012</td></tr>\n",
       "</tbody>\n",
       "</table>\n"
      ],
      "text/latex": [
       "A data.table: 6 × 11\n",
       "\\begin{tabular}{lllllllllll}\n",
       " exposure & id.exposure & id.outcome & outcome & method & nsnp & b & se & pval & pval\\_adjusted & marker.exposure\\\\\n",
       " <chr> & <chr> & <chr> & <chr> & <chr> & <int> & <dbl> & <dbl> & <dbl> & <dbl> & <chr>\\\\\n",
       "\\hline\n",
       "\t LYPD8   & gKVpO0 & ha1afw & subsequent\\_mace\\_dudbridge & Inverse variance weighted & 10 &  0.026709881 & 0.008278523 & 0.001253552 & 0.7828216 & 1:249065691\\\\\n",
       "\t PTGDS   & aTsOce & ha1afw & subsequent\\_mace\\_dudbridge & Inverse variance weighted &  3 & -0.164722326 & 0.050115964 & 0.001013243 & 0.7828216 & 9:139859013\\\\\n",
       "\t AARSD1  & tD3y6R & ha1afw & subsequent\\_mace\\_dudbridge & Inverse variance weighted &  3 &  0.010906397 & 0.070391666 & 0.876869598 & 0.9996620 & 17:41140545\\\\\n",
       "\t ABHD14B & 3GWde8 & ha1afw & subsequent\\_mace\\_dudbridge & Inverse variance weighted &  3 &  0.088099783 & 0.041333698 & 0.033053936 & 0.9996620 & 3:52004097 \\\\\n",
       "\t ACAA1   & oJj0hL & ha1afw & subsequent\\_mace\\_dudbridge & Inverse variance weighted &  2 &  0.003577632 & 0.286448317 & 0.990034980 & 0.9996620 & 3:38170810 \\\\\n",
       "\t ACAN    & CzpMuO & ha1afw & subsequent\\_mace\\_dudbridge & Inverse variance weighted & 11 & -0.056943171 & 0.072887947 & 0.434659809 & 0.9996620 & 15:89252012\\\\\n",
       "\\end{tabular}\n"
      ],
      "text/markdown": [
       "\n",
       "A data.table: 6 × 11\n",
       "\n",
       "| exposure &lt;chr&gt; | id.exposure &lt;chr&gt; | id.outcome &lt;chr&gt; | outcome &lt;chr&gt; | method &lt;chr&gt; | nsnp &lt;int&gt; | b &lt;dbl&gt; | se &lt;dbl&gt; | pval &lt;dbl&gt; | pval_adjusted &lt;dbl&gt; | marker.exposure &lt;chr&gt; |\n",
       "|---|---|---|---|---|---|---|---|---|---|---|\n",
       "| LYPD8   | gKVpO0 | ha1afw | subsequent_mace_dudbridge | Inverse variance weighted | 10 |  0.026709881 | 0.008278523 | 0.001253552 | 0.7828216 | 1:249065691 |\n",
       "| PTGDS   | aTsOce | ha1afw | subsequent_mace_dudbridge | Inverse variance weighted |  3 | -0.164722326 | 0.050115964 | 0.001013243 | 0.7828216 | 9:139859013 |\n",
       "| AARSD1  | tD3y6R | ha1afw | subsequent_mace_dudbridge | Inverse variance weighted |  3 |  0.010906397 | 0.070391666 | 0.876869598 | 0.9996620 | 17:41140545 |\n",
       "| ABHD14B | 3GWde8 | ha1afw | subsequent_mace_dudbridge | Inverse variance weighted |  3 |  0.088099783 | 0.041333698 | 0.033053936 | 0.9996620 | 3:52004097  |\n",
       "| ACAA1   | oJj0hL | ha1afw | subsequent_mace_dudbridge | Inverse variance weighted |  2 |  0.003577632 | 0.286448317 | 0.990034980 | 0.9996620 | 3:38170810  |\n",
       "| ACAN    | CzpMuO | ha1afw | subsequent_mace_dudbridge | Inverse variance weighted | 11 | -0.056943171 | 0.072887947 | 0.434659809 | 0.9996620 | 15:89252012 |\n",
       "\n"
      ],
      "text/plain": [
       "  exposure id.exposure id.outcome outcome                  \n",
       "1 LYPD8    gKVpO0      ha1afw     subsequent_mace_dudbridge\n",
       "2 PTGDS    aTsOce      ha1afw     subsequent_mace_dudbridge\n",
       "3 AARSD1   tD3y6R      ha1afw     subsequent_mace_dudbridge\n",
       "4 ABHD14B  3GWde8      ha1afw     subsequent_mace_dudbridge\n",
       "5 ACAA1    oJj0hL      ha1afw     subsequent_mace_dudbridge\n",
       "6 ACAN     CzpMuO      ha1afw     subsequent_mace_dudbridge\n",
       "  method                    nsnp b            se          pval       \n",
       "1 Inverse variance weighted 10    0.026709881 0.008278523 0.001253552\n",
       "2 Inverse variance weighted  3   -0.164722326 0.050115964 0.001013243\n",
       "3 Inverse variance weighted  3    0.010906397 0.070391666 0.876869598\n",
       "4 Inverse variance weighted  3    0.088099783 0.041333698 0.033053936\n",
       "5 Inverse variance weighted  2    0.003577632 0.286448317 0.990034980\n",
       "6 Inverse variance weighted 11   -0.056943171 0.072887947 0.434659809\n",
       "  pval_adjusted marker.exposure\n",
       "1 0.7828216     1:249065691    \n",
       "2 0.7828216     9:139859013    \n",
       "3 0.9996620     17:41140545    \n",
       "4 0.9996620     3:52004097     \n",
       "5 0.9996620     3:38170810     \n",
       "6 0.9996620     15:89252012    "
      ]
     },
     "metadata": {},
     "output_type": "display_data"
    },
    {
     "name": "stdout",
     "output_type": "stream",
     "text": [
      "[1] \"MR AIS Ordered by adjusted p palue\"\n"
     ]
    },
    {
     "data": {
      "text/html": [
       "<table class=\"dataframe\">\n",
       "<caption>A data.table: 6 × 11</caption>\n",
       "<thead>\n",
       "\t<tr><th scope=col>exposure</th><th scope=col>id.exposure</th><th scope=col>id.outcome</th><th scope=col>outcome</th><th scope=col>method</th><th scope=col>nsnp</th><th scope=col>b</th><th scope=col>se</th><th scope=col>pval</th><th scope=col>pval_adjusted</th><th scope=col>marker.exposure</th></tr>\n",
       "\t<tr><th scope=col>&lt;chr&gt;</th><th scope=col>&lt;chr&gt;</th><th scope=col>&lt;chr&gt;</th><th scope=col>&lt;chr&gt;</th><th scope=col>&lt;chr&gt;</th><th scope=col>&lt;int&gt;</th><th scope=col>&lt;dbl&gt;</th><th scope=col>&lt;dbl&gt;</th><th scope=col>&lt;dbl&gt;</th><th scope=col>&lt;dbl&gt;</th><th scope=col>&lt;chr&gt;</th></tr>\n",
       "</thead>\n",
       "<tbody>\n",
       "\t<tr><td>CD164  </td><td>CTr32W</td><td>A9OGYY</td><td>subsequent_ais_non_adjusted</td><td>Inverse variance weighted</td><td>10</td><td>-0.14755911</td><td>0.04227295</td><td>0.0004818876</td><td>0.4750380</td><td>6:109720350</td></tr>\n",
       "\t<tr><td>GOLM2  </td><td>bhaC9U</td><td>A9OGYY</td><td>subsequent_ais_non_adjusted</td><td>Inverse variance weighted</td><td> 9</td><td>-0.09150730</td><td>0.02699385</td><td>0.0006990994</td><td>0.4750380</td><td>15:44670474</td></tr>\n",
       "\t<tr><td>IL19   </td><td>eWg6bw</td><td>A9OGYY</td><td>subsequent_ais_non_adjusted</td><td>Inverse variance weighted</td><td> 5</td><td> 0.08204006</td><td>0.02532138</td><td>0.0011954963</td><td>0.5415598</td><td>1:207015957</td></tr>\n",
       "\t<tr><td>CELA3A </td><td>nsZnLN</td><td>A9OGYY</td><td>subsequent_ais_non_adjusted</td><td>Inverse variance weighted</td><td>16</td><td> 0.05825818</td><td>0.02134723</td><td>0.0063512365</td><td>0.9958199</td><td>1:22313371 </td></tr>\n",
       "\t<tr><td>CLEC14A</td><td>VQhR1h</td><td>A9OGYY</td><td>subsequent_ais_non_adjusted</td><td>Inverse variance weighted</td><td>10</td><td> 0.08630869</td><td>0.02972722</td><td>0.0036918719</td><td>0.9958199</td><td>14:38965830</td></tr>\n",
       "\t<tr><td>IL32   </td><td>dqV9yq</td><td>A9OGYY</td><td>subsequent_ais_non_adjusted</td><td>Inverse variance weighted</td><td> 9</td><td> 0.08649938</td><td>0.03264705</td><td>0.0080603523</td><td>0.9958199</td><td>16:3115272 </td></tr>\n",
       "</tbody>\n",
       "</table>\n"
      ],
      "text/latex": [
       "A data.table: 6 × 11\n",
       "\\begin{tabular}{lllllllllll}\n",
       " exposure & id.exposure & id.outcome & outcome & method & nsnp & b & se & pval & pval\\_adjusted & marker.exposure\\\\\n",
       " <chr> & <chr> & <chr> & <chr> & <chr> & <int> & <dbl> & <dbl> & <dbl> & <dbl> & <chr>\\\\\n",
       "\\hline\n",
       "\t CD164   & CTr32W & A9OGYY & subsequent\\_ais\\_non\\_adjusted & Inverse variance weighted & 10 & -0.14755911 & 0.04227295 & 0.0004818876 & 0.4750380 & 6:109720350\\\\\n",
       "\t GOLM2   & bhaC9U & A9OGYY & subsequent\\_ais\\_non\\_adjusted & Inverse variance weighted &  9 & -0.09150730 & 0.02699385 & 0.0006990994 & 0.4750380 & 15:44670474\\\\\n",
       "\t IL19    & eWg6bw & A9OGYY & subsequent\\_ais\\_non\\_adjusted & Inverse variance weighted &  5 &  0.08204006 & 0.02532138 & 0.0011954963 & 0.5415598 & 1:207015957\\\\\n",
       "\t CELA3A  & nsZnLN & A9OGYY & subsequent\\_ais\\_non\\_adjusted & Inverse variance weighted & 16 &  0.05825818 & 0.02134723 & 0.0063512365 & 0.9958199 & 1:22313371 \\\\\n",
       "\t CLEC14A & VQhR1h & A9OGYY & subsequent\\_ais\\_non\\_adjusted & Inverse variance weighted & 10 &  0.08630869 & 0.02972722 & 0.0036918719 & 0.9958199 & 14:38965830\\\\\n",
       "\t IL32    & dqV9yq & A9OGYY & subsequent\\_ais\\_non\\_adjusted & Inverse variance weighted &  9 &  0.08649938 & 0.03264705 & 0.0080603523 & 0.9958199 & 16:3115272 \\\\\n",
       "\\end{tabular}\n"
      ],
      "text/markdown": [
       "\n",
       "A data.table: 6 × 11\n",
       "\n",
       "| exposure &lt;chr&gt; | id.exposure &lt;chr&gt; | id.outcome &lt;chr&gt; | outcome &lt;chr&gt; | method &lt;chr&gt; | nsnp &lt;int&gt; | b &lt;dbl&gt; | se &lt;dbl&gt; | pval &lt;dbl&gt; | pval_adjusted &lt;dbl&gt; | marker.exposure &lt;chr&gt; |\n",
       "|---|---|---|---|---|---|---|---|---|---|---|\n",
       "| CD164   | CTr32W | A9OGYY | subsequent_ais_non_adjusted | Inverse variance weighted | 10 | -0.14755911 | 0.04227295 | 0.0004818876 | 0.4750380 | 6:109720350 |\n",
       "| GOLM2   | bhaC9U | A9OGYY | subsequent_ais_non_adjusted | Inverse variance weighted |  9 | -0.09150730 | 0.02699385 | 0.0006990994 | 0.4750380 | 15:44670474 |\n",
       "| IL19    | eWg6bw | A9OGYY | subsequent_ais_non_adjusted | Inverse variance weighted |  5 |  0.08204006 | 0.02532138 | 0.0011954963 | 0.5415598 | 1:207015957 |\n",
       "| CELA3A  | nsZnLN | A9OGYY | subsequent_ais_non_adjusted | Inverse variance weighted | 16 |  0.05825818 | 0.02134723 | 0.0063512365 | 0.9958199 | 1:22313371  |\n",
       "| CLEC14A | VQhR1h | A9OGYY | subsequent_ais_non_adjusted | Inverse variance weighted | 10 |  0.08630869 | 0.02972722 | 0.0036918719 | 0.9958199 | 14:38965830 |\n",
       "| IL32    | dqV9yq | A9OGYY | subsequent_ais_non_adjusted | Inverse variance weighted |  9 |  0.08649938 | 0.03264705 | 0.0080603523 | 0.9958199 | 16:3115272  |\n",
       "\n"
      ],
      "text/plain": [
       "  exposure id.exposure id.outcome outcome                    \n",
       "1 CD164    CTr32W      A9OGYY     subsequent_ais_non_adjusted\n",
       "2 GOLM2    bhaC9U      A9OGYY     subsequent_ais_non_adjusted\n",
       "3 IL19     eWg6bw      A9OGYY     subsequent_ais_non_adjusted\n",
       "4 CELA3A   nsZnLN      A9OGYY     subsequent_ais_non_adjusted\n",
       "5 CLEC14A  VQhR1h      A9OGYY     subsequent_ais_non_adjusted\n",
       "6 IL32     dqV9yq      A9OGYY     subsequent_ais_non_adjusted\n",
       "  method                    nsnp b           se         pval        \n",
       "1 Inverse variance weighted 10   -0.14755911 0.04227295 0.0004818876\n",
       "2 Inverse variance weighted  9   -0.09150730 0.02699385 0.0006990994\n",
       "3 Inverse variance weighted  5    0.08204006 0.02532138 0.0011954963\n",
       "4 Inverse variance weighted 16    0.05825818 0.02134723 0.0063512365\n",
       "5 Inverse variance weighted 10    0.08630869 0.02972722 0.0036918719\n",
       "6 Inverse variance weighted  9    0.08649938 0.03264705 0.0080603523\n",
       "  pval_adjusted marker.exposure\n",
       "1 0.4750380     6:109720350    \n",
       "2 0.4750380     15:44670474    \n",
       "3 0.5415598     1:207015957    \n",
       "4 0.9958199     1:22313371     \n",
       "5 0.9958199     14:38965830    \n",
       "6 0.9958199     16:3115272     "
      ]
     },
     "metadata": {},
     "output_type": "display_data"
    },
    {
     "name": "stdout",
     "output_type": "stream",
     "text": [
      "[1] \"MR AIS SlopeHunter Corrected Ordered by adjusted p palue\"\n"
     ]
    },
    {
     "data": {
      "text/html": [
       "<table class=\"dataframe\">\n",
       "<caption>A data.table: 6 × 11</caption>\n",
       "<thead>\n",
       "\t<tr><th scope=col>exposure</th><th scope=col>id.exposure</th><th scope=col>id.outcome</th><th scope=col>outcome</th><th scope=col>method</th><th scope=col>nsnp</th><th scope=col>b</th><th scope=col>se</th><th scope=col>pval</th><th scope=col>pval_adjusted</th><th scope=col>marker.exposure</th></tr>\n",
       "\t<tr><th scope=col>&lt;chr&gt;</th><th scope=col>&lt;chr&gt;</th><th scope=col>&lt;chr&gt;</th><th scope=col>&lt;chr&gt;</th><th scope=col>&lt;chr&gt;</th><th scope=col>&lt;int&gt;</th><th scope=col>&lt;dbl&gt;</th><th scope=col>&lt;dbl&gt;</th><th scope=col>&lt;dbl&gt;</th><th scope=col>&lt;dbl&gt;</th><th scope=col>&lt;chr&gt;</th></tr>\n",
       "</thead>\n",
       "<tbody>\n",
       "\t<tr><td>AGER   </td><td>NTANZK</td><td>1n0548</td><td>subsequent_ais_slopehunter</td><td>Inverse variance weighted</td><td>17</td><td>-0.12553253</td><td>0.03549722</td><td>0.0004056129</td><td>0.2719635</td><td>6:32155581 </td></tr>\n",
       "\t<tr><td>IL19   </td><td>eWg6bw</td><td>1n0548</td><td>subsequent_ais_slopehunter</td><td>Inverse variance weighted</td><td> 4</td><td> 0.07631327</td><td>0.02085222</td><td>0.0002524918</td><td>0.2719635</td><td>1:207015957</td></tr>\n",
       "\t<tr><td>CD164  </td><td>CTr32W</td><td>1n0548</td><td>subsequent_ais_slopehunter</td><td>Inverse variance weighted</td><td> 9</td><td>-0.14828944</td><td>0.04462253</td><td>0.0008899210</td><td>0.3977947</td><td>6:109720350</td></tr>\n",
       "\t<tr><td>AARSD1 </td><td>xDk915</td><td>1n0548</td><td>subsequent_ais_slopehunter</td><td>Inverse variance weighted</td><td> 3</td><td> 0.05923644</td><td>0.07182935</td><td>0.4095516182</td><td>0.9957890</td><td>17:41140545</td></tr>\n",
       "\t<tr><td>ABHD14B</td><td>AEO90g</td><td>1n0548</td><td>subsequent_ais_slopehunter</td><td>Inverse variance weighted</td><td> 3</td><td> 0.13025849</td><td>0.09188149</td><td>0.1562843949</td><td>0.9957890</td><td>3:52004097 </td></tr>\n",
       "\t<tr><td>ACAA1  </td><td>53gKzg</td><td>1n0548</td><td>subsequent_ais_slopehunter</td><td>Inverse variance weighted</td><td> 2</td><td>-0.20100211</td><td>0.12174999</td><td>0.0987505167</td><td>0.9957890</td><td>3:38170810 </td></tr>\n",
       "</tbody>\n",
       "</table>\n"
      ],
      "text/latex": [
       "A data.table: 6 × 11\n",
       "\\begin{tabular}{lllllllllll}\n",
       " exposure & id.exposure & id.outcome & outcome & method & nsnp & b & se & pval & pval\\_adjusted & marker.exposure\\\\\n",
       " <chr> & <chr> & <chr> & <chr> & <chr> & <int> & <dbl> & <dbl> & <dbl> & <dbl> & <chr>\\\\\n",
       "\\hline\n",
       "\t AGER    & NTANZK & 1n0548 & subsequent\\_ais\\_slopehunter & Inverse variance weighted & 17 & -0.12553253 & 0.03549722 & 0.0004056129 & 0.2719635 & 6:32155581 \\\\\n",
       "\t IL19    & eWg6bw & 1n0548 & subsequent\\_ais\\_slopehunter & Inverse variance weighted &  4 &  0.07631327 & 0.02085222 & 0.0002524918 & 0.2719635 & 1:207015957\\\\\n",
       "\t CD164   & CTr32W & 1n0548 & subsequent\\_ais\\_slopehunter & Inverse variance weighted &  9 & -0.14828944 & 0.04462253 & 0.0008899210 & 0.3977947 & 6:109720350\\\\\n",
       "\t AARSD1  & xDk915 & 1n0548 & subsequent\\_ais\\_slopehunter & Inverse variance weighted &  3 &  0.05923644 & 0.07182935 & 0.4095516182 & 0.9957890 & 17:41140545\\\\\n",
       "\t ABHD14B & AEO90g & 1n0548 & subsequent\\_ais\\_slopehunter & Inverse variance weighted &  3 &  0.13025849 & 0.09188149 & 0.1562843949 & 0.9957890 & 3:52004097 \\\\\n",
       "\t ACAA1   & 53gKzg & 1n0548 & subsequent\\_ais\\_slopehunter & Inverse variance weighted &  2 & -0.20100211 & 0.12174999 & 0.0987505167 & 0.9957890 & 3:38170810 \\\\\n",
       "\\end{tabular}\n"
      ],
      "text/markdown": [
       "\n",
       "A data.table: 6 × 11\n",
       "\n",
       "| exposure &lt;chr&gt; | id.exposure &lt;chr&gt; | id.outcome &lt;chr&gt; | outcome &lt;chr&gt; | method &lt;chr&gt; | nsnp &lt;int&gt; | b &lt;dbl&gt; | se &lt;dbl&gt; | pval &lt;dbl&gt; | pval_adjusted &lt;dbl&gt; | marker.exposure &lt;chr&gt; |\n",
       "|---|---|---|---|---|---|---|---|---|---|---|\n",
       "| AGER    | NTANZK | 1n0548 | subsequent_ais_slopehunter | Inverse variance weighted | 17 | -0.12553253 | 0.03549722 | 0.0004056129 | 0.2719635 | 6:32155581  |\n",
       "| IL19    | eWg6bw | 1n0548 | subsequent_ais_slopehunter | Inverse variance weighted |  4 |  0.07631327 | 0.02085222 | 0.0002524918 | 0.2719635 | 1:207015957 |\n",
       "| CD164   | CTr32W | 1n0548 | subsequent_ais_slopehunter | Inverse variance weighted |  9 | -0.14828944 | 0.04462253 | 0.0008899210 | 0.3977947 | 6:109720350 |\n",
       "| AARSD1  | xDk915 | 1n0548 | subsequent_ais_slopehunter | Inverse variance weighted |  3 |  0.05923644 | 0.07182935 | 0.4095516182 | 0.9957890 | 17:41140545 |\n",
       "| ABHD14B | AEO90g | 1n0548 | subsequent_ais_slopehunter | Inverse variance weighted |  3 |  0.13025849 | 0.09188149 | 0.1562843949 | 0.9957890 | 3:52004097  |\n",
       "| ACAA1   | 53gKzg | 1n0548 | subsequent_ais_slopehunter | Inverse variance weighted |  2 | -0.20100211 | 0.12174999 | 0.0987505167 | 0.9957890 | 3:38170810  |\n",
       "\n"
      ],
      "text/plain": [
       "  exposure id.exposure id.outcome outcome                   \n",
       "1 AGER     NTANZK      1n0548     subsequent_ais_slopehunter\n",
       "2 IL19     eWg6bw      1n0548     subsequent_ais_slopehunter\n",
       "3 CD164    CTr32W      1n0548     subsequent_ais_slopehunter\n",
       "4 AARSD1   xDk915      1n0548     subsequent_ais_slopehunter\n",
       "5 ABHD14B  AEO90g      1n0548     subsequent_ais_slopehunter\n",
       "6 ACAA1    53gKzg      1n0548     subsequent_ais_slopehunter\n",
       "  method                    nsnp b           se         pval        \n",
       "1 Inverse variance weighted 17   -0.12553253 0.03549722 0.0004056129\n",
       "2 Inverse variance weighted  4    0.07631327 0.02085222 0.0002524918\n",
       "3 Inverse variance weighted  9   -0.14828944 0.04462253 0.0008899210\n",
       "4 Inverse variance weighted  3    0.05923644 0.07182935 0.4095516182\n",
       "5 Inverse variance weighted  3    0.13025849 0.09188149 0.1562843949\n",
       "6 Inverse variance weighted  2   -0.20100211 0.12174999 0.0987505167\n",
       "  pval_adjusted marker.exposure\n",
       "1 0.2719635     6:32155581     \n",
       "2 0.2719635     1:207015957    \n",
       "3 0.3977947     6:109720350    \n",
       "4 0.9957890     17:41140545    \n",
       "5 0.9957890     3:52004097     \n",
       "6 0.9957890     3:38170810     "
      ]
     },
     "metadata": {},
     "output_type": "display_data"
    },
    {
     "name": "stdout",
     "output_type": "stream",
     "text": [
      "[1] \"MR AIS Dudbridge Corrected Ordered by adjusted p palue\"\n"
     ]
    },
    {
     "data": {
      "text/html": [
       "<table class=\"dataframe\">\n",
       "<caption>A data.table: 6 × 11</caption>\n",
       "<thead>\n",
       "\t<tr><th scope=col>exposure</th><th scope=col>id.exposure</th><th scope=col>id.outcome</th><th scope=col>outcome</th><th scope=col>method</th><th scope=col>nsnp</th><th scope=col>b</th><th scope=col>se</th><th scope=col>pval</th><th scope=col>pval_adjusted</th><th scope=col>marker.exposure</th></tr>\n",
       "\t<tr><th scope=col>&lt;chr&gt;</th><th scope=col>&lt;chr&gt;</th><th scope=col>&lt;chr&gt;</th><th scope=col>&lt;chr&gt;</th><th scope=col>&lt;chr&gt;</th><th scope=col>&lt;int&gt;</th><th scope=col>&lt;dbl&gt;</th><th scope=col>&lt;dbl&gt;</th><th scope=col>&lt;dbl&gt;</th><th scope=col>&lt;dbl&gt;</th><th scope=col>&lt;chr&gt;</th></tr>\n",
       "</thead>\n",
       "<tbody>\n",
       "\t<tr><td>CD164  </td><td>CTr32W</td><td>7xaRuy</td><td>subsequent_ais_dudbridge</td><td>Inverse variance weighted</td><td> 9</td><td>-0.16209616</td><td>0.04395879</td><td>0.0002265059</td><td>0.2040737</td><td>6:109720350</td></tr>\n",
       "\t<tr><td>IL19   </td><td>eWg6bw</td><td>7xaRuy</td><td>subsequent_ais_dudbridge</td><td>Inverse variance weighted</td><td> 4</td><td> 0.07437614</td><td>0.02059391</td><td>0.0003043605</td><td>0.2040737</td><td>1:207015957</td></tr>\n",
       "\t<tr><td>AGER   </td><td>NTANZK</td><td>7xaRuy</td><td>subsequent_ais_dudbridge</td><td>Inverse variance weighted</td><td>17</td><td>-0.11055154</td><td>0.03386579</td><td>0.0010969549</td><td>0.4903389</td><td>6:32155581 </td></tr>\n",
       "\t<tr><td>AARSD1 </td><td>xDk915</td><td>7xaRuy</td><td>subsequent_ais_dudbridge</td><td>Inverse variance weighted</td><td> 3</td><td> 0.05111178</td><td>0.07055191</td><td>0.4687856689</td><td>0.9985057</td><td>17:41140545</td></tr>\n",
       "\t<tr><td>ABHD14B</td><td>AEO90g</td><td>7xaRuy</td><td>subsequent_ais_dudbridge</td><td>Inverse variance weighted</td><td> 3</td><td> 0.05116201</td><td>0.04083596</td><td>0.2102542860</td><td>0.9985057</td><td>3:52004097 </td></tr>\n",
       "\t<tr><td>ACAA1  </td><td>53gKzg</td><td>7xaRuy</td><td>subsequent_ais_dudbridge</td><td>Inverse variance weighted</td><td> 2</td><td>-0.18359855</td><td>0.11998455</td><td>0.1259709476</td><td>0.9985057</td><td>3:38170810 </td></tr>\n",
       "</tbody>\n",
       "</table>\n"
      ],
      "text/latex": [
       "A data.table: 6 × 11\n",
       "\\begin{tabular}{lllllllllll}\n",
       " exposure & id.exposure & id.outcome & outcome & method & nsnp & b & se & pval & pval\\_adjusted & marker.exposure\\\\\n",
       " <chr> & <chr> & <chr> & <chr> & <chr> & <int> & <dbl> & <dbl> & <dbl> & <dbl> & <chr>\\\\\n",
       "\\hline\n",
       "\t CD164   & CTr32W & 7xaRuy & subsequent\\_ais\\_dudbridge & Inverse variance weighted &  9 & -0.16209616 & 0.04395879 & 0.0002265059 & 0.2040737 & 6:109720350\\\\\n",
       "\t IL19    & eWg6bw & 7xaRuy & subsequent\\_ais\\_dudbridge & Inverse variance weighted &  4 &  0.07437614 & 0.02059391 & 0.0003043605 & 0.2040737 & 1:207015957\\\\\n",
       "\t AGER    & NTANZK & 7xaRuy & subsequent\\_ais\\_dudbridge & Inverse variance weighted & 17 & -0.11055154 & 0.03386579 & 0.0010969549 & 0.4903389 & 6:32155581 \\\\\n",
       "\t AARSD1  & xDk915 & 7xaRuy & subsequent\\_ais\\_dudbridge & Inverse variance weighted &  3 &  0.05111178 & 0.07055191 & 0.4687856689 & 0.9985057 & 17:41140545\\\\\n",
       "\t ABHD14B & AEO90g & 7xaRuy & subsequent\\_ais\\_dudbridge & Inverse variance weighted &  3 &  0.05116201 & 0.04083596 & 0.2102542860 & 0.9985057 & 3:52004097 \\\\\n",
       "\t ACAA1   & 53gKzg & 7xaRuy & subsequent\\_ais\\_dudbridge & Inverse variance weighted &  2 & -0.18359855 & 0.11998455 & 0.1259709476 & 0.9985057 & 3:38170810 \\\\\n",
       "\\end{tabular}\n"
      ],
      "text/markdown": [
       "\n",
       "A data.table: 6 × 11\n",
       "\n",
       "| exposure &lt;chr&gt; | id.exposure &lt;chr&gt; | id.outcome &lt;chr&gt; | outcome &lt;chr&gt; | method &lt;chr&gt; | nsnp &lt;int&gt; | b &lt;dbl&gt; | se &lt;dbl&gt; | pval &lt;dbl&gt; | pval_adjusted &lt;dbl&gt; | marker.exposure &lt;chr&gt; |\n",
       "|---|---|---|---|---|---|---|---|---|---|---|\n",
       "| CD164   | CTr32W | 7xaRuy | subsequent_ais_dudbridge | Inverse variance weighted |  9 | -0.16209616 | 0.04395879 | 0.0002265059 | 0.2040737 | 6:109720350 |\n",
       "| IL19    | eWg6bw | 7xaRuy | subsequent_ais_dudbridge | Inverse variance weighted |  4 |  0.07437614 | 0.02059391 | 0.0003043605 | 0.2040737 | 1:207015957 |\n",
       "| AGER    | NTANZK | 7xaRuy | subsequent_ais_dudbridge | Inverse variance weighted | 17 | -0.11055154 | 0.03386579 | 0.0010969549 | 0.4903389 | 6:32155581  |\n",
       "| AARSD1  | xDk915 | 7xaRuy | subsequent_ais_dudbridge | Inverse variance weighted |  3 |  0.05111178 | 0.07055191 | 0.4687856689 | 0.9985057 | 17:41140545 |\n",
       "| ABHD14B | AEO90g | 7xaRuy | subsequent_ais_dudbridge | Inverse variance weighted |  3 |  0.05116201 | 0.04083596 | 0.2102542860 | 0.9985057 | 3:52004097  |\n",
       "| ACAA1   | 53gKzg | 7xaRuy | subsequent_ais_dudbridge | Inverse variance weighted |  2 | -0.18359855 | 0.11998455 | 0.1259709476 | 0.9985057 | 3:38170810  |\n",
       "\n"
      ],
      "text/plain": [
       "  exposure id.exposure id.outcome outcome                 \n",
       "1 CD164    CTr32W      7xaRuy     subsequent_ais_dudbridge\n",
       "2 IL19     eWg6bw      7xaRuy     subsequent_ais_dudbridge\n",
       "3 AGER     NTANZK      7xaRuy     subsequent_ais_dudbridge\n",
       "4 AARSD1   xDk915      7xaRuy     subsequent_ais_dudbridge\n",
       "5 ABHD14B  AEO90g      7xaRuy     subsequent_ais_dudbridge\n",
       "6 ACAA1    53gKzg      7xaRuy     subsequent_ais_dudbridge\n",
       "  method                    nsnp b           se         pval        \n",
       "1 Inverse variance weighted  9   -0.16209616 0.04395879 0.0002265059\n",
       "2 Inverse variance weighted  4    0.07437614 0.02059391 0.0003043605\n",
       "3 Inverse variance weighted 17   -0.11055154 0.03386579 0.0010969549\n",
       "4 Inverse variance weighted  3    0.05111178 0.07055191 0.4687856689\n",
       "5 Inverse variance weighted  3    0.05116201 0.04083596 0.2102542860\n",
       "6 Inverse variance weighted  2   -0.18359855 0.11998455 0.1259709476\n",
       "  pval_adjusted marker.exposure\n",
       "1 0.2040737     6:109720350    \n",
       "2 0.2040737     1:207015957    \n",
       "3 0.4903389     6:32155581     \n",
       "4 0.9985057     17:41140545    \n",
       "5 0.9985057     3:52004097     \n",
       "6 0.9985057     3:38170810     "
      ]
     },
     "metadata": {},
     "output_type": "display_data"
    }
   ],
   "source": [
    "mr_mace <- merge_marker_data(data.table::fread(\"scratch/results/mr/mr_subsequent_mace.tsv\"))\n",
    "mr_mace_slopehunter <- merge_marker_data(data.table::fread(\"scratch/results/mr/mr_subsequent_mace_slopehunter.tsv\"))\n",
    "mr_mace_dudbridge <- merge_marker_data(data.table::fread(\"scratch/results/mr/mr_subsequent_mace_dudbridge.tsv\"))\n",
    "\n",
    "mr_ais <- merge_marker_data(data.table::fread(\"scratch/results/mr/mr_subsequent_ais.tsv\"))\n",
    "mr_ais_slopehunter <- merge_marker_data(data.table::fread(\"scratch/results/mr/mr_subsequent_ais_slopehunter.tsv\"))\n",
    "mr_ais_dudbridge <- merge_marker_data(data.table::fread(\"scratch/results/mr/mr_subsequent_ais_dudbridge.tsv\"))\n",
    "\n",
    "print(\"MR MACE Ordered by adjusted p palue\")\n",
    "head(mr_mace[with(mr_mace, order(pval_adjusted)), ])\n",
    "print(\"MR MACE SlopeHunter Corrected Ordered by adjusted p palue\")\n",
    "head(mr_mace_slopehunter[with(mr_mace_slopehunter, order(pval_adjusted)), ])\n",
    "print(\"MR MACE Dudbridge Corrected Ordered by adjusted p palue\")\n",
    "head(mr_mace_dudbridge[with(mr_mace_dudbridge, order(pval_adjusted)), ])\n",
    "\n",
    "print(\"MR AIS Ordered by adjusted p palue\")\n",
    "head(mr_ais[with(mr_ais, order(pval_adjusted)), ])\n",
    "print(\"MR AIS SlopeHunter Corrected Ordered by adjusted p palue\")\n",
    "head(mr_ais_slopehunter[with(mr_ais_slopehunter, order(pval_adjusted)), ])\n",
    "print(\"MR AIS Dudbridge Corrected Ordered by adjusted p palue\")\n",
    "head(mr_ais_dudbridge[with(mr_ais_dudbridge, order(pval_adjusted)), ])"
   ]
  },
  {
   "cell_type": "markdown",
   "id": "ec6b4612-5891-4ad6-a232-9dbe3f37ebd5",
   "metadata": {},
   "source": [
    "-------------\n",
    "## Code that generated the above data\n",
    "-------------"
   ]
  },
  {
   "cell_type": "code",
   "execution_count": 3,
   "id": "dab218af-d51c-40fb-af25-3178f8b984c2",
   "metadata": {
    "tags": []
   },
   "outputs": [],
   "source": [
    "pqtl_data <- data.table::fread(\"scratch/data/pqtl/all_biobank_pqtl_cis_instruments.tsv\", select = c(\"exposure\", \"marker.exposure\"))\n",
    "\n",
    "merge_marker_data <- function(df) {\n",
    "    df <- merge(df, pqtl_data, by=\"exposure\")\n",
    "    return(df)\n",
    "}"
   ]
  },
  {
   "cell_type": "code",
   "execution_count": null,
   "id": "321d9de2-a1d4-440f-90e9-ca80e97b64f6",
   "metadata": {
    "tags": []
   },
   "outputs": [],
   "source": [
    "library(TwoSampleMR)\n",
    "q()\n",
    "\n",
    "ais_exp<- TwoSampleMR::read_exposure_data(\"scratch/data/pqtl/all_biobank_pqtl_cis_instruments.tsv\",\n",
    "                            sep=\"\\t\",\n",
    "                            snp_col=\"marker.exposure\",\n",
    "                            effect_allele_col=\"effect_allele.exposure\",\n",
    "                            other_allele_col=\"other_allele.exposure\",\n",
    "                            eaf_col=\"eaf.exposure\",\n",
    "                            beta_col=\"beta.exposure\",\n",
    "                            se_col=\"se.exposure\",\n",
    "                            pval_col=\"pval.exposure\",\n",
    "                            phenotype_col=\"exposure\"\n",
    ")\n",
    "\n",
    "#ais_exp <- clump_data(ais_exp)\n",
    "\n",
    "ais_outcome_data <- TwoSampleMR::read_outcome_data(\"scratch/results/meta_analysis/subsequent_ais_metal_metaanalysis.tbl\",\n",
    "                  sep = \"\\t\",\n",
    "                  snp_col = \"MARKER\",\n",
    "                  beta_col = \"BETA\",\n",
    "                  se_col = \"SE\",\n",
    "                  effect_allele_col = \"Allele1\",\n",
    "                  other_allele_col = \"Allele2\",\n",
    "                  pval_col = \"P\",\n",
    "                  eaf_col = \"Freq1\",\n",
    "                  snps = ais_exp$SNP\n",
    ")\n",
    "ais_outcome_data$outcome <- \"subsequent_ais_non_adjusted\"\n",
    "\n",
    "ais_outcome_data_slopehunter <- TwoSampleMR::read_outcome_data(\"scratch/results/subsequent_ais_metaanalysis_slopehunter1.txt\",\n",
    "                  sep=\" \",\n",
    "                  snp_col = \"MARKER\",\n",
    "                  beta_col = \"BETA\",\n",
    "                  se_col = \"SE\",\n",
    "                  effect_allele_col = \"EA\",\n",
    "                  other_allele_col = \"NONEA\",\n",
    "                  pval_col = \"P\",\n",
    "                  eaf_col = \"EAF\",\n",
    "                  snps = ais_exp$SNP\n",
    ")\n",
    "ais_outcome_data_slopehunter$outcome <- \"subsequent_ais_slopehunter\"\n",
    "\n",
    "ais_outcome_data_dudbridge <- TwoSampleMR::read_outcome_data(\"scratch/results/subsequent_ais_metaanalysis_dudbridge1.txt\",\n",
    "                  sep=\" \",\n",
    "                  snp_col = \"MARKER\",\n",
    "                  beta_col = \"BETA\",\n",
    "                  se_col = \"SE\",\n",
    "                  effect_allele_col = \"EA\",\n",
    "                  other_allele_col = \"NONEA\",\n",
    "                  pval_col = \"P\",\n",
    "                  eaf_col = \"EAF\",\n",
    "                  snps = ais_exp$SNP\n",
    ")\n",
    "ais_outcome_data_dudbridge$outcome <- \"subsequent_ais_dudbridge\"\n",
    "\n",
    "ais_harmonized <- TwoSampleMR::harmonise_data(ais_exp, ais_outcome_data)\n",
    "ais_results <- mr(ais_harmonized, method_list=c(\"mr_wald_ratio\", \"mr_ivw\"))\n",
    "ais_results$pval_adjusted <- p.adjust(ais_results$pval, \"fdr\")\n",
    "\n",
    "\n",
    "ais_slopehunter_harmonized <- TwoSampleMR::harmonise_data(ais_exp, ais_outcome_data_slopehunter)\n",
    "ais_slopehunter_results <- mr(ais_slopehunter_harmonized, method_list=c(\"mr_wald_ratio\", \"mr_ivw\"))\n",
    "ais_slopehunter_results$pval_adjusted <- p.adjust(ais_slopehunter_results$pval, \"fdr\")\n",
    "\n",
    "ais_dudbridge_harmonized <- TwoSampleMR::harmonise_data(ais_exp, ais_outcome_data_dudbridge)\n",
    "ais_dudbridge_results <- mr(ais_dudbridge_harmonized, method_list=c(\"mr_wald_ratio\", \"mr_ivw\"))\n",
    "ais_dudbridge_results$pval_adjusted <- p.adjust(ais_dudbridge_results$pval, \"fdr\")\n",
    "\n",
    "data.table::fwrite(ais_results, \"scratch/results/mr/mr_subsequent_ais_cis.tsv\", sep=\"\\t\")\n",
    "data.table::fwrite(ais_slopehunter_results, \"scratch/results/mr/mr_subsequent_ais_slopehunter_cis.tsv\", sep=\"\\t\")\n",
    "data.table::fwrite(ais_dudbridge_results, \"scratch/results/mr/mr_subsequent_ais_dudbridge_cis.tsv\", sep=\"\\t\")"
   ]
  },
  {
   "cell_type": "code",
   "execution_count": null,
   "id": "5dc20523-78c8-463c-a1aa-578666261aa9",
   "metadata": {
    "tags": []
   },
   "outputs": [],
   "source": [
    "library(TwoSampleMR)\n",
    "\n",
    "ais_exp<- TwoSampleMR::read_exposure_data(\"scratch/data/pqtl/all_biobank_pqtl_cis_instruments.tsv\",\n",
    "                            sep=\"\\t\",\n",
    "                            snp_col=\"marker.exposure\",\n",
    "                            effect_allele_col=\"effect_allele.exposure\",\n",
    "                            other_allele_col=\"other_allele.exposure\",\n",
    "                            eaf_col=\"eaf.exposure\",\n",
    "                            beta_col=\"beta.exposure\",\n",
    "                            se_col=\"se.exposure\",\n",
    "                            pval_col=\"pval.exposure\",\n",
    "                            phenotype_col=\"exposure\"\n",
    ")\n",
    "#ais_exp <- clump_data(ais_exp)\n",
    "\n",
    "mace_outcome_data <- TwoSampleMR::read_outcome_data(\"scratch/results/meta_analysis/subsequent_mace_metal_metaanalysis.tbl\",\n",
    "                  sep = \"\\t\",\n",
    "                  snp_col = \"MARKER\",\n",
    "                  beta_col = \"BETA\",\n",
    "                  se_col = \"SE\",\n",
    "                  effect_allele_col = \"Allele1\",\n",
    "                  other_allele_col = \"Allele2\",\n",
    "                  pval_col = \"P\",\n",
    "                  eaf_col = \"Freq1\",\n",
    "                  snps = ais_exp$SNP\n",
    ")\n",
    "mace_outcome_data$outcome <- \"subsequent_mace_non_adjusted\"\n",
    "\n",
    "mace_outcome_data_slopehunter <- TwoSampleMR::read_outcome_data(\"scratch/results/subsequent_mace_metaanalysis_slopehunter1.txt\",\n",
    "                  sep=\" \",\n",
    "                  snp_col = \"MARKER\",\n",
    "                  beta_col = \"BETA\",\n",
    "                  se_col = \"SE\",\n",
    "                  effect_allele_col = \"EA\",\n",
    "                  other_allele_col = \"NONEA\",\n",
    "                  pval_col = \"P\",\n",
    "                  eaf_col = \"EAF\",\n",
    "                  snps = ais_exp$SNP\n",
    ")\n",
    "mace_outcome_data_slopehunter$outcome <- \"subsequent_mace_slopehunter\"\n",
    "\n",
    "mace_outcome_data_dudbridge <- TwoSampleMR::read_outcome_data(\"scratch/results/subsequent_mace_metaanalysis_dudbridge1.txt\",\n",
    "                  sep=\" \",\n",
    "                  snp_col = \"MARKER\",\n",
    "                  beta_col = \"BETA\",\n",
    "                  se_col = \"SE\",\n",
    "                  effect_allele_col = \"EA\",\n",
    "                  other_allele_col = \"NONEA\",\n",
    "                  pval_col = \"P\",\n",
    "                  eaf_col = \"EAF\",\n",
    "                  snps = ais_exp$SNP\n",
    ")\n",
    "mace_outcome_data_dudbridge$outcome <- \"subsequent_mace_dudbridge\"\n",
    "\n",
    "mace_harmonized <- TwoSampleMR::harmonise_data(ais_exp, mace_outcome_data)\n",
    "mace_results <- mr(mace_harmonized, method_list=c(\"mr_wald_ratio\", \"mr_ivw\"))\n",
    "mace_results$pval_adjusted <- p.adjust(mace_results$pval, \"fdr\")\n",
    "\n",
    "\n",
    "mace_slopehunter_harmonized <- TwoSampleMR::harmonise_data(ais_exp, mace_outcome_data_slopehunter)\n",
    "mace_slopehunter_results <- mr(mace_slopehunter_harmonized, method_list=c(\"mr_wald_ratio\", \"mr_ivw\"))\n",
    "mace_slopehunter_results$pval_adjusted <- p.adjust(mace_slopehunter_results$pval, \"fdr\")\n",
    "\n",
    "mace_dudbridge_harmonized <- TwoSampleMR::harmonise_data(ais_exp, mace_outcome_data_dudbridge)\n",
    "mace_dudbridge_results <- mr(mace_dudbridge_harmonized, method_list=c(\"mr_wald_ratio\", \"mr_ivw\"))\n",
    "mace_dudbridge_results$pval_adjusted <- p.adjust(mace_dudbridge_results$pval, \"fdr\")\n",
    "\n",
    "data.table::fwrite(mace_results, \"scratch/results/mr/mr_subsequent_mace_cis.tsv\", sep=\"\\t\")\n",
    "data.table::fwrite(mace_slopehunter_results, \"scratch/results/mr/mr_subsequent_mace_slopehunter_cis.tsv\", sep=\"\\t\")\n",
    "data.table::fwrite(mace_dudbridge_results, \"scratch/results/mr/mr_subsequent_mace_dudbridge_cis.tsv\", sep=\"\\t\")\n"
   ]
  },
  {
   "cell_type": "code",
   "execution_count": null,
   "id": "41b242ae-9a8c-4e1f-98e0-411bc914210a",
   "metadata": {
    "tags": []
   },
   "outputs": [],
   "source": [
    "library(TwoSampleMR)\n",
    "\n",
    "ais_exp <- TwoSampleMR::read_exposure_data(\"scratch/data/pqtl/all_biobank_pqtl_cis_instruments.tsv\",\n",
    "                            sep=\"\\t\",\n",
    "                            snp_col=\"marker.exposure\",\n",
    "                            effect_allele_col=\"effect_allele.exposure\",\n",
    "                            other_allele_col=\"other_allele.exposure\",\n",
    "                            eaf_col=\"eaf.exposure\",\n",
    "                            beta_col=\"beta.exposure\",\n",
    "                            se_col=\"se.exposure\",\n",
    "                            pval_col=\"pval.exposure\",\n",
    "                            phenotype_col=\"exposure\"\n",
    ")\n",
    "#ais_exp <- clump_data(ais_exp)\n",
    "\n",
    "\n",
    "ais_eu_outcome_data <- TwoSampleMR::read_outcome_data(\"scratch/data/first_ais_eur_metaanalysis.txt\",\n",
    "                  sep = \" \",\n",
    "                  snp_col = \"MARKER\",\n",
    "                  beta_col = \"BETA\",\n",
    "                  se_col = \"SE\",\n",
    "                  effect_allele_col = \"EA\",\n",
    "                  other_allele_col = \"NONEA\",\n",
    "                  pval_col = \"P\",\n",
    "                  eaf_col = \"EAF\",\n",
    "                  snps = ais_exp$SNP\n",
    ")\n",
    "ais_eu_outcome_data$outcome <- \"incidence_eur_ais_non_adjusted\"\n",
    "\n",
    "ais_harmonized <- TwoSampleMR::harmonise_data(ais_exp, ais_eu_outcome_data)\n",
    "ais_results <- mr(ais_harmonized, method_list=c(\"mr_wald_ratio\", \"mr_ivw\"))\n",
    "ais_results$pval_adjusted <- p.adjust(ais_results$pval, \"fdr\")\n",
    "\n",
    "#data.table::fwrite(ais_results, \"scratch/results/mr/mr_incidence_ais.tsv\", sep=\"\\t\")\n",
    "data.table::fwrite(ais_results, \"scratch/results/mr/mr_eu_incidence_ais.tsv\", sep=\"\\t\")"
   ]
  }
 ],
 "metadata": {
  "kernelspec": {
   "display_name": "R",
   "language": "R",
   "name": "ir"
  },
  "language_info": {
   "codemirror_mode": "r",
   "file_extension": ".r",
   "mimetype": "text/x-r-source",
   "name": "R",
   "pygments_lexer": "r",
   "version": "4.2.3"
  }
 },
 "nbformat": 4,
 "nbformat_minor": 5
}
