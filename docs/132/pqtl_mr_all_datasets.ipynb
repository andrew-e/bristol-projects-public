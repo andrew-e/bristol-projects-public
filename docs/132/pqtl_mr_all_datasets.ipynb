{
 "cells": [
  {
   "cell_type": "markdown",
   "id": "edc55e51-918d-4280-a898-2b1a75b014d4",
   "metadata": {},
   "source": [
    "# Results from Running MR on pQTL data\n",
    "\n",
    "Below are results from \n",
    "* pQTL -> published AIS\n",
    "* pQTL -> Subsequent MACE (original, slopehunter adjusted)\n",
    "* pQTL -> Subsequent AIS (original, slopehunter adjusted)\n",
    "\n"
   ]
  },
  {
   "cell_type": "code",
   "execution_count": 2,
   "id": "206e3a17-395d-4456-82d4-0de6135b3a67",
   "metadata": {
    "tags": []
   },
   "outputs": [],
   "source": [
    "merge_original_pqtl_pval <- function(mr_results, exposures) {\n",
    "    colnames(exposures) <- c(\"exposure\",\"pqtl_pval\")\n",
    "    return(merge(mr_results, exposures, by=\"exposure\"))\n",
    "}"
   ]
  },
  {
   "cell_type": "code",
   "execution_count": 9,
   "id": "9adf091c-5a14-46db-8994-6546cdd0f551",
   "metadata": {
    "tags": []
   },
   "outputs": [
    {
     "data": {
      "text/markdown": [
       "### Subsequent AIS pQTL comparison"
      ]
     },
     "metadata": {},
     "output_type": "display_data"
    },
    {
     "data": {
      "text/html": [
       "<table class=\"dataframe\">\n",
       "<caption>A data.table: 7 × 11</caption>\n",
       "<thead>\n",
       "\t<tr><th scope=col>exposure</th><th scope=col>id.exposure</th><th scope=col>id.outcome</th><th scope=col>outcome</th><th scope=col>method</th><th scope=col>nsnp</th><th scope=col>b</th><th scope=col>se</th><th scope=col>pval</th><th scope=col>pval_adjusted</th><th scope=col>pqtl_pval</th></tr>\n",
       "\t<tr><th scope=col>&lt;chr&gt;</th><th scope=col>&lt;chr&gt;</th><th scope=col>&lt;chr&gt;</th><th scope=col>&lt;chr&gt;</th><th scope=col>&lt;chr&gt;</th><th scope=col>&lt;int&gt;</th><th scope=col>&lt;dbl&gt;</th><th scope=col>&lt;dbl&gt;</th><th scope=col>&lt;dbl&gt;</th><th scope=col>&lt;dbl&gt;</th><th scope=col>&lt;dbl&gt;</th></tr>\n",
       "</thead>\n",
       "<tbody>\n",
       "\t<tr><td>CCL27   </td><td>rsPaBv</td><td>snw3Gr</td><td>subsequent_ais_aric           </td><td>Wald ratio</td><td>1</td><td>-0.60865624</td><td>0.17575180</td><td>5.338750e-04</td><td>0.002135500</td><td> 1.804020e-04</td></tr>\n",
       "\t<tr><td>CCL27   </td><td>R6Ptnt</td><td>thmMyl</td><td>subsequent_ais_decode         </td><td>Wald ratio</td><td>1</td><td>-0.85677083</td><td>0.24739583</td><td>5.338750e-04</td><td>0.001601625</td><td> 2.837000e-08</td></tr>\n",
       "\t<tr><td>CCL27   </td><td>EKehjv</td><td>fZ5nNw</td><td>subsequent_ais_phenoscanner   </td><td>Wald ratio</td><td>1</td><td>-0.40220049</td><td>0.11613692</td><td>5.338750e-04</td><td>0.001601625</td><td> 7.200000e-05</td></tr>\n",
       "\t<tr><td>CCL27   </td><td>Qn8W57</td><td>kuKFok</td><td>subsequent_ais_slopehunter_cis</td><td>Wald ratio</td><td>1</td><td>-0.18954318</td><td>0.05780611</td><td>1.041951e-03</td><td>0.540251421</td><td>5.176068e-166</td></tr>\n",
       "\t<tr><td>IL19    </td><td>Ps4kKE</td><td>kuKFok</td><td>subsequent_ais_slopehunter_cis</td><td>Wald ratio</td><td>1</td><td>-0.09164577</td><td>0.03489916</td><td>8.639069e-03</td><td>0.691912817</td><td> 0.000000e+00</td></tr>\n",
       "\t<tr><td>TNFRSF14</td><td>CAfoOe</td><td>fZ5nNw</td><td>subsequent_ais_phenoscanner   </td><td>Wald ratio</td><td>1</td><td> 0.60097720</td><td>0.16938111</td><td>3.880549e-04</td><td>0.001601625</td><td> 1.340000e-02</td></tr>\n",
       "\t<tr><td>TNFRSF14</td><td>4YPe28</td><td>kuKFok</td><td>subsequent_ais_slopehunter_cis</td><td>Wald ratio</td><td>1</td><td> 0.35195930</td><td>0.08973220</td><td>8.769673e-05</td><td>0.090941511</td><td> 8.079789e-56</td></tr>\n",
       "</tbody>\n",
       "</table>\n"
      ],
      "text/latex": [
       "A data.table: 7 × 11\n",
       "\\begin{tabular}{lllllllllll}\n",
       " exposure & id.exposure & id.outcome & outcome & method & nsnp & b & se & pval & pval\\_adjusted & pqtl\\_pval\\\\\n",
       " <chr> & <chr> & <chr> & <chr> & <chr> & <int> & <dbl> & <dbl> & <dbl> & <dbl> & <dbl>\\\\\n",
       "\\hline\n",
       "\t CCL27    & rsPaBv & snw3Gr & subsequent\\_ais\\_aric            & Wald ratio & 1 & -0.60865624 & 0.17575180 & 5.338750e-04 & 0.002135500 &  1.804020e-04\\\\\n",
       "\t CCL27    & R6Ptnt & thmMyl & subsequent\\_ais\\_decode          & Wald ratio & 1 & -0.85677083 & 0.24739583 & 5.338750e-04 & 0.001601625 &  2.837000e-08\\\\\n",
       "\t CCL27    & EKehjv & fZ5nNw & subsequent\\_ais\\_phenoscanner    & Wald ratio & 1 & -0.40220049 & 0.11613692 & 5.338750e-04 & 0.001601625 &  7.200000e-05\\\\\n",
       "\t CCL27    & Qn8W57 & kuKFok & subsequent\\_ais\\_slopehunter\\_cis & Wald ratio & 1 & -0.18954318 & 0.05780611 & 1.041951e-03 & 0.540251421 & 5.176068e-166\\\\\n",
       "\t IL19     & Ps4kKE & kuKFok & subsequent\\_ais\\_slopehunter\\_cis & Wald ratio & 1 & -0.09164577 & 0.03489916 & 8.639069e-03 & 0.691912817 &  0.000000e+00\\\\\n",
       "\t TNFRSF14 & CAfoOe & fZ5nNw & subsequent\\_ais\\_phenoscanner    & Wald ratio & 1 &  0.60097720 & 0.16938111 & 3.880549e-04 & 0.001601625 &  1.340000e-02\\\\\n",
       "\t TNFRSF14 & 4YPe28 & kuKFok & subsequent\\_ais\\_slopehunter\\_cis & Wald ratio & 1 &  0.35195930 & 0.08973220 & 8.769673e-05 & 0.090941511 &  8.079789e-56\\\\\n",
       "\\end{tabular}\n"
      ],
      "text/markdown": [
       "\n",
       "A data.table: 7 × 11\n",
       "\n",
       "| exposure &lt;chr&gt; | id.exposure &lt;chr&gt; | id.outcome &lt;chr&gt; | outcome &lt;chr&gt; | method &lt;chr&gt; | nsnp &lt;int&gt; | b &lt;dbl&gt; | se &lt;dbl&gt; | pval &lt;dbl&gt; | pval_adjusted &lt;dbl&gt; | pqtl_pval &lt;dbl&gt; |\n",
       "|---|---|---|---|---|---|---|---|---|---|---|\n",
       "| CCL27    | rsPaBv | snw3Gr | subsequent_ais_aric            | Wald ratio | 1 | -0.60865624 | 0.17575180 | 5.338750e-04 | 0.002135500 |  1.804020e-04 |\n",
       "| CCL27    | R6Ptnt | thmMyl | subsequent_ais_decode          | Wald ratio | 1 | -0.85677083 | 0.24739583 | 5.338750e-04 | 0.001601625 |  2.837000e-08 |\n",
       "| CCL27    | EKehjv | fZ5nNw | subsequent_ais_phenoscanner    | Wald ratio | 1 | -0.40220049 | 0.11613692 | 5.338750e-04 | 0.001601625 |  7.200000e-05 |\n",
       "| CCL27    | Qn8W57 | kuKFok | subsequent_ais_slopehunter_cis | Wald ratio | 1 | -0.18954318 | 0.05780611 | 1.041951e-03 | 0.540251421 | 5.176068e-166 |\n",
       "| IL19     | Ps4kKE | kuKFok | subsequent_ais_slopehunter_cis | Wald ratio | 1 | -0.09164577 | 0.03489916 | 8.639069e-03 | 0.691912817 |  0.000000e+00 |\n",
       "| TNFRSF14 | CAfoOe | fZ5nNw | subsequent_ais_phenoscanner    | Wald ratio | 1 |  0.60097720 | 0.16938111 | 3.880549e-04 | 0.001601625 |  1.340000e-02 |\n",
       "| TNFRSF14 | 4YPe28 | kuKFok | subsequent_ais_slopehunter_cis | Wald ratio | 1 |  0.35195930 | 0.08973220 | 8.769673e-05 | 0.090941511 |  8.079789e-56 |\n",
       "\n"
      ],
      "text/plain": [
       "  exposure id.exposure id.outcome outcome                        method    \n",
       "1 CCL27    rsPaBv      snw3Gr     subsequent_ais_aric            Wald ratio\n",
       "2 CCL27    R6Ptnt      thmMyl     subsequent_ais_decode          Wald ratio\n",
       "3 CCL27    EKehjv      fZ5nNw     subsequent_ais_phenoscanner    Wald ratio\n",
       "4 CCL27    Qn8W57      kuKFok     subsequent_ais_slopehunter_cis Wald ratio\n",
       "5 IL19     Ps4kKE      kuKFok     subsequent_ais_slopehunter_cis Wald ratio\n",
       "6 TNFRSF14 CAfoOe      fZ5nNw     subsequent_ais_phenoscanner    Wald ratio\n",
       "7 TNFRSF14 4YPe28      kuKFok     subsequent_ais_slopehunter_cis Wald ratio\n",
       "  nsnp b           se         pval         pval_adjusted pqtl_pval    \n",
       "1 1    -0.60865624 0.17575180 5.338750e-04 0.002135500    1.804020e-04\n",
       "2 1    -0.85677083 0.24739583 5.338750e-04 0.001601625    2.837000e-08\n",
       "3 1    -0.40220049 0.11613692 5.338750e-04 0.001601625    7.200000e-05\n",
       "4 1    -0.18954318 0.05780611 1.041951e-03 0.540251421   5.176068e-166\n",
       "5 1    -0.09164577 0.03489916 8.639069e-03 0.691912817    0.000000e+00\n",
       "6 1     0.60097720 0.16938111 3.880549e-04 0.001601625    1.340000e-02\n",
       "7 1     0.35195930 0.08973220 8.769673e-05 0.090941511    8.079789e-56"
      ]
     },
     "metadata": {},
     "output_type": "display_data"
    },
    {
     "data": {
      "text/markdown": [
       "### Subsequent MACE pQTL comparison"
      ]
     },
     "metadata": {},
     "output_type": "display_data"
    },
    {
     "data": {
      "text/html": [
       "<table class=\"dataframe\">\n",
       "<caption>A data.table: 7 × 11</caption>\n",
       "<thead>\n",
       "\t<tr><th scope=col>exposure</th><th scope=col>id.exposure</th><th scope=col>id.outcome</th><th scope=col>outcome</th><th scope=col>method</th><th scope=col>nsnp</th><th scope=col>b</th><th scope=col>se</th><th scope=col>pval</th><th scope=col>pval_adjusted</th><th scope=col>pqtl_pval</th></tr>\n",
       "\t<tr><th scope=col>&lt;chr&gt;</th><th scope=col>&lt;chr&gt;</th><th scope=col>&lt;chr&gt;</th><th scope=col>&lt;chr&gt;</th><th scope=col>&lt;chr&gt;</th><th scope=col>&lt;int&gt;</th><th scope=col>&lt;dbl&gt;</th><th scope=col>&lt;dbl&gt;</th><th scope=col>&lt;dbl&gt;</th><th scope=col>&lt;dbl&gt;</th><th scope=col>&lt;dbl&gt;</th></tr>\n",
       "</thead>\n",
       "<tbody>\n",
       "\t<tr><td>CCL27   </td><td>rsPaBv</td><td>vAgRVR</td><td>subsequent_mace_aric           </td><td>Wald ratio</td><td>1</td><td>-0.56240576</td><td>0.18037685</td><td>1.821145e-03</td><td>0.007284580</td><td> 1.804020e-04</td></tr>\n",
       "\t<tr><td>CCL27   </td><td>R6Ptnt</td><td>XeFfIA</td><td>subsequent_mace_decode         </td><td>Wald ratio</td><td>1</td><td>-0.79166667</td><td>0.25390625</td><td>1.821145e-03</td><td>0.005463435</td><td> 2.837000e-08</td></tr>\n",
       "\t<tr><td>CCL27   </td><td>EKehjv</td><td>8DtDUt</td><td>subsequent_mace_phenoscanner   </td><td>Wald ratio</td><td>1</td><td>-0.37163814</td><td>0.11919315</td><td>1.821145e-03</td><td>0.005463435</td><td> 7.200000e-05</td></tr>\n",
       "\t<tr><td>CCL27   </td><td>Qn8W57</td><td>Y5SY88</td><td>subsequent_mace_slopehunter_cis</td><td>Wald ratio</td><td>1</td><td>-0.26377839</td><td>0.05811035</td><td>5.645012e-06</td><td>0.005882102</td><td>5.176068e-166</td></tr>\n",
       "\t<tr><td>IL19    </td><td>Ps4kKE</td><td>Y5SY88</td><td>subsequent_mace_slopehunter_cis</td><td>Wald ratio</td><td>1</td><td>-0.06554233</td><td>0.03518289</td><td>6.247588e-02</td><td>0.989644370</td><td> 0.000000e+00</td></tr>\n",
       "\t<tr><td>TNFRSF14</td><td>CAfoOe</td><td>8DtDUt</td><td>subsequent_mace_phenoscanner   </td><td>Wald ratio</td><td>1</td><td> 0.65472313</td><td>0.17263844</td><td>1.491666e-04</td><td>0.000753140</td><td> 1.340000e-02</td></tr>\n",
       "\t<tr><td>TNFRSF14</td><td>4YPe28</td><td>Y5SY88</td><td>subsequent_mace_slopehunter_cis</td><td>Wald ratio</td><td>1</td><td> 0.24306100</td><td>0.09147457</td><td>7.880604e-03</td><td>0.826006445</td><td> 8.079789e-56</td></tr>\n",
       "</tbody>\n",
       "</table>\n"
      ],
      "text/latex": [
       "A data.table: 7 × 11\n",
       "\\begin{tabular}{lllllllllll}\n",
       " exposure & id.exposure & id.outcome & outcome & method & nsnp & b & se & pval & pval\\_adjusted & pqtl\\_pval\\\\\n",
       " <chr> & <chr> & <chr> & <chr> & <chr> & <int> & <dbl> & <dbl> & <dbl> & <dbl> & <dbl>\\\\\n",
       "\\hline\n",
       "\t CCL27    & rsPaBv & vAgRVR & subsequent\\_mace\\_aric            & Wald ratio & 1 & -0.56240576 & 0.18037685 & 1.821145e-03 & 0.007284580 &  1.804020e-04\\\\\n",
       "\t CCL27    & R6Ptnt & XeFfIA & subsequent\\_mace\\_decode          & Wald ratio & 1 & -0.79166667 & 0.25390625 & 1.821145e-03 & 0.005463435 &  2.837000e-08\\\\\n",
       "\t CCL27    & EKehjv & 8DtDUt & subsequent\\_mace\\_phenoscanner    & Wald ratio & 1 & -0.37163814 & 0.11919315 & 1.821145e-03 & 0.005463435 &  7.200000e-05\\\\\n",
       "\t CCL27    & Qn8W57 & Y5SY88 & subsequent\\_mace\\_slopehunter\\_cis & Wald ratio & 1 & -0.26377839 & 0.05811035 & 5.645012e-06 & 0.005882102 & 5.176068e-166\\\\\n",
       "\t IL19     & Ps4kKE & Y5SY88 & subsequent\\_mace\\_slopehunter\\_cis & Wald ratio & 1 & -0.06554233 & 0.03518289 & 6.247588e-02 & 0.989644370 &  0.000000e+00\\\\\n",
       "\t TNFRSF14 & CAfoOe & 8DtDUt & subsequent\\_mace\\_phenoscanner    & Wald ratio & 1 &  0.65472313 & 0.17263844 & 1.491666e-04 & 0.000753140 &  1.340000e-02\\\\\n",
       "\t TNFRSF14 & 4YPe28 & Y5SY88 & subsequent\\_mace\\_slopehunter\\_cis & Wald ratio & 1 &  0.24306100 & 0.09147457 & 7.880604e-03 & 0.826006445 &  8.079789e-56\\\\\n",
       "\\end{tabular}\n"
      ],
      "text/markdown": [
       "\n",
       "A data.table: 7 × 11\n",
       "\n",
       "| exposure &lt;chr&gt; | id.exposure &lt;chr&gt; | id.outcome &lt;chr&gt; | outcome &lt;chr&gt; | method &lt;chr&gt; | nsnp &lt;int&gt; | b &lt;dbl&gt; | se &lt;dbl&gt; | pval &lt;dbl&gt; | pval_adjusted &lt;dbl&gt; | pqtl_pval &lt;dbl&gt; |\n",
       "|---|---|---|---|---|---|---|---|---|---|---|\n",
       "| CCL27    | rsPaBv | vAgRVR | subsequent_mace_aric            | Wald ratio | 1 | -0.56240576 | 0.18037685 | 1.821145e-03 | 0.007284580 |  1.804020e-04 |\n",
       "| CCL27    | R6Ptnt | XeFfIA | subsequent_mace_decode          | Wald ratio | 1 | -0.79166667 | 0.25390625 | 1.821145e-03 | 0.005463435 |  2.837000e-08 |\n",
       "| CCL27    | EKehjv | 8DtDUt | subsequent_mace_phenoscanner    | Wald ratio | 1 | -0.37163814 | 0.11919315 | 1.821145e-03 | 0.005463435 |  7.200000e-05 |\n",
       "| CCL27    | Qn8W57 | Y5SY88 | subsequent_mace_slopehunter_cis | Wald ratio | 1 | -0.26377839 | 0.05811035 | 5.645012e-06 | 0.005882102 | 5.176068e-166 |\n",
       "| IL19     | Ps4kKE | Y5SY88 | subsequent_mace_slopehunter_cis | Wald ratio | 1 | -0.06554233 | 0.03518289 | 6.247588e-02 | 0.989644370 |  0.000000e+00 |\n",
       "| TNFRSF14 | CAfoOe | 8DtDUt | subsequent_mace_phenoscanner    | Wald ratio | 1 |  0.65472313 | 0.17263844 | 1.491666e-04 | 0.000753140 |  1.340000e-02 |\n",
       "| TNFRSF14 | 4YPe28 | Y5SY88 | subsequent_mace_slopehunter_cis | Wald ratio | 1 |  0.24306100 | 0.09147457 | 7.880604e-03 | 0.826006445 |  8.079789e-56 |\n",
       "\n"
      ],
      "text/plain": [
       "  exposure id.exposure id.outcome outcome                         method    \n",
       "1 CCL27    rsPaBv      vAgRVR     subsequent_mace_aric            Wald ratio\n",
       "2 CCL27    R6Ptnt      XeFfIA     subsequent_mace_decode          Wald ratio\n",
       "3 CCL27    EKehjv      8DtDUt     subsequent_mace_phenoscanner    Wald ratio\n",
       "4 CCL27    Qn8W57      Y5SY88     subsequent_mace_slopehunter_cis Wald ratio\n",
       "5 IL19     Ps4kKE      Y5SY88     subsequent_mace_slopehunter_cis Wald ratio\n",
       "6 TNFRSF14 CAfoOe      8DtDUt     subsequent_mace_phenoscanner    Wald ratio\n",
       "7 TNFRSF14 4YPe28      Y5SY88     subsequent_mace_slopehunter_cis Wald ratio\n",
       "  nsnp b           se         pval         pval_adjusted pqtl_pval    \n",
       "1 1    -0.56240576 0.18037685 1.821145e-03 0.007284580    1.804020e-04\n",
       "2 1    -0.79166667 0.25390625 1.821145e-03 0.005463435    2.837000e-08\n",
       "3 1    -0.37163814 0.11919315 1.821145e-03 0.005463435    7.200000e-05\n",
       "4 1    -0.26377839 0.05811035 5.645012e-06 0.005882102   5.176068e-166\n",
       "5 1    -0.06554233 0.03518289 6.247588e-02 0.989644370    0.000000e+00\n",
       "6 1     0.65472313 0.17263844 1.491666e-04 0.000753140    1.340000e-02\n",
       "7 1     0.24306100 0.09147457 7.880604e-03 0.826006445    8.079789e-56"
      ]
     },
     "metadata": {},
     "output_type": "display_data"
    },
    {
     "data": {
      "text/markdown": [
       "### Incident AIS pQTL comparison"
      ]
     },
     "metadata": {},
     "output_type": "display_data"
    },
    {
     "data": {
      "text/html": [
       "<table class=\"dataframe\">\n",
       "<caption>A data.table: 17 × 11</caption>\n",
       "<thead>\n",
       "\t<tr><th scope=col>exposure</th><th scope=col>id.exposure</th><th scope=col>id.outcome</th><th scope=col>outcome</th><th scope=col>method</th><th scope=col>nsnp</th><th scope=col>b</th><th scope=col>se</th><th scope=col>pval</th><th scope=col>pval_adjusted</th><th scope=col>pqtl_pval</th></tr>\n",
       "\t<tr><th scope=col>&lt;chr&gt;</th><th scope=col>&lt;chr&gt;</th><th scope=col>&lt;chr&gt;</th><th scope=col>&lt;chr&gt;</th><th scope=col>&lt;chr&gt;</th><th scope=col>&lt;int&gt;</th><th scope=col>&lt;dbl&gt;</th><th scope=col>&lt;dbl&gt;</th><th scope=col>&lt;dbl&gt;</th><th scope=col>&lt;dbl&gt;</th><th scope=col>&lt;dbl&gt;</th></tr>\n",
       "</thead>\n",
       "<tbody>\n",
       "\t<tr><td>CGREF1</td><td>rQaVOv</td><td>INUKiX</td><td>published_ais_cis         </td><td>Wald ratio</td><td>1</td><td>-0.04172412</td><td>0.010386261</td><td>5.888340e-05</td><td>7.113115e-03</td><td> 0.000000e+00</td></tr>\n",
       "\t<tr><td>COMT  </td><td>fuQcZX</td><td>lBNVIR</td><td>published_ais_aric        </td><td>Wald ratio</td><td>1</td><td>-0.47100494</td><td>0.116809224</td><td>5.524348e-05</td><td>1.177668e-04</td><td> 1.354570e-03</td></tr>\n",
       "\t<tr><td>COMT  </td><td>NSLrUT</td><td>LdEOtn</td><td>published_ais_decode      </td><td>Wald ratio</td><td>1</td><td>-0.30450670</td><td>0.075517661</td><td>5.524348e-05</td><td>1.059901e-04</td><td> 3.162000e-23</td></tr>\n",
       "\t<tr><td>CST6  </td><td>qhrLUV</td><td>lBNVIR</td><td>published_ais_aric        </td><td>Wald ratio</td><td>1</td><td> 0.07345203</td><td>0.017673889</td><td>3.239198e-05</td><td>1.079733e-04</td><td> 2.453230e-31</td></tr>\n",
       "\t<tr><td>CST6  </td><td>W7UH7U</td><td>INUKiX</td><td>published_ais_cis         </td><td>Wald ratio</td><td>1</td><td> 0.07622554</td><td>0.018341245</td><td>3.239198e-05</td><td>4.891189e-03</td><td>1.364583e-143</td></tr>\n",
       "\t<tr><td>CST6  </td><td>NOLeBh</td><td>LdEOtn</td><td>published_ais_decode      </td><td>Wald ratio</td><td>1</td><td> 0.08457804</td><td>0.020351008</td><td>3.239198e-05</td><td>9.717595e-05</td><td> 7.143000e-78</td></tr>\n",
       "\t<tr><td>CST6  </td><td>0EsJqk</td><td>qayDJE</td><td>published_ais_phenoscanner</td><td>Wald ratio</td><td>1</td><td> 0.07730375</td><td>0.018600683</td><td>3.239198e-05</td><td>9.717595e-05</td><td> 8.912509e-15</td></tr>\n",
       "\t<tr><td>FGF5  </td><td>s7WS3b</td><td>INUKiX</td><td>published_ais_cis         </td><td>Wald ratio</td><td>1</td><td> 0.06129667</td><td>0.008378681</td><td>2.558726e-13</td><td>1.545470e-10</td><td> 0.000000e+00</td></tr>\n",
       "\t<tr><td>FURIN </td><td>TMwec8</td><td>INUKiX</td><td>published_ais_cis         </td><td>Wald ratio</td><td>1</td><td> 0.12656548</td><td>0.033682749</td><td>1.715674e-04</td><td>1.727112e-02</td><td>1.815516e-141</td></tr>\n",
       "\t<tr><td>GRK5  </td><td>5xe0zC</td><td>INUKiX</td><td>published_ais_cis         </td><td>Wald ratio</td><td>1</td><td>-0.16458009</td><td>0.025777604</td><td>1.718288e-10</td><td>5.189229e-08</td><td>8.090959e-266</td></tr>\n",
       "\t<tr><td>MMP12 </td><td>oa1kjA</td><td>lBNVIR</td><td>published_ais_aric        </td><td>Wald ratio</td><td>1</td><td>-0.05793495</td><td>0.011640509</td><td>6.457349e-07</td><td>3.228674e-06</td><td>7.128450e-215</td></tr>\n",
       "\t<tr><td>MMP12 </td><td>vK39DA</td><td>INUKiX</td><td>published_ais_cis         </td><td>Wald ratio</td><td>1</td><td>-0.05813384</td><td>0.011680471</td><td>6.457349e-07</td><td>1.300080e-04</td><td> 0.000000e+00</td></tr>\n",
       "\t<tr><td>MMP12 </td><td>x5rElV</td><td>LdEOtn</td><td>published_ais_decode      </td><td>Wald ratio</td><td>1</td><td>-0.06083169</td><td>0.012222534</td><td>6.457349e-07</td><td>2.905807e-06</td><td> 0.000000e+00</td></tr>\n",
       "\t<tr><td>MMP12 </td><td>lf8xw8</td><td>qayDJE</td><td>published_ais_phenoscanner</td><td>Wald ratio</td><td>1</td><td>-0.05556268</td><td>0.011163865</td><td>6.457349e-07</td><td>2.905807e-06</td><td>1.096478e-110</td></tr>\n",
       "\t<tr><td>SCARA5</td><td>bRkvUr</td><td>lBNVIR</td><td>published_ais_aric        </td><td>Wald ratio</td><td>1</td><td>-0.08677679</td><td>0.024060838</td><td>3.102863e-04</td><td>4.432661e-04</td><td> 9.928290e-41</td></tr>\n",
       "\t<tr><td>SCARA5</td><td>iAIhMT</td><td>INUKiX</td><td>published_ais_cis         </td><td>Wald ratio</td><td>1</td><td>-0.06567047</td><td>0.018208629</td><td>3.102863e-04</td><td>2.677327e-02</td><td> 0.000000e+00</td></tr>\n",
       "\t<tr><td>SCARA5</td><td>RFD9qx</td><td>qayDJE</td><td>published_ais_phenoscanner</td><td>Wald ratio</td><td>1</td><td>-0.08699091</td><td>0.024120206</td><td>3.102863e-04</td><td>4.654294e-04</td><td> 6.025596e-20</td></tr>\n",
       "</tbody>\n",
       "</table>\n"
      ],
      "text/latex": [
       "A data.table: 17 × 11\n",
       "\\begin{tabular}{lllllllllll}\n",
       " exposure & id.exposure & id.outcome & outcome & method & nsnp & b & se & pval & pval\\_adjusted & pqtl\\_pval\\\\\n",
       " <chr> & <chr> & <chr> & <chr> & <chr> & <int> & <dbl> & <dbl> & <dbl> & <dbl> & <dbl>\\\\\n",
       "\\hline\n",
       "\t CGREF1 & rQaVOv & INUKiX & published\\_ais\\_cis          & Wald ratio & 1 & -0.04172412 & 0.010386261 & 5.888340e-05 & 7.113115e-03 &  0.000000e+00\\\\\n",
       "\t COMT   & fuQcZX & lBNVIR & published\\_ais\\_aric         & Wald ratio & 1 & -0.47100494 & 0.116809224 & 5.524348e-05 & 1.177668e-04 &  1.354570e-03\\\\\n",
       "\t COMT   & NSLrUT & LdEOtn & published\\_ais\\_decode       & Wald ratio & 1 & -0.30450670 & 0.075517661 & 5.524348e-05 & 1.059901e-04 &  3.162000e-23\\\\\n",
       "\t CST6   & qhrLUV & lBNVIR & published\\_ais\\_aric         & Wald ratio & 1 &  0.07345203 & 0.017673889 & 3.239198e-05 & 1.079733e-04 &  2.453230e-31\\\\\n",
       "\t CST6   & W7UH7U & INUKiX & published\\_ais\\_cis          & Wald ratio & 1 &  0.07622554 & 0.018341245 & 3.239198e-05 & 4.891189e-03 & 1.364583e-143\\\\\n",
       "\t CST6   & NOLeBh & LdEOtn & published\\_ais\\_decode       & Wald ratio & 1 &  0.08457804 & 0.020351008 & 3.239198e-05 & 9.717595e-05 &  7.143000e-78\\\\\n",
       "\t CST6   & 0EsJqk & qayDJE & published\\_ais\\_phenoscanner & Wald ratio & 1 &  0.07730375 & 0.018600683 & 3.239198e-05 & 9.717595e-05 &  8.912509e-15\\\\\n",
       "\t FGF5   & s7WS3b & INUKiX & published\\_ais\\_cis          & Wald ratio & 1 &  0.06129667 & 0.008378681 & 2.558726e-13 & 1.545470e-10 &  0.000000e+00\\\\\n",
       "\t FURIN  & TMwec8 & INUKiX & published\\_ais\\_cis          & Wald ratio & 1 &  0.12656548 & 0.033682749 & 1.715674e-04 & 1.727112e-02 & 1.815516e-141\\\\\n",
       "\t GRK5   & 5xe0zC & INUKiX & published\\_ais\\_cis          & Wald ratio & 1 & -0.16458009 & 0.025777604 & 1.718288e-10 & 5.189229e-08 & 8.090959e-266\\\\\n",
       "\t MMP12  & oa1kjA & lBNVIR & published\\_ais\\_aric         & Wald ratio & 1 & -0.05793495 & 0.011640509 & 6.457349e-07 & 3.228674e-06 & 7.128450e-215\\\\\n",
       "\t MMP12  & vK39DA & INUKiX & published\\_ais\\_cis          & Wald ratio & 1 & -0.05813384 & 0.011680471 & 6.457349e-07 & 1.300080e-04 &  0.000000e+00\\\\\n",
       "\t MMP12  & x5rElV & LdEOtn & published\\_ais\\_decode       & Wald ratio & 1 & -0.06083169 & 0.012222534 & 6.457349e-07 & 2.905807e-06 &  0.000000e+00\\\\\n",
       "\t MMP12  & lf8xw8 & qayDJE & published\\_ais\\_phenoscanner & Wald ratio & 1 & -0.05556268 & 0.011163865 & 6.457349e-07 & 2.905807e-06 & 1.096478e-110\\\\\n",
       "\t SCARA5 & bRkvUr & lBNVIR & published\\_ais\\_aric         & Wald ratio & 1 & -0.08677679 & 0.024060838 & 3.102863e-04 & 4.432661e-04 &  9.928290e-41\\\\\n",
       "\t SCARA5 & iAIhMT & INUKiX & published\\_ais\\_cis          & Wald ratio & 1 & -0.06567047 & 0.018208629 & 3.102863e-04 & 2.677327e-02 &  0.000000e+00\\\\\n",
       "\t SCARA5 & RFD9qx & qayDJE & published\\_ais\\_phenoscanner & Wald ratio & 1 & -0.08699091 & 0.024120206 & 3.102863e-04 & 4.654294e-04 &  6.025596e-20\\\\\n",
       "\\end{tabular}\n"
      ],
      "text/markdown": [
       "\n",
       "A data.table: 17 × 11\n",
       "\n",
       "| exposure &lt;chr&gt; | id.exposure &lt;chr&gt; | id.outcome &lt;chr&gt; | outcome &lt;chr&gt; | method &lt;chr&gt; | nsnp &lt;int&gt; | b &lt;dbl&gt; | se &lt;dbl&gt; | pval &lt;dbl&gt; | pval_adjusted &lt;dbl&gt; | pqtl_pval &lt;dbl&gt; |\n",
       "|---|---|---|---|---|---|---|---|---|---|---|\n",
       "| CGREF1 | rQaVOv | INUKiX | published_ais_cis          | Wald ratio | 1 | -0.04172412 | 0.010386261 | 5.888340e-05 | 7.113115e-03 |  0.000000e+00 |\n",
       "| COMT   | fuQcZX | lBNVIR | published_ais_aric         | Wald ratio | 1 | -0.47100494 | 0.116809224 | 5.524348e-05 | 1.177668e-04 |  1.354570e-03 |\n",
       "| COMT   | NSLrUT | LdEOtn | published_ais_decode       | Wald ratio | 1 | -0.30450670 | 0.075517661 | 5.524348e-05 | 1.059901e-04 |  3.162000e-23 |\n",
       "| CST6   | qhrLUV | lBNVIR | published_ais_aric         | Wald ratio | 1 |  0.07345203 | 0.017673889 | 3.239198e-05 | 1.079733e-04 |  2.453230e-31 |\n",
       "| CST6   | W7UH7U | INUKiX | published_ais_cis          | Wald ratio | 1 |  0.07622554 | 0.018341245 | 3.239198e-05 | 4.891189e-03 | 1.364583e-143 |\n",
       "| CST6   | NOLeBh | LdEOtn | published_ais_decode       | Wald ratio | 1 |  0.08457804 | 0.020351008 | 3.239198e-05 | 9.717595e-05 |  7.143000e-78 |\n",
       "| CST6   | 0EsJqk | qayDJE | published_ais_phenoscanner | Wald ratio | 1 |  0.07730375 | 0.018600683 | 3.239198e-05 | 9.717595e-05 |  8.912509e-15 |\n",
       "| FGF5   | s7WS3b | INUKiX | published_ais_cis          | Wald ratio | 1 |  0.06129667 | 0.008378681 | 2.558726e-13 | 1.545470e-10 |  0.000000e+00 |\n",
       "| FURIN  | TMwec8 | INUKiX | published_ais_cis          | Wald ratio | 1 |  0.12656548 | 0.033682749 | 1.715674e-04 | 1.727112e-02 | 1.815516e-141 |\n",
       "| GRK5   | 5xe0zC | INUKiX | published_ais_cis          | Wald ratio | 1 | -0.16458009 | 0.025777604 | 1.718288e-10 | 5.189229e-08 | 8.090959e-266 |\n",
       "| MMP12  | oa1kjA | lBNVIR | published_ais_aric         | Wald ratio | 1 | -0.05793495 | 0.011640509 | 6.457349e-07 | 3.228674e-06 | 7.128450e-215 |\n",
       "| MMP12  | vK39DA | INUKiX | published_ais_cis          | Wald ratio | 1 | -0.05813384 | 0.011680471 | 6.457349e-07 | 1.300080e-04 |  0.000000e+00 |\n",
       "| MMP12  | x5rElV | LdEOtn | published_ais_decode       | Wald ratio | 1 | -0.06083169 | 0.012222534 | 6.457349e-07 | 2.905807e-06 |  0.000000e+00 |\n",
       "| MMP12  | lf8xw8 | qayDJE | published_ais_phenoscanner | Wald ratio | 1 | -0.05556268 | 0.011163865 | 6.457349e-07 | 2.905807e-06 | 1.096478e-110 |\n",
       "| SCARA5 | bRkvUr | lBNVIR | published_ais_aric         | Wald ratio | 1 | -0.08677679 | 0.024060838 | 3.102863e-04 | 4.432661e-04 |  9.928290e-41 |\n",
       "| SCARA5 | iAIhMT | INUKiX | published_ais_cis          | Wald ratio | 1 | -0.06567047 | 0.018208629 | 3.102863e-04 | 2.677327e-02 |  0.000000e+00 |\n",
       "| SCARA5 | RFD9qx | qayDJE | published_ais_phenoscanner | Wald ratio | 1 | -0.08699091 | 0.024120206 | 3.102863e-04 | 4.654294e-04 |  6.025596e-20 |\n",
       "\n"
      ],
      "text/plain": [
       "   exposure id.exposure id.outcome outcome                    method     nsnp\n",
       "1  CGREF1   rQaVOv      INUKiX     published_ais_cis          Wald ratio 1   \n",
       "2  COMT     fuQcZX      lBNVIR     published_ais_aric         Wald ratio 1   \n",
       "3  COMT     NSLrUT      LdEOtn     published_ais_decode       Wald ratio 1   \n",
       "4  CST6     qhrLUV      lBNVIR     published_ais_aric         Wald ratio 1   \n",
       "5  CST6     W7UH7U      INUKiX     published_ais_cis          Wald ratio 1   \n",
       "6  CST6     NOLeBh      LdEOtn     published_ais_decode       Wald ratio 1   \n",
       "7  CST6     0EsJqk      qayDJE     published_ais_phenoscanner Wald ratio 1   \n",
       "8  FGF5     s7WS3b      INUKiX     published_ais_cis          Wald ratio 1   \n",
       "9  FURIN    TMwec8      INUKiX     published_ais_cis          Wald ratio 1   \n",
       "10 GRK5     5xe0zC      INUKiX     published_ais_cis          Wald ratio 1   \n",
       "11 MMP12    oa1kjA      lBNVIR     published_ais_aric         Wald ratio 1   \n",
       "12 MMP12    vK39DA      INUKiX     published_ais_cis          Wald ratio 1   \n",
       "13 MMP12    x5rElV      LdEOtn     published_ais_decode       Wald ratio 1   \n",
       "14 MMP12    lf8xw8      qayDJE     published_ais_phenoscanner Wald ratio 1   \n",
       "15 SCARA5   bRkvUr      lBNVIR     published_ais_aric         Wald ratio 1   \n",
       "16 SCARA5   iAIhMT      INUKiX     published_ais_cis          Wald ratio 1   \n",
       "17 SCARA5   RFD9qx      qayDJE     published_ais_phenoscanner Wald ratio 1   \n",
       "   b           se          pval         pval_adjusted pqtl_pval    \n",
       "1  -0.04172412 0.010386261 5.888340e-05 7.113115e-03   0.000000e+00\n",
       "2  -0.47100494 0.116809224 5.524348e-05 1.177668e-04   1.354570e-03\n",
       "3  -0.30450670 0.075517661 5.524348e-05 1.059901e-04   3.162000e-23\n",
       "4   0.07345203 0.017673889 3.239198e-05 1.079733e-04   2.453230e-31\n",
       "5   0.07622554 0.018341245 3.239198e-05 4.891189e-03  1.364583e-143\n",
       "6   0.08457804 0.020351008 3.239198e-05 9.717595e-05   7.143000e-78\n",
       "7   0.07730375 0.018600683 3.239198e-05 9.717595e-05   8.912509e-15\n",
       "8   0.06129667 0.008378681 2.558726e-13 1.545470e-10   0.000000e+00\n",
       "9   0.12656548 0.033682749 1.715674e-04 1.727112e-02  1.815516e-141\n",
       "10 -0.16458009 0.025777604 1.718288e-10 5.189229e-08  8.090959e-266\n",
       "11 -0.05793495 0.011640509 6.457349e-07 3.228674e-06  7.128450e-215\n",
       "12 -0.05813384 0.011680471 6.457349e-07 1.300080e-04   0.000000e+00\n",
       "13 -0.06083169 0.012222534 6.457349e-07 2.905807e-06   0.000000e+00\n",
       "14 -0.05556268 0.011163865 6.457349e-07 2.905807e-06  1.096478e-110\n",
       "15 -0.08677679 0.024060838 3.102863e-04 4.432661e-04   9.928290e-41\n",
       "16 -0.06567047 0.018208629 3.102863e-04 2.677327e-02   0.000000e+00\n",
       "17 -0.08699091 0.024120206 3.102863e-04 4.654294e-04   6.025596e-20"
      ]
     },
     "metadata": {},
     "output_type": "display_data"
    }
   ],
   "source": [
    "exposures = c(\"ADAMTS13\", \"CD2AP\", \"CGREF1\", \"COMT\", \"CST6\", \"EGFR\", \"FGF5\", \"FURIN\", \"GRK5\", \"KLK1\", \"MMP12\", \"PFKFB2\", \"SCARA5\")\n",
    "sub_exposures = c(\"CCL27\", \"IL19\", \"TNFRSF14\")\n",
    "\n",
    "ukbiobank <- data.table::fread(\"scratch/data/pqtl/all_biobank_pqtl_cis_instruments.tsv\", select=c(\"exposure\", \"pval.exposure\"))\n",
    "aric <- data.table::fread(\"scratch/data/pqtl/aric_interesting_exposures.tsv\", select=c(\"exposure\", \"P\"))\n",
    "decode <- data.table::fread(\"scratch/data/pqtl/decode_interesting_exposures.tsv\", select=c(\"exposure\", \"P\"))\n",
    "phenoscanner <- data.table::fread(\"scratch/data/pqtl/phenoscanner_interesting_exposures.tsv\", select=c(\"exposure\", \"P\"))\n",
    "\n",
    "mr_publised_ukb <- merge_original_pqtl_pval(data.table::fread(\"scratch/results/mr/mr_published_ais_cis.tsv\"), ukbiobank)\n",
    "mr_publised_aric <- merge_original_pqtl_pval(data.table::fread(\"scratch/results/mr/mr_published_ais_aric.tsv\"), aric)\n",
    "mr_published_decode <- merge_original_pqtl_pval(data.table::fread(\"scratch/results/mr/mr_published_ais_decode.tsv\"), decode)\n",
    "mr_published_phenoscanner <- merge_original_pqtl_pval(data.table::fread(\"scratch/results/mr/mr_published_ais_phenoscanner.tsv\"), phenoscanner)\n",
    "\n",
    "mr_sub_ais_ukb <- merge_original_pqtl_pval(data.table::fread(\"scratch/results/mr/mr_subsequent_ais_slopehunter_cis.tsv\"), ukbiobank)\n",
    "mr_sub_ais_aric <- merge_original_pqtl_pval(data.table::fread(\"scratch/results/mr/mr_subsequent_ais_sh_aric.tsv\"), aric)\n",
    "mr_sub_ais_decode <- merge_original_pqtl_pval(data.table::fread(\"scratch/results/mr/mr_subsequent_ais_sh_decode.tsv\"), decode)\n",
    "mr_sub_ais_phenoscanner <- merge_original_pqtl_pval(data.table::fread(\"scratch/results/mr/mr_subsequent_ais_sh_phenoscanner.tsv\"), phenoscanner)\n",
    "\n",
    "mr_sub_mace_ukb <- merge_original_pqtl_pval(data.table::fread(\"scratch/results/mr/mr_subsequent_mace_slopehunter_cis.tsv\"), ukbiobank)\n",
    "mr_sub_mace_aric <- merge_original_pqtl_pval(data.table::fread(\"scratch/results/mr/mr_subsequent_mace_sh_aric.tsv\"), aric)\n",
    "mr_sub_mace_decode <- merge_original_pqtl_pval(data.table::fread(\"scratch/results/mr/mr_subsequent_mace_sh_decode.tsv\"), decode)\n",
    "mr_sub_mace_phenoscanner <- merge_original_pqtl_pval(data.table::fread(\"scratch/results/mr/mr_subsequent_mace_sh_phenoscanner.tsv\"), phenoscanner)\n",
    "\n",
    "published <- rbind(mr_publised_ukb, mr_publised_aric, mr_published_decode, mr_published_phenoscanner, fill=TRUE)\n",
    "sub_ais <- rbind(mr_sub_ais_ukb, mr_sub_ais_aric, mr_sub_ais_decode, mr_sub_ais_phenoscanner, fill=TRUE)\n",
    "sub_mace <- rbind(mr_sub_mace_ukb, mr_sub_mace_aric, mr_sub_mace_decode, mr_sub_mace_phenoscanner, fill=TRUE)\n",
    "\n",
    "IRdisplay::display_markdown(\"### Subsequent AIS pQTL comparison\")\n",
    "sub_ais <- subset(sub_ais, (exposure %in% sub_exposures) == TRUE & pqtl_pval < 0.1)\n",
    "sub_ais[with(sub_ais, order(exposure, outcome)), ]\n",
    "\n",
    "IRdisplay::display_markdown(\"### Subsequent MACE pQTL comparison\")\n",
    "sub_mace <- subset(sub_mace, (exposure %in% sub_exposures) == TRUE & pqtl_pval < 0.1)\n",
    "sub_mace[with(sub_mace, order(exposure, outcome)), ]\n",
    "\n",
    "IRdisplay::display_markdown(\"### Incident AIS pQTL comparison\")\n",
    "published <- subset(published, (exposure %in% exposures) == TRUE & pqtl_pval < 0.1)\n",
    "published[with(published, order(exposure, outcome)), ]"
   ]
  }
 ],
 "metadata": {
  "kernelspec": {
   "display_name": "R",
   "language": "R",
   "name": "ir"
  },
  "language_info": {
   "codemirror_mode": "r",
   "file_extension": ".r",
   "mimetype": "text/x-r-source",
   "name": "R",
   "pygments_lexer": "r",
   "version": "4.2.3"
  }
 },
 "nbformat": 4,
 "nbformat_minor": 5
}
